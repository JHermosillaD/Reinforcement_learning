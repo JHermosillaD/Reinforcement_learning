{
  "cells": [
    {
      "cell_type": "markdown",
      "id": "LpcAi1NU-plI",
      "metadata": {
        "id": "LpcAi1NU-plI"
      },
      "source": [
        "# Reinforcement learning velocity control environment"
      ]
    },
    {
      "cell_type": "markdown",
      "id": "hbOr8Kbk-dph",
      "metadata": {
        "id": "hbOr8Kbk-dph"
      },
      "source": [
        "#### Description"
      ]
    },
    {
      "cell_type": "markdown",
      "id": "_KAeFPN78gxW",
      "metadata": {
        "id": "_KAeFPN78gxW"
      },
      "source": [
        "> The vehicle's task is to start from an initial position and speed and move towards a goal in a straight line, modifying its speed in order to not invade a person's personal space.\n",
        "\n",
        "The vehicle state ($s^v$) is given by its position and velocity constrained to the y-axis.\n",
        "The vehicle detects a human and stores 4 sequential positions to generate an observation.\n",
        "These positions are points ($\\mathbf{P}$) in the plane recorded at arbitrary time intervals $\\Delta t$.\n",
        "While the human velocity ($\\dot{p}^h$) can be obtained from the positions and the elapsed time.\n",
        "\n",
        "\\begin{array}{|c|c|c|}\\hline\n",
        "Description              & Symbol   & Content \\\\ \\hline\n",
        "\\mbox{Vehicle state}     & s^v      & \\{p_y^v, \\dot{p}_y^v\\} \\\\ \\hline\n",
        "\\mbox{Human state}       & s^h      & \\{p_x^h, p_y^h, \\dot{p}^h\\} \\\\ \\hline\n",
        "\\mbox{Observation space} & \\mathcal{O} & \\{̇\\mathbf{P}_t^h,\\mathbf{P}_{t+1}^h,\\mathbf{P}_{t+2}^h,\\mathbf{P}_{t+3}^h\\}\\\\ \\hline\n",
        "\\mbox{Action space}      & \\mathcal{A} & \\{\\alpha_+, \\alpha_{-} \\} \\\\ \\hline\n",
        "\\end{array}\n",
        "\n",
        "Where $\\mathcal{O}\\in \\Re^8$ and $\\mathcal{A}\\in \\Re^2$. \\\\\n",
        "\n",
        "The action $\\alpha$ is a control variable that updates the current velocity.\n",
        "\\begin{align}\n",
        "\\dot{p}_y^v(t+1) &= \\alpha \\dot{p}_y^v(t)\n",
        "\\end{align}\n",
        "\n",
        "The reward ($R$) is obtained by:\n",
        "\\begin{equation}\n",
        "R = \n",
        "\\left\\{\n",
        "    \\begin{array}{lr}\n",
        "      &r_g(s^v) + r_h(s^h) &\\text{if } |\\mathbf{P}^h - \\mathbf{P}^v|^2 \\geq l^2\\\\\n",
        "      &r_g(s^v) &\\text{else }\n",
        "    \\end{array}\n",
        "\\right\\}\n",
        "\\end{equation}\n",
        "\n",
        "where $l = 1 + \\beta \\dot{p}^h$. \\\\\n",
        "\n",
        "The vehicle receives a reward $r_g$ that increases as it gets closer to the goal. \n",
        "\\begin{align}\n",
        "r_g = \\frac{1}{|\\mathbf{P}^g - \\mathbf{P}^v|+1}\n",
        "\\end{align}\n",
        "While it receives a penalty when it approaches the human \n",
        "\\begin{align}\n",
        "r_h = -\\frac{l}{|\\mathbf{P}^h - \\mathbf{P}^v|}\n",
        "\\end{align}\n",
        "\n",
        "<figure>\n",
        "<center>\n",
        "<img src='https://github.com/JHermosillaD/Reinforcement_learning/blob/main/environment_simulator_V1/imgs/reward.png?raw=true' />\n",
        "<figcaption>Rewards obtained in an instant of time, when $s^h = \\{3,5,1.4\\}$ and the goal is at $\\mathbf{P}^g(8,-7.5)$. </figcaption></center>\n",
        "</figure>\n",
        "\n",
        "The end of an episode is defined by the following terminal states:\n",
        "  * The vehicle reaches the goal, i.e. $|\\mathbf{P}^g - \\mathbf{P}^v| \\approx 0$\n",
        "  * The vehicle invades personal space, i.e. $|\\mathbf{P}^h - \\mathbf{P}^v| < l^2$\n",
        "  * The vehicle is moving backwards, i.e. $\\dot{p}^h < 0$\n"
      ]
    },
    {
      "cell_type": "markdown",
      "id": "6lLOBU7_Eoqa",
      "metadata": {
        "id": "6lLOBU7_Eoqa"
      },
      "source": [
        "#### Auxiliar functions"
      ]
    },
    {
      "cell_type": "code",
      "execution_count": null,
      "id": "f5fa5104-89ce-4af0-8cc2-03a92449e67e",
      "metadata": {
        "id": "f5fa5104-89ce-4af0-8cc2-03a92449e67e"
      },
      "outputs": [],
      "source": [
        "from matplotlib.offsetbox import OffsetImage, AnnotationBbox\n",
        "from IPython.display import HTML\n",
        "from matplotlib import animation\n",
        "import matplotlib.pyplot as plt\n",
        "from collections import deque\n",
        "from scipy.special import softmax\n",
        "from gym import Env, spaces\n",
        "import numpy as np\n",
        "import graphviz\n",
        "import random\n",
        "import keras\n",
        "import math\n",
        "import cv2\n",
        "import io"
      ]
    },
    {
      "cell_type": "code",
      "execution_count": null,
      "id": "oT2x0KNfEsYa",
      "metadata": {
        "id": "oT2x0KNfEsYa"
      },
      "outputs": [],
      "source": [
        "def checkpoint(x,y,cx,cy,r):\n",
        "  p = (x-cx)**2 + (y-cy)**2\n",
        "  if (p > r**2):\n",
        "    return True"
      ]
    },
    {
      "cell_type": "code",
      "execution_count": null,
      "id": "QgJJqt2NNeVP",
      "metadata": {
        "id": "QgJJqt2NNeVP"
      },
      "outputs": [],
      "source": [
        "def distance(x,y,x_v,y_v):\n",
        "  return np.sqrt((x-x_v)**2 + (y-y_v)**2)"
      ]
    },
    {
      "cell_type": "code",
      "execution_count": null,
      "id": "MOZjm9PtQb7Y",
      "metadata": {
        "id": "MOZjm9PtQb7Y"
      },
      "outputs": [],
      "source": [
        "def reward_h(x,y,x_h,y_h,v):\n",
        "  r = - (1+2*v)/distance(x_h,y_h,x,y)\n",
        "  return r"
      ]
    },
    {
      "cell_type": "code",
      "execution_count": null,
      "id": "A5aG3g0m-ybz",
      "metadata": {
        "id": "A5aG3g0m-ybz"
      },
      "outputs": [],
      "source": [
        "def RL_theta(x):\n",
        "    if (x == -5):\n",
        "        return random.choice([random.uniform(0, math.pi/2), random.uniform(3*math.pi/2, 2*math.pi)])\n",
        "    elif (x == 5):\n",
        "        return random.uniform(math.pi, 3*math.pi/2)"
      ]
    },
    {
      "cell_type": "code",
      "execution_count": null,
      "id": "vCYFqtCg-znl",
      "metadata": {
        "id": "vCYFqtCg-znl"
      },
      "outputs": [],
      "source": [
        "def T_theta(y):\n",
        "    return random.uniform(math.pi, 2*math.pi)"
      ]
    },
    {
      "cell_type": "code",
      "execution_count": null,
      "id": "jgeJDJG4YrRe",
      "metadata": {
        "id": "jgeJDJG4YrRe"
      },
      "outputs": [],
      "source": [
        "def getImage(path):\n",
        "  return OffsetImage(plt.imread(path, format=\"png\"), zoom=0.15) "
      ]
    },
    {
      "cell_type": "code",
      "execution_count": null,
      "id": "IHe79p1qY-GZ",
      "metadata": {
        "id": "IHe79p1qY-GZ"
      },
      "outputs": [],
      "source": [
        "def getFig_toArray(fig, dpi=250):\n",
        "  buf = io.BytesIO()\n",
        "  fig.savefig(buf, format=\"png\", dpi=dpi)\n",
        "  buf.seek(0)\n",
        "  img_arr = np.frombuffer(buf.getvalue(), dtype=np.uint8)\n",
        "  buf.close()\n",
        "  img = cv2.imdecode(img_arr, 1)\n",
        "  img = cv2.cvtColor(img, cv2.COLOR_BGR2RGB)\n",
        "  return img"
      ]
    },
    {
      "cell_type": "markdown",
      "id": "qDO3yWhU-oR7",
      "metadata": {
        "id": "qDO3yWhU-oR7"
      },
      "source": [
        "### Environment"
      ]
    },
    {
      "cell_type": "code",
      "execution_count": null,
      "id": "86e48ef8-0fd8-44a0-958d-dd6d7087ba01",
      "metadata": {
        "id": "86e48ef8-0fd8-44a0-958d-dd6d7087ba01"
      },
      "outputs": [],
      "source": [
        "class TC_environment(Env):\n",
        "    def __init__(self):\n",
        "        self.observations = 4                                                   # O-dimensionality\n",
        "        self.max_step_size = 0.35                                                # Maximum pedestrian step length\n",
        "        self.deltaT = 1                                                         # Elapsed time in seconds\n",
        "        self.width = 8                                                          # Road width\n",
        "        self.hight = 8                                                          # Road higth\n",
        "        self.episode_path = []                                                    \n",
        "        self.car_init_pos = -self.hight/2                                        \n",
        "        self.car_init_vel = 0.4                                                 \n",
        "        self.car_state = [self.car_init_pos, self.car_init_vel]                 # Car state\n",
        "        self.goal = [0, self.hight/2]                                           # Terminal state      \n",
        "        self.action_space = spaces.Discrete(2) # A = {v+, v-}                   # Action space\n",
        "\n",
        "    def human_state_generator(self):\n",
        "        choice = random.choice([0, 1])\n",
        "        if (choice == 0):                      # RL \n",
        "            y_random = random.uniform(-self.hight/4, self.hight/4)\n",
        "            x_random = random.choice([-self.width/2, self.width/2])\n",
        "            if (x_random == -self.width/2):\n",
        "                theta_random = random.choice([random.uniform(0, math.pi/4), random.uniform(7*math.pi/4, 2*math.pi)])\n",
        "            elif (x_random == self.width/2):\n",
        "                theta_random = random.uniform(5*math.pi/4, 7*math.pi/4)\n",
        "\n",
        "        elif (choice == 1):                    # T\n",
        "            y_random = self.width/2\n",
        "            x_random = random.uniform(-self.width/4, self.width/4)\n",
        "            theta_random = random.uniform(5*math.pi/4, 7*math.pi/4)\n",
        "        return (x_random, y_random, theta_random)    \n",
        "\n",
        "    def reset(self):                                                            # Function to generate new episode\n",
        "        increments = []\n",
        "        self.car_state[0] = self.car_init_pos                                   # Reset\n",
        "        self.car_state[1] = self.car_init_vel                                    # car state\n",
        "        step_size = random.uniform(0.1, self.max_step_size)                     # Episode step size\n",
        "        #x_random = random.uniform(-self.width/4, self.width/4)                  \n",
        "        #y_random = random.uniform(-self.hight/4, self.hight/4)  #self.hight/2\n",
        "        #theta = random.uniform(0, 3.1416) #random.uniform(4.45059, 4.97419)                                # Initial pedestrian direction\n",
        "        x_random, y_random, theta = self.human_state_generator()\n",
        "\n",
        "        init_pos = (x_random, y_random)                                         # Initial pedestrian position\n",
        "        self.episode_path = []\n",
        "        self.episode_path.append(init_pos)\n",
        "        for i in range(0,self.observations):\n",
        "            increments.append((step_size*np.cos(theta), step_size*np.sin(theta)))\n",
        "\n",
        "        for i in range(0,self.observations-1):\n",
        "            listp = []\n",
        "            listp.append(self.episode_path[i])\n",
        "            listp.append(increments[i])\n",
        "            self.episode_path.append(tuple([sum(tup) for tup in zip(*listp)]))\n",
        "\n",
        "        return self.episode_path                                                # Pedestrian episode path\n",
        "\n",
        "    def select_action(self, action):                                            # Function to apply action\n",
        "        if (action == 0):\n",
        "            self.car_state[1] += 0.15\n",
        "        if (action == 1):\n",
        "            self.car_state[1] -= 0.15    \n",
        "\n",
        "    def step(self, action):                                                     # Function to feedback episode \n",
        "        A = self.episode_path[3][1] - self.episode_path[0][1]                   # Total Y observation increment\n",
        "        B = self.episode_path[3][0] - self.episode_path[0][0]                   # Total X observation increment\n",
        "        x_new_increment = B/(self.observations-1)                               # X increment\n",
        "        y_new_increment = A/(self.observations-1)                               # Y increment\n",
        "        new_init_pos = (self.episode_path[3][0] + x_new_increment, self.episode_path[3][1] + y_new_increment) \n",
        "        increments = []\n",
        "        new_episode_path = []                                                   # New observation path\n",
        "        new_episode_path.append(new_init_pos)                                       \n",
        "        for i in range(0,self.observations-1):\n",
        "            increments.append((x_new_increment, y_new_increment))\n",
        "\n",
        "        for i in range(0,self.observations-1):\n",
        "            listp = []\n",
        "            listp.append(new_episode_path[i])\n",
        "            listp.append(increments[i])\n",
        "            new_episode_path.append(tuple([sum(tup) for tup in zip(*listp)]))\n",
        "\n",
        "        distance_to_h = distance(new_episode_path[3][0],new_episode_path[3][1],0,self.car_state[0])\n",
        "        distance_to_g = distance(0,self.car_state[0],self.goal[0],self.goal[1])  \n",
        "        l = 1 + 0.25*abs(self.car_state[1])  \n",
        "        #print(\"Y: %2f, V: %2f, d_g: %2f, d_h: %2f, l: %2f\" % (self.car_state[0],self.car_state[1],distance_to_g, distance_to_h, l))\n",
        "        self.episode_path = new_episode_path    \n",
        "        self.select_action(action)\n",
        "        self.car_state[0] = self.car_state[0] + self.car_state[1]*self.deltaT\n",
        "        r_h = reward_h(new_episode_path[3][0],new_episode_path[3][1],0,self.car_state[0],self.car_state[1])\n",
        "        reward = 0\n",
        "        epsilon_distance = 0.25\n",
        "        done = False\n",
        "        if (distance_to_h > l):\n",
        "          reward += r_h\n",
        "        if (distance_to_g <= epsilon_distance):\n",
        "          done = True\n",
        "        elif (distance_to_h <= l):\n",
        "          reward += 2*r_h\n",
        "          done = True\n",
        "        elif (self.car_state[1] <= 0):\n",
        "          done = True\n",
        "        elif ((new_episode_path[3][1] > self.hight) or (new_episode_path[3][1] < -self.hight)):\n",
        "          done = True\n",
        "        elif ((new_episode_path[3][0] > self.width) or (new_episode_path[3][0] < -self.width)):\n",
        "          done = True\n",
        "        return new_episode_path, reward, done\n",
        "   \n",
        "    def custom_render(self, path):\n",
        "        fig, ax = plt.subplots()\n",
        "        fig.subplots_adjust(0,0,1,1)\n",
        "        ax.axis('off')\n",
        "        margin = 1\n",
        "        plt.plot([0,0], [-100,100], linestyle='--', linewidth=1, color='black')\n",
        "        plt.axvline(x= self.width/4, c=\"black\")\n",
        "        plt.axvline(x=-self.width/4, c=\"black\")\n",
        "        plt.xlim([-self.width/2 -margin, self.width/2 +margin])\n",
        "        plt.ylim([-self.hight/2 -margin, self.hight/2 +margin])\n",
        "        plt.rcParams[\"figure.figsize\"] = (5,5)\n",
        "        car = AnnotationBbox( getImage('https://github.com/JHermosillaD/Reinforcement_learning/blob/main/environment_simulator_V1/imgs/car.png?raw=true'), (0, self.car_state[0] ), frameon=False)\n",
        "        ax.add_artist(car)\n",
        "        equis = []\n",
        "        yes = []\n",
        "        for i in path:\n",
        "            pedestrian = AnnotationBbox( getImage('https://github.com/JHermosillaD/Reinforcement_learning/blob/main/environment_simulator_V1/imgs/pedestrian.png?raw=true'), i , frameon=False)\n",
        "            equis.append(i[0])\n",
        "            yes.append(i[1])\n",
        "            ax.add_artist(pedestrian)\n",
        "        plt.plot(equis, yes, linestyle='--', linewidth=1, color='black')\n",
        "        plot_array = getFig_toArray(fig)\n",
        "        plt.close()\n",
        "        return plot_array"
      ]
    },
    {
      "cell_type": "markdown",
      "id": "UQIIZNqq_CYD",
      "metadata": {
        "id": "UQIIZNqq_CYD"
      },
      "source": [
        "### Deep Q-learning"
      ]
    },
    {
      "cell_type": "markdown",
      "id": "569qc78dBhvF",
      "metadata": {
        "id": "569qc78dBhvF"
      },
      "source": [
        "#### Plot network"
      ]
    },
    {
      "cell_type": "code",
      "execution_count": null,
      "id": "XSwJs4ak_mqZ",
      "metadata": {
        "id": "XSwJs4ak_mqZ"
      },
      "outputs": [],
      "source": [
        "def plot_DQN(model):\n",
        "    input_layer = 0;\n",
        "    hidden_layers_nr = 0;\n",
        "    layer_types = [];\n",
        "    hidden_layers = [];\n",
        "    output_layer = 0;\n",
        "\n",
        "    for layer in model.layers:\n",
        "        if(layer == model.layers[0]):\n",
        "            input_layer = int(str(layer.input_shape).split(\",\")[1][1:-1]);\n",
        "            hidden_layers_nr += 1;\n",
        "            if (type(layer) == keras.layers.core.Dense):\n",
        "                hidden_layers.append(int(str(layer.output_shape).split(\",\")[1][1:-1]));\n",
        "                layer_types.append(\"Dense\");\n",
        "            else:\n",
        "                hidden_layers.append(1);\n",
        "        else:\n",
        "            if(layer == model.layers[-1]):\n",
        "                output_layer = int(str(layer.output_shape).split(\",\")[1][1:-1]);\n",
        "            else:\n",
        "                hidden_layers_nr += 1;\n",
        "                if (type(layer) == keras.layers.core.Dense):\n",
        "                    hidden_layers.append(int(str(layer.output_shape).split(\",\")[1][1:-1]));\n",
        "                    layer_types.append(\"Dense\");\n",
        "                else:\n",
        "                    hidden_layers.append(1);\n",
        "\n",
        "        last_layer_nodes = input_layer;\n",
        "        nodes_up = input_layer;\n",
        "        if(type(model.layers[0]) != keras.layers.core.Dense):\n",
        "            last_layer_nodes = 1;\n",
        "            nodes_up = 1;\n",
        "            input_layer = 1;\n",
        "\n",
        "        g = graphviz.Digraph('g');\n",
        "        n = 0;\n",
        "        g.graph_attr.update(splines=\"line\", nodesep='0.5', ranksep='4.0', rankdir='TB', size=\"10\", fontsize='25pt');\n",
        "        with g.subgraph(name='cluster_input') as c:\n",
        "            if(type(model.layers[0]) == keras.layers.core.Dense):\n",
        "                the_label = 'Input states';\n",
        "                c.attr(color='white')\n",
        "                for i in range(0, input_layer):\n",
        "                    n += 1;\n",
        "                    c.node(str(n));\n",
        "                    c.attr(label=the_label, rank='same');\n",
        "                    c.node_attr.update(color=\"#2ecc71\", style=\"filled\", fontcolor=\"#2ecc71\", shape=\"circle\");\n",
        "            else:\n",
        "                raise ValueError(\"ANN Visualizer: Layer not supported for visualizing\");\n",
        "        for i in range(0, hidden_layers_nr):\n",
        "            with g.subgraph(name=\"cluster_\"+str(i+1)) as c:\n",
        "                if (layer_types[i] == \"Dense\"):\n",
        "                    c.attr(color='white', rank='same', labeljust=\"right\", labelloc=\"c\");\n",
        "                    for j in range(0, hidden_layers[i]):\n",
        "                        n += 1;\n",
        "                        c.node(str(n), shape=\"circle\", style=\"filled\", color=\"#3498db\", fontcolor=\"#3498db\");\n",
        "                        for h in range(nodes_up - last_layer_nodes + 1 , nodes_up + 1):\n",
        "                            g.edge(str(h), str(n));\n",
        "                    last_layer_nodes = hidden_layers[i];\n",
        "                    nodes_up += hidden_layers[i];\n",
        "\n",
        "        with g.subgraph(name='cluster_output') as c:\n",
        "            if (type(model.layers[-1]) == keras.layers.core.Dense):\n",
        "                c.attr(color='white', rank='same', labeljust=\"1\");\n",
        "                for i in range(1, output_layer+1):\n",
        "                    n += 1;\n",
        "                    c.node(str(n), shape=\"circle\", style=\"filled\", color=\"#e74c3c\", fontcolor=\"#e74c3c\");\n",
        "                    for h in range(nodes_up - last_layer_nodes + 1 , nodes_up + 1):\n",
        "                        g.edge(str(h), str(n));\n",
        "                c.attr(label='Action states', labelloc=\"b\")\n",
        "                c.node_attr.update(color=\"#2ecc71\", style=\"filled\", fontcolor=\"#2ecc71\", shape=\"circle\");\n",
        "\n",
        "        g.attr(arrowShape=\"none\");\n",
        "        g.edge_attr.update(arrowhead='none', color=\"#707070\", penwidth='0.5');\n",
        "    return g"
      ]
    },
    {
      "cell_type": "markdown",
      "id": "seworT3WBmeb",
      "metadata": {
        "id": "seworT3WBmeb"
      },
      "source": [
        "#### Model"
      ]
    },
    {
      "cell_type": "code",
      "execution_count": null,
      "id": "CYCLCBjm89w1",
      "metadata": {
        "id": "CYCLCBjm89w1"
      },
      "outputs": [],
      "source": [
        "class DQN:\n",
        "    def __init__(self, env, hidden_size=16):\n",
        "        self.state_size = 8\n",
        "        self.action_size = env.action_space.n\n",
        "        self.model = keras.models.Sequential()\n",
        "        self.model.add(keras.layers.Dense(hidden_size, activation=\"relu\", input_dim=self.state_size))\n",
        "        self.model.add(keras.layers.Dense(hidden_size, activation=\"relu\"))\n",
        "        self.model.add(keras.layers.Dense(self.action_size, activation=\"linear\"))\n",
        "        self.model.compile(loss=\"mse\", optimizer=\"Adam\")\n",
        "\n",
        "    def __call__(self,s):\n",
        "        s = np.reshape(s, [1, self.state_size])\n",
        "        a = self.model.predict(s)\n",
        "        a = np.reshape(a,[self.action_size])\n",
        "        return a"
      ]
    },
    {
      "cell_type": "markdown",
      "id": "jDBzG-eWBp3I",
      "metadata": {
        "id": "jDBzG-eWBp3I"
      },
      "source": [
        "#### Replay memory buffer"
      ]
    },
    {
      "cell_type": "code",
      "execution_count": null,
      "id": "1P1bT301gKok",
      "metadata": {
        "id": "1P1bT301gKok"
      },
      "outputs": [],
      "source": [
        "class Memory:\n",
        "    def __init__(self, max_size=1000):\n",
        "        self.buffer = deque(maxlen=max_size)\n",
        "\n",
        "    def add(self, experience):\n",
        "        self.buffer.append(experience)\n",
        "\n",
        "    def sample(self, batch_size):\n",
        "        idx = np.random.choice(len(self.buffer),\n",
        "                               size=batch_size,\n",
        "                               replace=False)\n",
        "        return [self.buffer[ii] for ii in idx]"
      ]
    },
    {
      "cell_type": "code",
      "execution_count": null,
      "id": "whAHe0323bwq",
      "metadata": {
        "id": "whAHe0323bwq"
      },
      "outputs": [],
      "source": [
        "def create_experience(Q,replaybuffer,eps=0.1,max_episodes=1000):\n",
        "    average_return = 0\n",
        "    for i in range(max_episodes):\n",
        "        state = env.reset()\n",
        "        done = False\n",
        "        while not done:\n",
        "            average_return += 1\n",
        "            if eps>np.random.rand():\n",
        "                action = env.action_space.sample()\n",
        "            else:\n",
        "                action = np.argmax(Q(state))\n",
        "            next_state, reward, done = env.step(action)\n",
        "            replaybuffer.add((state,action,reward,next_state,done))\n",
        "            state = next_state\n",
        "            if done: \n",
        "                break\n",
        "    avg_return = average_return/max_episodes\n",
        "    return avg_return"
      ]
    },
    {
      "cell_type": "markdown",
      "id": "FuwqPMLD3ZdM",
      "metadata": {
        "id": "FuwqPMLD3ZdM"
      },
      "source": [
        "#### Epsilon-greedy approach"
      ]
    },
    {
      "cell_type": "code",
      "execution_count": null,
      "id": "cRoAnPBx3YI3",
      "metadata": {
        "id": "cRoAnPBx3YI3"
      },
      "outputs": [],
      "source": [
        "def eps_decay(i, start=1.0, stop=0.01, annealing_stop=1000):\n",
        "    inew = min(i,annealing_stop)\n",
        "    return (start * (annealing_stop - inew) + stop * inew) / annealing_stop"
      ]
    },
    {
      "cell_type": "markdown",
      "id": "myAYapGQ_MMo",
      "metadata": {
        "id": "myAYapGQ_MMo"
      },
      "source": [
        "### DQN initialization"
      ]
    },
    {
      "cell_type": "code",
      "execution_count": null,
      "id": "xtkd3ivZegKn",
      "metadata": {
        "id": "xtkd3ivZegKn"
      },
      "outputs": [],
      "source": [
        "env = TC_environment()\n",
        "Q = DQN(env,hidden_size=11)"
      ]
    },
    {
      "cell_type": "code",
      "execution_count": null,
      "id": "7h_Hav2z_p6J",
      "metadata": {
        "colab": {
          "base_uri": "https://localhost:8080/",
          "height": 981
        },
        "id": "7h_Hav2z_p6J",
        "outputId": "03ee3f70-496c-4110-e76a-f80dde25ed2d"
      },
      "outputs": [
        {
          "data": {
            "image/svg+xml": "<?xml version=\"1.0\" encoding=\"UTF-8\" standalone=\"no\"?>\n<!DOCTYPE svg PUBLIC \"-//W3C//DTD SVG 1.1//EN\"\n \"http://www.w3.org/Graphics/SVG/1.1/DTD/svg11.dtd\">\n<!-- Generated by graphviz version 2.40.1 (20161225.0304)\n -->\n<!-- Title: g Pages: 1 -->\n<svg width=\"546pt\" height=\"720pt\"\n viewBox=\"0.00 0.00 545.96 720.00\" xmlns=\"http://www.w3.org/2000/svg\" xmlns:xlink=\"http://www.w3.org/1999/xlink\">\n<g id=\"graph0\" class=\"graph\" transform=\"scale(.6334 .6334) rotate(0) translate(4 1132.7889)\">\n<title>g</title>\n<polygon fill=\"#ffffff\" stroke=\"transparent\" points=\"-4,4 -4,-1132.7889 858,-1132.7889 858,4 -4,4\"/>\n<g id=\"clust1\" class=\"cluster\">\n<title>cluster_input</title>\n<polygon fill=\"none\" stroke=\"#ffffff\" points=\"150,-1032.7889 150,-1120.7889 706,-1120.7889 706,-1032.7889 150,-1032.7889\"/>\n<text text-anchor=\"middle\" x=\"428\" y=\"-1096.7889\" font-family=\"Times,serif\" font-size=\"25.00\" fill=\"#000000\">Input states</text>\n</g>\n<g id=\"clust2\" class=\"cluster\">\n<title>cluster_1</title>\n<polygon fill=\"none\" stroke=\"#ffffff\" points=\"16,-703.1926 16,-760.7889 846,-760.7889 846,-703.1926 16,-703.1926\"/>\n</g>\n<g id=\"clust3\" class=\"cluster\">\n<title>cluster_2</title>\n<polygon fill=\"none\" stroke=\"#ffffff\" points=\"8,-373.5963 8,-431.1926 846,-431.1926 846,-373.5963 8,-373.5963\"/>\n</g>\n<g id=\"clust4\" class=\"cluster\">\n<title>cluster_output</title>\n<polygon fill=\"none\" stroke=\"#ffffff\" points=\"354,-8 354,-101.5963 500,-101.5963 500,-8 354,-8\"/>\n<text text-anchor=\"middle\" x=\"427\" y=\"-20\" font-family=\"Times,serif\" font-size=\"25.00\" fill=\"#000000\">Action states</text>\n</g>\n<!-- 1 -->\n<g id=\"node1\" class=\"node\">\n<title>1</title>\n<ellipse fill=\"#2ecc71\" stroke=\"#2ecc71\" cx=\"392\" cy=\"-1058.7889\" rx=\"18\" ry=\"18\"/>\n<text text-anchor=\"middle\" x=\"392\" y=\"-1055.0889\" font-family=\"Times,serif\" font-size=\"14.00\" fill=\"#2ecc71\">1</text>\n</g>\n<!-- 9 -->\n<g id=\"node9\" class=\"node\">\n<title>9</title>\n<ellipse fill=\"#3498db\" stroke=\"#3498db\" cx=\"196\" cy=\"-731.9908\" rx=\"18\" ry=\"18\"/>\n<text text-anchor=\"middle\" x=\"196\" y=\"-728.2908\" font-family=\"Times,serif\" font-size=\"14.00\" fill=\"#3498db\">9</text>\n</g>\n<!-- 1&#45;&gt;9 -->\n<g id=\"edge1\" class=\"edge\">\n<title>1&#45;&gt;9</title>\n<path fill=\"none\" stroke=\"#707070\" stroke-width=\".5\" d=\"M382.5465,-1043.0268C349.3593,-987.6925 238.3972,-802.6812 205.3586,-747.5948\"/>\n</g>\n<!-- 10 -->\n<g id=\"node10\" class=\"node\">\n<title>10</title>\n<ellipse fill=\"#3498db\" stroke=\"#3498db\" cx=\"121\" cy=\"-731.9908\" rx=\"20.5982\" ry=\"20.5982\"/>\n<text text-anchor=\"middle\" x=\"121\" y=\"-728.2908\" font-family=\"Times,serif\" font-size=\"14.00\" fill=\"#3498db\">10</text>\n</g>\n<!-- 1&#45;&gt;10 -->\n<g id=\"edge9\" class=\"edge\">\n<title>1&#45;&gt;10</title>\n<path fill=\"none\" stroke=\"#707070\" stroke-width=\".5\" d=\"M380.3555,-1044.7468C336.4879,-991.8471 181.3236,-804.7349 134.4853,-748.2526\"/>\n</g>\n<!-- 11 -->\n<g id=\"node11\" class=\"node\">\n<title>11</title>\n<ellipse fill=\"#3498db\" stroke=\"#3498db\" cx=\"44\" cy=\"-731.9908\" rx=\"20.2975\" ry=\"20.2975\"/>\n<text text-anchor=\"middle\" x=\"44\" y=\"-728.2908\" font-family=\"Times,serif\" font-size=\"14.00\" fill=\"#3498db\">11</text>\n</g>\n<!-- 1&#45;&gt;11 -->\n<g id=\"edge17\" class=\"edge\">\n<title>1&#45;&gt;11</title>\n<path fill=\"none\" stroke=\"#707070\" stroke-width=\".5\" d=\"M378.7829,-1046.3771C324.1556,-995.0779 116.1733,-799.7669 58.7586,-745.8502\"/>\n</g>\n<!-- 12 -->\n<g id=\"node12\" class=\"node\">\n<title>12</title>\n<ellipse fill=\"#3498db\" stroke=\"#3498db\" cx=\"817\" cy=\"-731.9908\" rx=\"20.5982\" ry=\"20.5982\"/>\n<text text-anchor=\"middle\" x=\"817\" y=\"-728.2908\" font-family=\"Times,serif\" font-size=\"14.00\" fill=\"#3498db\">12</text>\n</g>\n<!-- 1&#45;&gt;12 -->\n<g id=\"edge25\" class=\"edge\">\n<title>1&#45;&gt;12</title>\n<path fill=\"none\" stroke=\"#707070\" stroke-width=\".5\" d=\"M406.6295,-1047.5398C471.2902,-997.8198 731.2735,-797.9091 800.1727,-744.9299\"/>\n</g>\n<!-- 13 -->\n<g id=\"node13\" class=\"node\">\n<title>13</title>\n<ellipse fill=\"#3498db\" stroke=\"#3498db\" cx=\"739\" cy=\"-731.9908\" rx=\"20.5982\" ry=\"20.5982\"/>\n<text text-anchor=\"middle\" x=\"739\" y=\"-728.2908\" font-family=\"Times,serif\" font-size=\"14.00\" fill=\"#3498db\">13</text>\n</g>\n<!-- 1&#45;&gt;13 -->\n<g id=\"edge33\" class=\"edge\">\n<title>1&#45;&gt;13</title>\n<path fill=\"none\" stroke=\"#707070\" stroke-width=\".5\" d=\"M405.1791,-1046.3771C459.4019,-995.3111 665.1519,-801.5395 723.4939,-746.5941\"/>\n</g>\n<!-- 14 -->\n<g id=\"node14\" class=\"node\">\n<title>14</title>\n<ellipse fill=\"#3498db\" stroke=\"#3498db\" cx=\"661\" cy=\"-731.9908\" rx=\"20.5982\" ry=\"20.5982\"/>\n<text text-anchor=\"middle\" x=\"661\" y=\"-728.2908\" font-family=\"Times,serif\" font-size=\"14.00\" fill=\"#3498db\">14</text>\n</g>\n<!-- 1&#45;&gt;14 -->\n<g id=\"edge41\" class=\"edge\">\n<title>1&#45;&gt;14</title>\n<path fill=\"none\" stroke=\"#707070\" stroke-width=\".5\" d=\"M403.5586,-1044.7468C447.1024,-991.8471 601.1216,-804.7349 647.6143,-748.2526\"/>\n</g>\n<!-- 15 -->\n<g id=\"node15\" class=\"node\">\n<title>15</title>\n<ellipse fill=\"#3498db\" stroke=\"#3498db\" cx=\"583\" cy=\"-731.9908\" rx=\"20.5982\" ry=\"20.5982\"/>\n<text text-anchor=\"middle\" x=\"583\" y=\"-728.2908\" font-family=\"Times,serif\" font-size=\"14.00\" fill=\"#3498db\">15</text>\n</g>\n<!-- 1&#45;&gt;15 -->\n<g id=\"edge49\" class=\"edge\">\n<title>1&#45;&gt;15</title>\n<path fill=\"none\" stroke=\"#707070\" stroke-width=\".5\" d=\"M401.2123,-1043.0268C433.1058,-988.4575 538.7091,-807.7719 572.5017,-749.9533\"/>\n</g>\n<!-- 16 -->\n<g id=\"node16\" class=\"node\">\n<title>16</title>\n<ellipse fill=\"#3498db\" stroke=\"#3498db\" cx=\"505\" cy=\"-731.9908\" rx=\"20.5982\" ry=\"20.5982\"/>\n<text text-anchor=\"middle\" x=\"505\" y=\"-728.2908\" font-family=\"Times,serif\" font-size=\"14.00\" fill=\"#3498db\">16</text>\n</g>\n<!-- 1&#45;&gt;16 -->\n<g id=\"edge57\" class=\"edge\">\n<title>1&#45;&gt;16</title>\n<path fill=\"none\" stroke=\"#707070\" stroke-width=\".5\" d=\"M397.9163,-1041.679C417.1253,-986.1262 477.6855,-810.9849 498.1592,-751.7746\"/>\n</g>\n<!-- 17 -->\n<g id=\"node17\" class=\"node\">\n<title>17</title>\n<ellipse fill=\"#3498db\" stroke=\"#3498db\" cx=\"427\" cy=\"-731.9908\" rx=\"20.5982\" ry=\"20.5982\"/>\n<text text-anchor=\"middle\" x=\"427\" y=\"-728.2908\" font-family=\"Times,serif\" font-size=\"14.00\" fill=\"#3498db\">17</text>\n</g>\n<!-- 1&#45;&gt;17 -->\n<g id=\"edge65\" class=\"edge\">\n<title>1&#45;&gt;17</title>\n<path fill=\"none\" stroke=\"#707070\" stroke-width=\".5\" d=\"M393.9316,-1040.7533C399.9505,-984.554 418.3468,-812.7865 424.7636,-752.8721\"/>\n</g>\n<!-- 18 -->\n<g id=\"node18\" class=\"node\">\n<title>18</title>\n<ellipse fill=\"#3498db\" stroke=\"#3498db\" cx=\"349\" cy=\"-731.9908\" rx=\"20.5982\" ry=\"20.5982\"/>\n<text text-anchor=\"middle\" x=\"349\" y=\"-728.2908\" font-family=\"Times,serif\" font-size=\"14.00\" fill=\"#3498db\">18</text>\n</g>\n<!-- 1&#45;&gt;18 -->\n<g id=\"edge73\" class=\"edge\">\n<title>1&#45;&gt;18</title>\n<path fill=\"none\" stroke=\"#707070\" stroke-width=\".5\" d=\"M389.6269,-1040.7533C382.2322,-984.554 359.6311,-812.7865 351.7476,-752.8721\"/>\n</g>\n<!-- 19 -->\n<g id=\"node19\" class=\"node\">\n<title>19</title>\n<ellipse fill=\"#3498db\" stroke=\"#3498db\" cx=\"271\" cy=\"-731.9908\" rx=\"20.5982\" ry=\"20.5982\"/>\n<text text-anchor=\"middle\" x=\"271\" y=\"-728.2908\" font-family=\"Times,serif\" font-size=\"14.00\" fill=\"#3498db\">19</text>\n</g>\n<!-- 1&#45;&gt;19 -->\n<g id=\"edge81\" class=\"edge\">\n<title>1&#45;&gt;19</title>\n<path fill=\"none\" stroke=\"#707070\" stroke-width=\".5\" d=\"M385.6649,-1041.679C365.096,-986.1262 300.2483,-810.9849 278.3251,-751.7746\"/>\n</g>\n<!-- 2 -->\n<g id=\"node2\" class=\"node\">\n<title>2</title>\n<ellipse fill=\"#2ecc71\" stroke=\"#2ecc71\" cx=\"320\" cy=\"-1058.7889\" rx=\"18\" ry=\"18\"/>\n<text text-anchor=\"middle\" x=\"320\" y=\"-1055.0889\" font-family=\"Times,serif\" font-size=\"14.00\" fill=\"#2ecc71\">2</text>\n</g>\n<!-- 2&#45;&gt;9 -->\n<g id=\"edge2\" class=\"edge\">\n<title>2&#45;&gt;9</title>\n<path fill=\"none\" stroke=\"#707070\" stroke-width=\".5\" d=\"M313.5078,-1041.679C292.0801,-985.2069 223.7616,-805.1555 202.4279,-748.9314\"/>\n</g>\n<!-- 2&#45;&gt;10 -->\n<g id=\"edge10\" class=\"edge\">\n<title>2&#45;&gt;10</title>\n<path fill=\"none\" stroke=\"#707070\" stroke-width=\".5\" d=\"M310.4018,-1043.0268C277.1725,-988.4575 167.1461,-807.7719 131.9381,-749.9533\"/>\n</g>\n<!-- 2&#45;&gt;11 -->\n<g id=\"edge18\" class=\"edge\">\n<title>2&#45;&gt;11</title>\n<path fill=\"none\" stroke=\"#707070\" stroke-width=\".5\" d=\"M308.1406,-1044.7468C263.2574,-991.6027 103.9743,-803.0035 57.0801,-747.4783\"/>\n</g>\n<!-- 2&#45;&gt;12 -->\n<g id=\"edge26\" class=\"edge\">\n<title>2&#45;&gt;12</title>\n<path fill=\"none\" stroke=\"#707070\" stroke-width=\".5\" d=\"M335.1456,-1048.8301C407.9457,-1000.961 721.5846,-794.7304 799.4515,-743.5296\"/>\n</g>\n<!-- 2&#45;&gt;13 -->\n<g id=\"edge34\" class=\"edge\">\n<title>2&#45;&gt;13</title>\n<path fill=\"none\" stroke=\"#707070\" stroke-width=\".5\" d=\"M334.4229,-1047.5398C398.1708,-997.8198 654.4837,-797.9091 722.4103,-744.9299\"/>\n</g>\n<!-- 2&#45;&gt;14 -->\n<g id=\"edge42\" class=\"edge\">\n<title>2&#45;&gt;14</title>\n<path fill=\"none\" stroke=\"#707070\" stroke-width=\".5\" d=\"M333.3676,-1045.9781C387.3015,-994.2904 588.728,-801.2528 645.8262,-746.5326\"/>\n</g>\n<!-- 2&#45;&gt;15 -->\n<g id=\"edge50\" class=\"edge\">\n<title>2&#45;&gt;15</title>\n<path fill=\"none\" stroke=\"#707070\" stroke-width=\".5\" d=\"M331.3008,-1044.7468C373.8733,-991.8471 524.4572,-804.7349 569.9128,-748.2526\"/>\n</g>\n<!-- 2&#45;&gt;16 -->\n<g id=\"edge58\" class=\"edge\">\n<title>2&#45;&gt;16</title>\n<path fill=\"none\" stroke=\"#707070\" stroke-width=\".5\" d=\"M328.9229,-1043.0268C359.7424,-988.585 461.6228,-808.6155 494.6009,-750.3606\"/>\n</g>\n<!-- 2&#45;&gt;17 -->\n<g id=\"edge66\" class=\"edge\">\n<title>2&#45;&gt;17</title>\n<path fill=\"none\" stroke=\"#707070\" stroke-width=\".5\" d=\"M325.6021,-1041.679C343.7912,-986.1262 401.1358,-810.9849 420.5224,-751.7746\"/>\n</g>\n<!-- 2&#45;&gt;18 -->\n<g id=\"edge74\" class=\"edge\">\n<title>2&#45;&gt;18</title>\n<path fill=\"none\" stroke=\"#707070\" stroke-width=\".5\" d=\"M321.6005,-1040.7533C326.5876,-984.554 341.8302,-812.7865 347.147,-752.8721\"/>\n</g>\n<!-- 2&#45;&gt;19 -->\n<g id=\"edge82\" class=\"edge\">\n<title>2&#45;&gt;19</title>\n<path fill=\"none\" stroke=\"#707070\" stroke-width=\".5\" d=\"M317.2958,-1040.7533C308.8692,-984.554 283.1145,-812.7865 274.1309,-752.8721\"/>\n</g>\n<!-- 3 -->\n<g id=\"node3\" class=\"node\">\n<title>3</title>\n<ellipse fill=\"#2ecc71\" stroke=\"#2ecc71\" cx=\"248\" cy=\"-1058.7889\" rx=\"18\" ry=\"18\"/>\n<text text-anchor=\"middle\" x=\"248\" y=\"-1055.0889\" font-family=\"Times,serif\" font-size=\"14.00\" fill=\"#2ecc71\">3</text>\n</g>\n<!-- 3&#45;&gt;9 -->\n<g id=\"edge3\" class=\"edge\">\n<title>3&#45;&gt;9</title>\n<path fill=\"none\" stroke=\"#707070\" stroke-width=\".5\" d=\"M245.1302,-1040.7533C236.0387,-983.6174 207.94,-807.0288 198.8609,-749.9706\"/>\n</g>\n<!-- 3&#45;&gt;10 -->\n<g id=\"edge11\" class=\"edge\">\n<title>3&#45;&gt;10</title>\n<path fill=\"none\" stroke=\"#707070\" stroke-width=\".5\" d=\"M241.3507,-1041.679C219.7619,-986.1262 151.6986,-810.9849 128.6884,-751.7746\"/>\n</g>\n<!-- 3&#45;&gt;11 -->\n<g id=\"edge19\" class=\"edge\">\n<title>3&#45;&gt;11</title>\n<path fill=\"none\" stroke=\"#707070\" stroke-width=\".5\" d=\"M238.4343,-1043.4651C204.5621,-989.2034 90.4428,-806.3899 54.7578,-749.2242\"/>\n</g>\n<!-- 3&#45;&gt;12 -->\n<g id=\"edge27\" class=\"edge\">\n<title>3&#45;&gt;12</title>\n<path fill=\"none\" stroke=\"#707070\" stroke-width=\".5\" d=\"M263.8122,-1049.7074C344.7611,-1003.2154 712.3265,-792.1087 798.7615,-742.4659\"/>\n</g>\n<!-- 3&#45;&gt;13 -->\n<g id=\"edge35\" class=\"edge\">\n<title>3&#45;&gt;13</title>\n<path fill=\"none\" stroke=\"#707070\" stroke-width=\".5\" d=\"M263.2331,-1048.6502C335.5873,-1000.4929 644.239,-795.0615 721.4414,-743.6774\"/>\n</g>\n<!-- 3&#45;&gt;14 -->\n<g id=\"edge43\" class=\"edge\">\n<title>3&#45;&gt;14</title>\n<path fill=\"none\" stroke=\"#707070\" stroke-width=\".5\" d=\"M262.2164,-1047.5398C325.0514,-997.8198 577.694,-797.9091 644.6478,-744.9299\"/>\n</g>\n<!-- 3&#45;&gt;15 -->\n<g id=\"edge51\" class=\"edge\">\n<title>3&#45;&gt;15</title>\n<path fill=\"none\" stroke=\"#707070\" stroke-width=\".5\" d=\"M261.1324,-1045.9781C314.1173,-994.2904 511.9997,-801.2528 568.0932,-746.5326\"/>\n</g>\n<!-- 3&#45;&gt;16 -->\n<g id=\"edge59\" class=\"edge\">\n<title>3&#45;&gt;16</title>\n<path fill=\"none\" stroke=\"#707070\" stroke-width=\".5\" d=\"M259.3746,-1044.3251C301.3404,-990.9619 447.3531,-805.2939 491.9575,-748.5755\"/>\n</g>\n<!-- 3&#45;&gt;17 -->\n<g id=\"edge67\" class=\"edge\">\n<title>3&#45;&gt;17</title>\n<path fill=\"none\" stroke=\"#707070\" stroke-width=\".5\" d=\"M256.8766,-1042.583C286.9989,-987.5891 385.2041,-808.2971 416.981,-750.2823\"/>\n</g>\n<!-- 3&#45;&gt;18 -->\n<g id=\"edge75\" class=\"edge\">\n<title>3&#45;&gt;18</title>\n<path fill=\"none\" stroke=\"#707070\" stroke-width=\".5\" d=\"M253.4302,-1041.2188C270.7213,-985.2714 324.4331,-811.4799 342.782,-752.11\"/>\n</g>\n<!-- 3&#45;&gt;19 -->\n<g id=\"edge83\" class=\"edge\">\n<title>3&#45;&gt;19</title>\n<path fill=\"none\" stroke=\"#707070\" stroke-width=\".5\" d=\"M249.2693,-1040.7533C253.2246,-984.554 265.3136,-812.7865 269.5304,-752.8721\"/>\n</g>\n<!-- 4 -->\n<g id=\"node4\" class=\"node\">\n<title>4</title>\n<ellipse fill=\"#2ecc71\" stroke=\"#2ecc71\" cx=\"176\" cy=\"-1058.7889\" rx=\"18\" ry=\"18\"/>\n<text text-anchor=\"middle\" x=\"176\" y=\"-1055.0889\" font-family=\"Times,serif\" font-size=\"14.00\" fill=\"#2ecc71\">4</text>\n</g>\n<!-- 4&#45;&gt;9 -->\n<g id=\"edge4\" class=\"edge\">\n<title>4&#45;&gt;9</title>\n<path fill=\"none\" stroke=\"#707070\" stroke-width=\".5\" d=\"M177.1038,-1040.7533C180.6005,-983.6174 191.4077,-807.0288 194.8996,-749.9706\"/>\n</g>\n<!-- 4&#45;&gt;10 -->\n<g id=\"edge12\" class=\"edge\">\n<title>4&#45;&gt;10</title>\n<path fill=\"none\" stroke=\"#707070\" stroke-width=\".5\" d=\"M172.9646,-1040.7533C163.5063,-984.554 134.5979,-812.7865 124.5143,-752.8721\"/>\n</g>\n<!-- 4&#45;&gt;11 -->\n<g id=\"edge20\" class=\"edge\">\n<title>4&#45;&gt;11</title>\n<path fill=\"none\" stroke=\"#707070\" stroke-width=\".5\" d=\"M169.089,-1041.679C146.544,-985.8635 75.2372,-809.3261 51.655,-750.9425\"/>\n</g>\n<!-- 4&#45;&gt;12 -->\n<g id=\"edge28\" class=\"edge\">\n<title>4&#45;&gt;12</title>\n<path fill=\"none\" stroke=\"#707070\" stroke-width=\".5\" d=\"M192.1656,-1050.5473C280.5109,-1005.5066 704.3801,-789.4073 798.4709,-741.4374\"/>\n</g>\n<!-- 4&#45;&gt;13 -->\n<g id=\"edge36\" class=\"edge\">\n<title>4&#45;&gt;13</title>\n<path fill=\"none\" stroke=\"#707070\" stroke-width=\".5\" d=\"M191.6454,-1049.7074C271.7408,-1003.2154 635.4303,-792.1087 720.9538,-742.4659\"/>\n</g>\n<!-- 4&#45;&gt;14 -->\n<g id=\"edge44\" class=\"edge\">\n<title>4&#45;&gt;14</title>\n<path fill=\"none\" stroke=\"#707070\" stroke-width=\".5\" d=\"M191.0469,-1048.6502C262.517,-1000.4929 567.3969,-795.0615 643.656,-743.6774\"/>\n</g>\n<!-- 4&#45;&gt;15 -->\n<g id=\"edge52\" class=\"edge\">\n<title>4&#45;&gt;15</title>\n<path fill=\"none\" stroke=\"#707070\" stroke-width=\".5\" d=\"M190.4853,-1047.158C253.0756,-996.9016 500.1232,-798.5362 566.5053,-745.2351\"/>\n</g>\n<!-- 4&#45;&gt;16 -->\n<g id=\"edge60\" class=\"edge\">\n<title>4&#45;&gt;16</title>\n<path fill=\"none\" stroke=\"#707070\" stroke-width=\".5\" d=\"M188.8972,-1045.9781C240.8143,-994.4084 434.3847,-802.1335 489.9807,-746.9095\"/>\n</g>\n<!-- 4&#45;&gt;17 -->\n<g id=\"edge68\" class=\"edge\">\n<title>4&#45;&gt;17</title>\n<path fill=\"none\" stroke=\"#707070\" stroke-width=\".5\" d=\"M187.109,-1044.3251C228.0951,-990.9619 370.6989,-805.2939 414.262,-748.5755\"/>\n</g>\n<!-- 4&#45;&gt;18 -->\n<g id=\"edge76\" class=\"edge\">\n<title>4&#45;&gt;18</title>\n<path fill=\"none\" stroke=\"#707070\" stroke-width=\".5\" d=\"M184.5791,-1042.583C213.6235,-987.7179 308.1608,-809.1362 339.1,-750.6919\"/>\n</g>\n<!-- 4&#45;&gt;19 -->\n<g id=\"edge84\" class=\"edge\">\n<title>4&#45;&gt;19</title>\n<path fill=\"none\" stroke=\"#707070\" stroke-width=\".5\" d=\"M181.1076,-1041.2188C197.3715,-985.2714 247.8926,-811.4799 265.1513,-752.11\"/>\n</g>\n<!-- 5 -->\n<g id=\"node5\" class=\"node\">\n<title>5</title>\n<ellipse fill=\"#2ecc71\" stroke=\"#2ecc71\" cx=\"680\" cy=\"-1058.7889\" rx=\"18\" ry=\"18\"/>\n<text text-anchor=\"middle\" x=\"680\" y=\"-1055.0889\" font-family=\"Times,serif\" font-size=\"14.00\" fill=\"#2ecc71\">5</text>\n</g>\n<!-- 5&#45;&gt;9 -->\n<g id=\"edge5\" class=\"edge\">\n<title>5&#45;&gt;9</title>\n<path fill=\"none\" stroke=\"#707070\" stroke-width=\".5\" d=\"M664.9841,-1048.6502C593.0232,-1000.0619 283.9462,-791.3723 211.3204,-742.3351\"/>\n</g>\n<!-- 5&#45;&gt;10 -->\n<g id=\"edge13\" class=\"edge\">\n<title>5&#45;&gt;10</title>\n<path fill=\"none\" stroke=\"#707070\" stroke-width=\".5\" d=\"M664.1707,-1049.5349C584.1277,-1002.7408 224.4222,-792.4527 139.1635,-742.6094\"/>\n</g>\n<!-- 5&#45;&gt;11 -->\n<g id=\"edge21\" class=\"edge\">\n<title>5&#45;&gt;11</title>\n<path fill=\"none\" stroke=\"#707070\" stroke-width=\".5\" d=\"M663.9605,-1050.5473C576.2079,-1005.4571 154.8157,-788.9316 62.0776,-741.2797\"/>\n</g>\n<!-- 5&#45;&gt;12 -->\n<g id=\"edge29\" class=\"edge\">\n<title>5&#45;&gt;12</title>\n<path fill=\"none\" stroke=\"#707070\" stroke-width=\".5\" d=\"M686.9822,-1042.1337C710.1017,-986.9846 784.0946,-810.483 808.8466,-751.4397\"/>\n</g>\n<!-- 5&#45;&gt;13 -->\n<g id=\"edge37\" class=\"edge\">\n<title>5&#45;&gt;13</title>\n<path fill=\"none\" stroke=\"#707070\" stroke-width=\".5\" d=\"M683.2561,-1040.7533C693.4023,-984.554 724.4132,-812.7865 735.2301,-752.8721\"/>\n</g>\n<!-- 5&#45;&gt;14 -->\n<g id=\"edge45\" class=\"edge\">\n<title>5&#45;&gt;14</title>\n<path fill=\"none\" stroke=\"#707070\" stroke-width=\".5\" d=\"M678.9514,-1040.7533C675.684,-984.554 665.6975,-812.7865 662.214,-752.8721\"/>\n</g>\n<!-- 5&#45;&gt;15 -->\n<g id=\"edge53\" class=\"edge\">\n<title>5&#45;&gt;15</title>\n<path fill=\"none\" stroke=\"#707070\" stroke-width=\".5\" d=\"M674.7849,-1041.2188C658.1786,-985.2714 606.5939,-811.4799 588.9718,-752.11\"/>\n</g>\n<!-- 5&#45;&gt;16 -->\n<g id=\"edge61\" class=\"edge\">\n<title>5&#45;&gt;16</title>\n<path fill=\"none\" stroke=\"#707070\" stroke-width=\".5\" d=\"M671.3217,-1042.583C641.9416,-987.7179 546.3113,-809.1362 515.0144,-750.6919\"/>\n</g>\n<!-- 5&#45;&gt;17 -->\n<g id=\"edge69\" class=\"edge\">\n<title>5&#45;&gt;17</title>\n<path fill=\"none\" stroke=\"#707070\" stroke-width=\".5\" d=\"M668.8025,-1044.3251C627.4898,-990.9619 483.7497,-805.2939 439.8395,-748.5755\"/>\n</g>\n<!-- 5&#45;&gt;18 -->\n<g id=\"edge77\" class=\"edge\">\n<title>5&#45;&gt;18</title>\n<path fill=\"none\" stroke=\"#707070\" stroke-width=\".5\" d=\"M667.0244,-1045.9781C614.7917,-994.4084 420.0446,-802.1335 364.1106,-746.9095\"/>\n</g>\n<!-- 5&#45;&gt;19 -->\n<g id=\"edge85\" class=\"edge\">\n<title>5&#45;&gt;19</title>\n<path fill=\"none\" stroke=\"#707070\" stroke-width=\".5\" d=\"M665.9213,-1047.5398C603.8353,-997.932 354.6278,-798.8108 287.6456,-745.2909\"/>\n</g>\n<!-- 6 -->\n<g id=\"node6\" class=\"node\">\n<title>6</title>\n<ellipse fill=\"#2ecc71\" stroke=\"#2ecc71\" cx=\"608\" cy=\"-1058.7889\" rx=\"18\" ry=\"18\"/>\n<text text-anchor=\"middle\" x=\"608\" y=\"-1055.0889\" font-family=\"Times,serif\" font-size=\"14.00\" fill=\"#2ecc71\">6</text>\n</g>\n<!-- 6&#45;&gt;9 -->\n<g id=\"edge6\" class=\"edge\">\n<title>6&#45;&gt;9</title>\n<path fill=\"none\" stroke=\"#707070\" stroke-width=\".5\" d=\"M593.818,-1047.5398C530.4277,-997.2586 273.391,-793.3773 210.1223,-743.1926\"/>\n</g>\n<!-- 6&#45;&gt;10 -->\n<g id=\"edge14\" class=\"edge\">\n<title>6&#45;&gt;10</title>\n<path fill=\"none\" stroke=\"#707070\" stroke-width=\".5\" d=\"M592.891,-1048.6502C521.1263,-1000.4929 214.989,-795.0615 138.4155,-743.6774\"/>\n</g>\n<!-- 6&#45;&gt;11 -->\n<g id=\"edge22\" class=\"edge\">\n<title>6&#45;&gt;11</title>\n<path fill=\"none\" stroke=\"#707070\" stroke-width=\".5\" d=\"M592.3268,-1049.7074C511.9113,-1003.1123 146.1366,-791.1717 61.5125,-742.138\"/>\n</g>\n<!-- 6&#45;&gt;12 -->\n<g id=\"edge30\" class=\"edge\">\n<title>6&#45;&gt;12</title>\n<path fill=\"none\" stroke=\"#707070\" stroke-width=\".5\" d=\"M617.8002,-1043.4651C652.4219,-989.3296 768.8756,-807.2395 805.7222,-749.6251\"/>\n</g>\n<!-- 6&#45;&gt;13 -->\n<g id=\"edge38\" class=\"edge\">\n<title>6&#45;&gt;13</title>\n<path fill=\"none\" stroke=\"#707070\" stroke-width=\".5\" d=\"M614.8587,-1041.679C637.1802,-985.9949 707.6667,-810.1562 731.237,-751.3566\"/>\n</g>\n<!-- 6&#45;&gt;14 -->\n<g id=\"edge46\" class=\"edge\">\n<title>6&#45;&gt;14</title>\n<path fill=\"none\" stroke=\"#707070\" stroke-width=\".5\" d=\"M610.925,-1040.7533C620.0394,-984.554 647.8966,-812.7865 657.6135,-752.8721\"/>\n</g>\n<!-- 6&#45;&gt;15 -->\n<g id=\"edge54\" class=\"edge\">\n<title>6&#45;&gt;15</title>\n<path fill=\"none\" stroke=\"#707070\" stroke-width=\".5\" d=\"M606.6203,-1040.7533C602.321,-984.554 589.1809,-812.7865 584.5974,-752.8721\"/>\n</g>\n<!-- 6&#45;&gt;16 -->\n<g id=\"edge62\" class=\"edge\">\n<title>6&#45;&gt;16</title>\n<path fill=\"none\" stroke=\"#707070\" stroke-width=\".5\" d=\"M602.4623,-1041.2188C584.8288,-985.2714 530.0533,-811.4799 511.3412,-752.11\"/>\n</g>\n<!-- 6&#45;&gt;17 -->\n<g id=\"edge70\" class=\"edge\">\n<title>6&#45;&gt;17</title>\n<path fill=\"none\" stroke=\"#707070\" stroke-width=\".5\" d=\"M599.27,-1043.0268C569.1169,-988.585 469.4393,-808.6155 437.1743,-750.3606\"/>\n</g>\n<!-- 6&#45;&gt;18 -->\n<g id=\"edge78\" class=\"edge\">\n<title>6&#45;&gt;18</title>\n<path fill=\"none\" stroke=\"#707070\" stroke-width=\".5\" d=\"M596.5369,-1044.3251C554.2445,-990.9619 407.0955,-805.2939 362.144,-748.5755\"/>\n</g>\n<!-- 6&#45;&gt;19 -->\n<g id=\"edge86\" class=\"edge\">\n<title>6&#45;&gt;19</title>\n<path fill=\"none\" stroke=\"#707070\" stroke-width=\".5\" d=\"M594.7892,-1045.9781C541.488,-994.2904 342.4242,-801.2528 285.9958,-746.5326\"/>\n</g>\n<!-- 7 -->\n<g id=\"node7\" class=\"node\">\n<title>7</title>\n<ellipse fill=\"#2ecc71\" stroke=\"#2ecc71\" cx=\"536\" cy=\"-1058.7889\" rx=\"18\" ry=\"18\"/>\n<text text-anchor=\"middle\" x=\"536\" y=\"-1055.0889\" font-family=\"Times,serif\" font-size=\"14.00\" fill=\"#2ecc71\">7</text>\n</g>\n<!-- 7&#45;&gt;9 -->\n<g id=\"edge7\" class=\"edge\">\n<title>7&#45;&gt;9</title>\n<path fill=\"none\" stroke=\"#707070\" stroke-width=\".5\" d=\"M522.6716,-1045.9781C468.282,-993.7004 263.4556,-796.8271 209.2363,-744.7131\"/>\n</g>\n<!-- 7&#45;&gt;10 -->\n<g id=\"edge15\" class=\"edge\">\n<title>7&#45;&gt;10</title>\n<path fill=\"none\" stroke=\"#707070\" stroke-width=\".5\" d=\"M521.7148,-1047.5398C458.5755,-997.8198 204.7095,-797.9091 137.4313,-744.9299\"/>\n</g>\n<!-- 7&#45;&gt;11 -->\n<g id=\"edge23\" class=\"edge\">\n<title>7&#45;&gt;11</title>\n<path fill=\"none\" stroke=\"#707070\" stroke-width=\".5\" d=\"M520.7359,-1048.6502C447.991,-1000.3313 136.8757,-793.681 60.8234,-743.1653\"/>\n</g>\n<!-- 7&#45;&gt;12 -->\n<g id=\"edge31\" class=\"edge\">\n<title>7&#45;&gt;12</title>\n<path fill=\"none\" stroke=\"#707070\" stroke-width=\".5\" d=\"M548.0742,-1044.7468C593.6655,-991.7249 755.1942,-803.8699 803.3518,-747.8634\"/>\n</g>\n<!-- 7&#45;&gt;13 -->\n<g id=\"edge39\" class=\"edge\">\n<title>7&#45;&gt;13</title>\n<path fill=\"none\" stroke=\"#707070\" stroke-width=\".5\" d=\"M545.5188,-1043.4651C579.0682,-989.4558 691.7302,-808.0877 727.7944,-750.03\"/>\n</g>\n<!-- 7&#45;&gt;14 -->\n<g id=\"edge47\" class=\"edge\">\n<title>7&#45;&gt;14</title>\n<path fill=\"none\" stroke=\"#707070\" stroke-width=\".5\" d=\"M542.5445,-1041.679C563.7934,-986.1262 630.7848,-810.9849 653.4327,-751.7746\"/>\n</g>\n<!-- 7&#45;&gt;15 -->\n<g id=\"edge55\" class=\"edge\">\n<title>7&#45;&gt;15</title>\n<path fill=\"none\" stroke=\"#707070\" stroke-width=\".5\" d=\"M538.5939,-1040.7533C546.6764,-984.554 571.38,-812.7865 579.9969,-752.8721\"/>\n</g>\n<!-- 7&#45;&gt;16 -->\n<g id=\"edge63\" class=\"edge\">\n<title>7&#45;&gt;16</title>\n<path fill=\"none\" stroke=\"#707070\" stroke-width=\".5\" d=\"M534.2891,-1040.7533C528.9581,-984.554 512.6643,-812.7865 506.9808,-752.8721\"/>\n</g>\n<!-- 7&#45;&gt;17 -->\n<g id=\"edge71\" class=\"edge\">\n<title>7&#45;&gt;17</title>\n<path fill=\"none\" stroke=\"#707070\" stroke-width=\".5\" d=\"M530.2932,-1041.679C511.7641,-986.1262 453.3477,-810.9849 433.5987,-751.7746\"/>\n</g>\n<!-- 7&#45;&gt;18 -->\n<g id=\"edge79\" class=\"edge\">\n<title>7&#45;&gt;18</title>\n<path fill=\"none\" stroke=\"#707070\" stroke-width=\".5\" d=\"M526.9806,-1043.0268C495.828,-988.585 392.8461,-808.6155 359.5115,-750.3606\"/>\n</g>\n<!-- 7&#45;&gt;19 -->\n<g id=\"edge87\" class=\"edge\">\n<title>7&#45;&gt;19</title>\n<path fill=\"none\" stroke=\"#707070\" stroke-width=\".5\" d=\"M524.6133,-1044.7468C481.717,-991.8471 329.988,-804.7349 284.1867,-748.2526\"/>\n</g>\n<!-- 8 -->\n<g id=\"node8\" class=\"node\">\n<title>8</title>\n<ellipse fill=\"#2ecc71\" stroke=\"#2ecc71\" cx=\"464\" cy=\"-1058.7889\" rx=\"18\" ry=\"18\"/>\n<text text-anchor=\"middle\" x=\"464\" y=\"-1055.0889\" font-family=\"Times,serif\" font-size=\"14.00\" fill=\"#2ecc71\">8</text>\n</g>\n<!-- 8&#45;&gt;9 -->\n<g id=\"edge8\" class=\"edge\">\n<title>8&#45;&gt;9</title>\n<path fill=\"none\" stroke=\"#707070\" stroke-width=\".5\" d=\"M452.4844,-1044.7468C408.5013,-991.114 251.3821,-799.5235 207.4727,-745.9806\"/>\n</g>\n<!-- 8&#45;&gt;10 -->\n<g id=\"edge16\" class=\"edge\">\n<title>8&#45;&gt;10</title>\n<path fill=\"none\" stroke=\"#707070\" stroke-width=\".5\" d=\"M450.554,-1045.9781C396.3038,-994.2904 193.6959,-801.2528 136.2627,-746.5326\"/>\n</g>\n<!-- 8&#45;&gt;11 -->\n<g id=\"edge24\" class=\"edge\">\n<title>8&#45;&gt;11</title>\n<path fill=\"none\" stroke=\"#707070\" stroke-width=\".5\" d=\"M449.5426,-1047.5398C385.4984,-997.7076 127.5571,-797.0058 60.1711,-744.5734\"/>\n</g>\n<!-- 8&#45;&gt;12 -->\n<g id=\"edge32\" class=\"edge\">\n<title>8&#45;&gt;12</title>\n<path fill=\"none\" stroke=\"#707070\" stroke-width=\".5\" d=\"M477.407,-1046.3771C532.6933,-995.1945 742.8316,-800.654 801.6299,-746.22\"/>\n</g>\n<!-- 8&#45;&gt;13 -->\n<g id=\"edge40\" class=\"edge\">\n<title>8&#45;&gt;13</title>\n<path fill=\"none\" stroke=\"#707070\" stroke-width=\".5\" d=\"M475.8164,-1044.7468C520.3314,-991.8471 677.786,-804.7349 725.3157,-748.2526\"/>\n</g>\n<!-- 8&#45;&gt;14 -->\n<g id=\"edge48\" class=\"edge\">\n<title>8&#45;&gt;14</title>\n<path fill=\"none\" stroke=\"#707070\" stroke-width=\".5\" d=\"M473.5017,-1043.0268C506.3971,-988.4575 615.3177,-807.7719 650.1719,-749.9533\"/>\n</g>\n<!-- 8&#45;&gt;15 -->\n<g id=\"edge56\" class=\"edge\">\n<title>8&#45;&gt;15</title>\n<path fill=\"none\" stroke=\"#707070\" stroke-width=\".5\" d=\"M470.2304,-1041.679C490.4593,-986.1262 554.2351,-810.9849 575.7959,-751.7746\"/>\n</g>\n<!-- 8&#45;&gt;16 -->\n<g id=\"edge64\" class=\"edge\">\n<title>8&#45;&gt;16</title>\n<path fill=\"none\" stroke=\"#707070\" stroke-width=\".5\" d=\"M466.2627,-1040.7533C473.3135,-984.554 494.8634,-812.7865 502.3802,-752.8721\"/>\n</g>\n<!-- 8&#45;&gt;17 -->\n<g id=\"edge72\" class=\"edge\">\n<title>8&#45;&gt;17</title>\n<path fill=\"none\" stroke=\"#707070\" stroke-width=\".5\" d=\"M461.958,-1040.7533C455.5951,-984.554 436.1477,-812.7865 429.3642,-752.8721\"/>\n</g>\n<!-- 8&#45;&gt;18 -->\n<g id=\"edge80\" class=\"edge\">\n<title>8&#45;&gt;18</title>\n<path fill=\"none\" stroke=\"#707070\" stroke-width=\".5\" d=\"M457.979,-1041.679C438.43,-986.1262 376.798,-810.9849 355.9619,-751.7746\"/>\n</g>\n<!-- 8&#45;&gt;19 -->\n<g id=\"edge88\" class=\"edge\">\n<title>8&#45;&gt;19</title>\n<path fill=\"none\" stroke=\"#707070\" stroke-width=\".5\" d=\"M454.6912,-1043.0268C422.4637,-988.4575 315.7547,-807.7719 281.6083,-749.9533\"/>\n</g>\n<!-- 20 -->\n<g id=\"node20\" class=\"node\">\n<title>20</title>\n<ellipse fill=\"#3498db\" stroke=\"#3498db\" cx=\"193\" cy=\"-402.3945\" rx=\"20.5982\" ry=\"20.5982\"/>\n<text text-anchor=\"middle\" x=\"193\" y=\"-398.6945\" font-family=\"Times,serif\" font-size=\"14.00\" fill=\"#3498db\">20</text>\n</g>\n<!-- 9&#45;&gt;20 -->\n<g id=\"edge89\" class=\"edge\">\n<title>9&#45;&gt;20</title>\n<path fill=\"none\" stroke=\"#707070\" stroke-width=\".5\" d=\"M195.8344,-713.8008C195.3185,-657.1203 193.7417,-483.882 193.1917,-423.4546\"/>\n</g>\n<!-- 21 -->\n<g id=\"node21\" class=\"node\">\n<title>21</title>\n<ellipse fill=\"#3498db\" stroke=\"#3498db\" cx=\"115\" cy=\"-402.3945\" rx=\"20.5982\" ry=\"20.5982\"/>\n<text text-anchor=\"middle\" x=\"115\" y=\"-398.6945\" font-family=\"Times,serif\" font-size=\"14.00\" fill=\"#3498db\">21</text>\n</g>\n<!-- 9&#45;&gt;21 -->\n<g id=\"edge100\" class=\"edge\">\n<title>9&#45;&gt;21</title>\n<path fill=\"none\" stroke=\"#707070\" stroke-width=\".5\" d=\"M191.6451,-714.2702C177.778,-657.8438 134.7021,-482.5642 119.9867,-422.686\"/>\n</g>\n<!-- 22 -->\n<g id=\"node22\" class=\"node\">\n<title>22</title>\n<ellipse fill=\"#3498db\" stroke=\"#3498db\" cx=\"37\" cy=\"-402.3945\" rx=\"20.5982\" ry=\"20.5982\"/>\n<text text-anchor=\"middle\" x=\"37\" y=\"-398.6945\" font-family=\"Times,serif\" font-size=\"14.00\" fill=\"#3498db\">22</text>\n</g>\n<!-- 9&#45;&gt;22 -->\n<g id=\"edge111\" class=\"edge\">\n<title>9&#45;&gt;22</title>\n<path fill=\"none\" stroke=\"#707070\" stroke-width=\".5\" d=\"M188.1152,-715.646C161.4212,-660.3112 74.5343,-480.2004 46.0988,-421.2557\"/>\n</g>\n<!-- 23 -->\n<g id=\"node23\" class=\"node\">\n<title>23</title>\n<ellipse fill=\"#3498db\" stroke=\"#3498db\" cx=\"817\" cy=\"-402.3945\" rx=\"20.5982\" ry=\"20.5982\"/>\n<text text-anchor=\"middle\" x=\"817\" y=\"-398.6945\" font-family=\"Times,serif\" font-size=\"14.00\" fill=\"#3498db\">23</text>\n</g>\n<!-- 9&#45;&gt;23 -->\n<g id=\"edge122\" class=\"edge\">\n<title>9&#45;&gt;23</title>\n<path fill=\"none\" stroke=\"#707070\" stroke-width=\".5\" d=\"M211.9747,-723.5122C298.0695,-677.8173 706.3148,-461.1407 798.4813,-412.2233\"/>\n</g>\n<!-- 24 -->\n<g id=\"node24\" class=\"node\">\n<title>24</title>\n<ellipse fill=\"#3498db\" stroke=\"#3498db\" cx=\"739\" cy=\"-402.3945\" rx=\"20.5982\" ry=\"20.5982\"/>\n<text text-anchor=\"middle\" x=\"739\" y=\"-398.6945\" font-family=\"Times,serif\" font-size=\"14.00\" fill=\"#3498db\">24</text>\n</g>\n<!-- 9&#45;&gt;24 -->\n<g id=\"edge133\" class=\"edge\">\n<title>9&#45;&gt;24</title>\n<path fill=\"none\" stroke=\"#707070\" stroke-width=\".5\" d=\"M211.6653,-722.4821C289.9148,-674.9853 637.9699,-463.7189 721.117,-413.2493\"/>\n</g>\n<!-- 25 -->\n<g id=\"node25\" class=\"node\">\n<title>25</title>\n<ellipse fill=\"#3498db\" stroke=\"#3498db\" cx=\"661\" cy=\"-402.3945\" rx=\"20.5982\" ry=\"20.5982\"/>\n<text text-anchor=\"middle\" x=\"661\" y=\"-398.6945\" font-family=\"Times,serif\" font-size=\"14.00\" fill=\"#3498db\">25</text>\n</g>\n<!-- 9&#45;&gt;25 -->\n<g id=\"edge144\" class=\"edge\">\n<title>9&#45;&gt;25</title>\n<path fill=\"none\" stroke=\"#707070\" stroke-width=\".5\" d=\"M210.9447,-721.3978C280.2766,-672.2547 570.3232,-466.667 643.9488,-414.4805\"/>\n</g>\n<!-- 26 -->\n<g id=\"node26\" class=\"node\">\n<title>26</title>\n<ellipse fill=\"#3498db\" stroke=\"#3498db\" cx=\"583\" cy=\"-402.3945\" rx=\"20.5982\" ry=\"20.5982\"/>\n<text text-anchor=\"middle\" x=\"583\" y=\"-398.6945\" font-family=\"Times,serif\" font-size=\"14.00\" fill=\"#3498db\">26</text>\n</g>\n<!-- 9&#45;&gt;26 -->\n<g id=\"edge155\" class=\"edge\">\n<title>9&#45;&gt;26</title>\n<path fill=\"none\" stroke=\"#707070\" stroke-width=\".5\" d=\"M209.7735,-720.2603C269.1534,-669.6882 503.1337,-470.4142 566.8848,-416.1193\"/>\n</g>\n<!-- 27 -->\n<g id=\"node27\" class=\"node\">\n<title>27</title>\n<ellipse fill=\"#3498db\" stroke=\"#3498db\" cx=\"505\" cy=\"-402.3945\" rx=\"20.5982\" ry=\"20.5982\"/>\n<text text-anchor=\"middle\" x=\"505\" y=\"-398.6945\" font-family=\"Times,serif\" font-size=\"14.00\" fill=\"#3498db\">27</text>\n</g>\n<!-- 9&#45;&gt;27 -->\n<g id=\"edge166\" class=\"edge\">\n<title>9&#45;&gt;27</title>\n<path fill=\"none\" stroke=\"#707070\" stroke-width=\".5\" d=\"M208.4959,-718.662C257.7238,-666.1528 438.123,-473.7292 490.5943,-417.7604\"/>\n</g>\n<!-- 28 -->\n<g id=\"node28\" class=\"node\">\n<title>28</title>\n<ellipse fill=\"#3498db\" stroke=\"#3498db\" cx=\"427\" cy=\"-402.3945\" rx=\"20.5982\" ry=\"20.5982\"/>\n<text text-anchor=\"middle\" x=\"427\" y=\"-398.6945\" font-family=\"Times,serif\" font-size=\"14.00\" fill=\"#3498db\">28</text>\n</g>\n<!-- 9&#45;&gt;28 -->\n<g id=\"edge177\" class=\"edge\">\n<title>9&#45;&gt;28</title>\n<path fill=\"none\" stroke=\"#707070\" stroke-width=\".5\" d=\"M206.5258,-716.9722C244.5669,-662.6943 374.7951,-476.8816 415.048,-419.4478\"/>\n</g>\n<!-- 29 -->\n<g id=\"node29\" class=\"node\">\n<title>29</title>\n<ellipse fill=\"#3498db\" stroke=\"#3498db\" cx=\"349\" cy=\"-402.3945\" rx=\"20.5982\" ry=\"20.5982\"/>\n<text text-anchor=\"middle\" x=\"349\" y=\"-398.6945\" font-family=\"Times,serif\" font-size=\"14.00\" fill=\"#3498db\">29</text>\n</g>\n<!-- 9&#45;&gt;29 -->\n<g id=\"edge188\" class=\"edge\">\n<title>9&#45;&gt;29</title>\n<path fill=\"none\" stroke=\"#707070\" stroke-width=\".5\" d=\"M203.5873,-715.646C229.2137,-660.4411 312.4899,-481.0453 340.0509,-421.6728\"/>\n</g>\n<!-- 30 -->\n<g id=\"node30\" class=\"node\">\n<title>30</title>\n<ellipse fill=\"#3498db\" stroke=\"#3498db\" cx=\"271\" cy=\"-402.3945\" rx=\"20.5982\" ry=\"20.5982\"/>\n<text text-anchor=\"middle\" x=\"271\" y=\"-398.6945\" font-family=\"Times,serif\" font-size=\"14.00\" fill=\"#3498db\">30</text>\n</g>\n<!-- 9&#45;&gt;30 -->\n<g id=\"edge199\" class=\"edge\">\n<title>9&#45;&gt;30</title>\n<path fill=\"none\" stroke=\"#707070\" stroke-width=\".5\" d=\"M200.0323,-714.2702C212.8722,-657.8438 252.7573,-482.5642 266.3826,-422.686\"/>\n</g>\n<!-- 10&#45;&gt;20 -->\n<g id=\"edge90\" class=\"edge\">\n<title>10&#45;&gt;20</title>\n<path fill=\"none\" stroke=\"#707070\" stroke-width=\".5\" d=\"M125.5039,-711.373C138.4341,-652.182 175.5697,-482.1857 188.4978,-423.0044\"/>\n</g>\n<!-- 10&#45;&gt;21 -->\n<g id=\"edge101\" class=\"edge\">\n<title>10&#45;&gt;21</title>\n<path fill=\"none\" stroke=\"#707070\" stroke-width=\".5\" d=\"M120.6201,-711.123C119.5408,-651.8312 116.4641,-482.8242 115.3821,-423.3833\"/>\n</g>\n<!-- 10&#45;&gt;22 -->\n<g id=\"edge112\" class=\"edge\">\n<title>10&#45;&gt;22</title>\n<path fill=\"none\" stroke=\"#707070\" stroke-width=\".5\" d=\"M115.7454,-711.373C100.6242,-652.0411 57.1289,-481.3756 42.1453,-422.5836\"/>\n</g>\n<!-- 10&#45;&gt;23 -->\n<g id=\"edge123\" class=\"edge\">\n<title>10&#45;&gt;23</title>\n<path fill=\"none\" stroke=\"#707070\" stroke-width=\".5\" d=\"M139.9773,-723.0039C239.3253,-675.9569 698.7328,-458.4008 798.0397,-411.3733\"/>\n</g>\n<!-- 10&#45;&gt;24 -->\n<g id=\"edge134\" class=\"edge\">\n<title>10&#45;&gt;24</title>\n<path fill=\"none\" stroke=\"#707070\" stroke-width=\".5\" d=\"M139.4955,-722.1266C230.4739,-673.6054 629.7614,-460.6544 720.5766,-412.2202\"/>\n</g>\n<!-- 10&#45;&gt;25 -->\n<g id=\"edge145\" class=\"edge\">\n<title>10&#45;&gt;25</title>\n<path fill=\"none\" stroke=\"#707070\" stroke-width=\".5\" d=\"M138.9668,-721.0245C221.2273,-670.8157 561.4125,-463.179 643.2398,-413.2347\"/>\n</g>\n<!-- 10&#45;&gt;26 -->\n<g id=\"edge156\" class=\"edge\">\n<title>10&#45;&gt;26</title>\n<path fill=\"none\" stroke=\"#707070\" stroke-width=\".5\" d=\"M137.9907,-719.8694C210.4344,-668.1872 493.113,-466.5209 565.8548,-414.6261\"/>\n</g>\n<!-- 10&#45;&gt;27 -->\n<g id=\"edge167\" class=\"edge\">\n<title>10&#45;&gt;27</title>\n<path fill=\"none\" stroke=\"#707070\" stroke-width=\".5\" d=\"M137.0111,-718.2481C199.4661,-664.6414 426.3457,-469.9053 488.9205,-416.1958\"/>\n</g>\n<!-- 10&#45;&gt;28 -->\n<g id=\"edge178\" class=\"edge\">\n<title>10&#45;&gt;28</title>\n<path fill=\"none\" stroke=\"#707070\" stroke-width=\".5\" d=\"M135.3486,-716.5357C186.7477,-661.1731 361.333,-473.1252 412.6825,-417.8161\"/>\n</g>\n<!-- 10&#45;&gt;29 -->\n<g id=\"edge189\" class=\"edge\">\n<title>10&#45;&gt;29</title>\n<path fill=\"none\" stroke=\"#707070\" stroke-width=\".5\" d=\"M132.9373,-714.7343C172.245,-657.9112 297.3707,-477.0296 336.9058,-419.8778\"/>\n</g>\n<!-- 10&#45;&gt;30 -->\n<g id=\"edge200\" class=\"edge\">\n<title>10&#45;&gt;30</title>\n<path fill=\"none\" stroke=\"#707070\" stroke-width=\".5\" d=\"M129.713,-712.8456C156.2243,-654.5921 235.7196,-479.9164 262.263,-421.5924\"/>\n</g>\n<!-- 11&#45;&gt;20 -->\n<g id=\"edge91\" class=\"edge\">\n<title>11&#45;&gt;20</title>\n<path fill=\"none\" stroke=\"#707070\" stroke-width=\".5\" d=\"M52.4378,-713.3259C78.5403,-655.5857 157.8068,-480.2437 184.2836,-421.6756\"/>\n</g>\n<!-- 11&#45;&gt;21 -->\n<g id=\"edge102\" class=\"edge\">\n<title>11&#45;&gt;21</title>\n<path fill=\"none\" stroke=\"#707070\" stroke-width=\".5\" d=\"M48.3345,-711.8692C60.9797,-653.1675 97.7389,-482.5238 110.541,-423.0941\"/>\n</g>\n<!-- 11&#45;&gt;22 -->\n<g id=\"edge113\" class=\"edge\">\n<title>11&#45;&gt;22</title>\n<path fill=\"none\" stroke=\"#707070\" stroke-width=\".5\" d=\"M43.5621,-711.373C42.308,-652.323 38.7118,-482.9946 37.4467,-423.429\"/>\n</g>\n<!-- 11&#45;&gt;23 -->\n<g id=\"edge124\" class=\"edge\">\n<title>11&#45;&gt;23</title>\n<path fill=\"none\" stroke=\"#707070\" stroke-width=\".5\" d=\"M62.725,-724.0067C168.5546,-678.8824 690.834,-456.1899 797.8281,-410.5691\"/>\n</g>\n<!-- 11&#45;&gt;24 -->\n<g id=\"edge135\" class=\"edge\">\n<title>11&#45;&gt;24</title>\n<path fill=\"none\" stroke=\"#707070\" stroke-width=\".5\" d=\"M62.2323,-723.3443C159.895,-677.0288 620.4169,-458.6312 719.9877,-411.4108\"/>\n</g>\n<!-- 11&#45;&gt;25 -->\n<g id=\"edge146\" class=\"edge\">\n<title>11&#45;&gt;25</title>\n<path fill=\"none\" stroke=\"#707070\" stroke-width=\".5\" d=\"M61.8002,-722.4821C151.3063,-674.6686 551.4883,-460.8947 642.5292,-412.2614\"/>\n</g>\n<!-- 11&#45;&gt;26 -->\n<g id=\"edge157\" class=\"edge\">\n<title>11&#45;&gt;26</title>\n<path fill=\"none\" stroke=\"#707070\" stroke-width=\".5\" d=\"M61.323,-721.3978C142.3191,-671.8691 483.1855,-463.4306 565.1979,-413.2804\"/>\n</g>\n<!-- 11&#45;&gt;27 -->\n<g id=\"edge168\" class=\"edge\">\n<title>11&#45;&gt;27</title>\n<path fill=\"none\" stroke=\"#707070\" stroke-width=\".5\" d=\"M60.4072,-720.2603C131.783,-669.2295 414.9354,-466.787 487.8194,-414.6779\"/>\n</g>\n<!-- 11&#45;&gt;28 -->\n<g id=\"edge179\" class=\"edge\">\n<title>11&#45;&gt;28</title>\n<path fill=\"none\" stroke=\"#707070\" stroke-width=\".5\" d=\"M59.4884,-718.662C121.0654,-665.671 348.2236,-470.1867 410.8941,-416.2546\"/>\n</g>\n<!-- 11&#45;&gt;29 -->\n<g id=\"edge190\" class=\"edge\">\n<title>11&#45;&gt;29</title>\n<path fill=\"none\" stroke=\"#707070\" stroke-width=\".5\" d=\"M57.8978,-716.9722C108.5913,-662.1906 283.2735,-473.4213 334.6681,-417.8821\"/>\n</g>\n<!-- 11&#45;&gt;30 -->\n<g id=\"edge201\" class=\"edge\">\n<title>11&#45;&gt;30</title>\n<path fill=\"none\" stroke=\"#707070\" stroke-width=\".5\" d=\"M55.569,-715.1929C94.4187,-658.7845 219.9646,-476.4961 259.182,-419.5537\"/>\n</g>\n<!-- 12&#45;&gt;20 -->\n<g id=\"edge92\" class=\"edge\">\n<title>12&#45;&gt;20</title>\n<path fill=\"none\" stroke=\"#707070\" stroke-width=\".5\" d=\"M798.3249,-722.1266C706.4633,-673.6054 303.2992,-460.6544 211.6022,-412.2202\"/>\n</g>\n<!-- 12&#45;&gt;21 -->\n<g id=\"edge103\" class=\"edge\">\n<title>12&#45;&gt;21</title>\n<path fill=\"none\" stroke=\"#707070\" stroke-width=\".5\" d=\"M797.8591,-723.0039C697.6547,-675.9569 234.2867,-458.4008 134.1237,-411.3733\"/>\n</g>\n<!-- 12&#45;&gt;22 -->\n<g id=\"edge114\" class=\"edge\">\n<title>12&#45;&gt;22</title>\n<path fill=\"none\" stroke=\"#707070\" stroke-width=\".5\" d=\"M797.719,-723.8434C690.0391,-678.3423 164.048,-456.0798 56.3053,-410.5521\"/>\n</g>\n<!-- 12&#45;&gt;23 -->\n<g id=\"edge125\" class=\"edge\">\n<title>12&#45;&gt;23</title>\n<path fill=\"none\" stroke=\"#707070\" stroke-width=\".5\" d=\"M817,-711.123C817,-651.8312 817,-482.8242 817,-423.3833\"/>\n</g>\n<!-- 12&#45;&gt;24 -->\n<g id=\"edge136\" class=\"edge\">\n<title>12&#45;&gt;24</title>\n<path fill=\"none\" stroke=\"#707070\" stroke-width=\".5\" d=\"M812.1208,-711.373C798.113,-652.182 757.8828,-482.1857 743.8774,-423.0044\"/>\n</g>\n<!-- 12&#45;&gt;25 -->\n<g id=\"edge147\" class=\"edge\">\n<title>12&#45;&gt;25</title>\n<path fill=\"none\" stroke=\"#707070\" stroke-width=\".5\" d=\"M807.9385,-712.8456C780.3667,-654.5921 697.6916,-479.9164 670.0865,-421.5924\"/>\n</g>\n<!-- 12&#45;&gt;26 -->\n<g id=\"edge158\" class=\"edge\">\n<title>12&#45;&gt;26</title>\n<path fill=\"none\" stroke=\"#707070\" stroke-width=\".5\" d=\"M804.7486,-714.7343C764.3124,-657.7787 635.3888,-476.1857 595.1301,-419.4801\"/>\n</g>\n<!-- 12&#45;&gt;27 -->\n<g id=\"edge169\" class=\"edge\">\n<title>12&#45;&gt;27</title>\n<path fill=\"none\" stroke=\"#707070\" stroke-width=\".5\" d=\"M802.3701,-716.5357C749.9631,-661.1731 571.9546,-473.1252 519.5983,-417.8161\"/>\n</g>\n<!-- 12&#45;&gt;28 -->\n<g id=\"edge180\" class=\"edge\">\n<title>12&#45;&gt;28</title>\n<path fill=\"none\" stroke=\"#707070\" stroke-width=\".5\" d=\"M800.7387,-718.2481C737.1637,-664.5196 505.835,-469.0194 442.9,-415.8318\"/>\n</g>\n<!-- 12&#45;&gt;29 -->\n<g id=\"edge191\" class=\"edge\">\n<title>12&#45;&gt;29</title>\n<path fill=\"none\" stroke=\"#707070\" stroke-width=\".5\" d=\"M799.7886,-719.8694C726.4041,-668.1872 440.0543,-466.5209 366.3679,-414.6261\"/>\n</g>\n<!-- 12&#45;&gt;30 -->\n<g id=\"edge202\" class=\"edge\">\n<title>12&#45;&gt;30</title>\n<path fill=\"none\" stroke=\"#707070\" stroke-width=\".5\" d=\"M799.144,-721.2119C716.5313,-671.3422 371.9023,-463.3048 288.9954,-413.2575\"/>\n</g>\n<!-- 13&#45;&gt;20 -->\n<g id=\"edge93\" class=\"edge\">\n<title>13&#45;&gt;20</title>\n<path fill=\"none\" stroke=\"#707070\" stroke-width=\".5\" d=\"M721.144,-721.2119C638.5313,-671.3422 293.9023,-463.3048 210.9954,-413.2575\"/>\n</g>\n<!-- 13&#45;&gt;21 -->\n<g id=\"edge104\" class=\"edge\">\n<title>13&#45;&gt;21</title>\n<path fill=\"none\" stroke=\"#707070\" stroke-width=\".5\" d=\"M720.3249,-722.1266C628.4633,-673.6054 225.2992,-460.6544 133.6022,-412.2202\"/>\n</g>\n<!-- 13&#45;&gt;22 -->\n<g id=\"edge115\" class=\"edge\">\n<title>13&#45;&gt;22</title>\n<path fill=\"none\" stroke=\"#707070\" stroke-width=\".5\" d=\"M719.8591,-723.0039C619.6547,-675.9569 156.2867,-458.4008 56.1237,-411.3733\"/>\n</g>\n<!-- 13&#45;&gt;23 -->\n<g id=\"edge126\" class=\"edge\">\n<title>13&#45;&gt;23</title>\n<path fill=\"none\" stroke=\"#707070\" stroke-width=\".5\" d=\"M743.8792,-711.373C757.887,-652.182 798.1172,-482.1857 812.1226,-423.0044\"/>\n</g>\n<!-- 13&#45;&gt;24 -->\n<g id=\"edge137\" class=\"edge\">\n<title>13&#45;&gt;24</title>\n<path fill=\"none\" stroke=\"#707070\" stroke-width=\".5\" d=\"M739,-711.123C739,-651.8312 739,-482.8242 739,-423.3833\"/>\n</g>\n<!-- 13&#45;&gt;25 -->\n<g id=\"edge148\" class=\"edge\">\n<title>13&#45;&gt;25</title>\n<path fill=\"none\" stroke=\"#707070\" stroke-width=\".5\" d=\"M734.1208,-711.373C720.113,-652.182 679.8828,-482.1857 665.8774,-423.0044\"/>\n</g>\n<!-- 13&#45;&gt;26 -->\n<g id=\"edge159\" class=\"edge\">\n<title>13&#45;&gt;26</title>\n<path fill=\"none\" stroke=\"#707070\" stroke-width=\".5\" d=\"M729.9385,-712.8456C702.3667,-654.5921 619.6916,-479.9164 592.0865,-421.5924\"/>\n</g>\n<!-- 13&#45;&gt;27 -->\n<g id=\"edge170\" class=\"edge\">\n<title>13&#45;&gt;27</title>\n<path fill=\"none\" stroke=\"#707070\" stroke-width=\".5\" d=\"M726.7486,-714.7343C686.3124,-657.7787 557.3888,-476.1857 517.1301,-419.4801\"/>\n</g>\n<!-- 13&#45;&gt;28 -->\n<g id=\"edge181\" class=\"edge\">\n<title>13&#45;&gt;28</title>\n<path fill=\"none\" stroke=\"#707070\" stroke-width=\".5\" d=\"M724.3701,-716.5357C671.9631,-661.1731 493.9546,-473.1252 441.5983,-417.8161\"/>\n</g>\n<!-- 13&#45;&gt;29 -->\n<g id=\"edge192\" class=\"edge\">\n<title>13&#45;&gt;29</title>\n<path fill=\"none\" stroke=\"#707070\" stroke-width=\".5\" d=\"M722.7387,-718.2481C659.1637,-664.5196 427.835,-469.0194 364.9,-415.8318\"/>\n</g>\n<!-- 13&#45;&gt;30 -->\n<g id=\"edge203\" class=\"edge\">\n<title>13&#45;&gt;30</title>\n<path fill=\"none\" stroke=\"#707070\" stroke-width=\".5\" d=\"M721.7886,-719.8694C648.4041,-668.1872 362.0543,-466.5209 288.3679,-414.6261\"/>\n</g>\n<!-- 14&#45;&gt;20 -->\n<g id=\"edge94\" class=\"edge\">\n<title>14&#45;&gt;20</title>\n<path fill=\"none\" stroke=\"#707070\" stroke-width=\".5\" d=\"M643.7886,-719.8694C570.4041,-668.1872 284.0543,-466.5209 210.3679,-414.6261\"/>\n</g>\n<!-- 14&#45;&gt;21 -->\n<g id=\"edge105\" class=\"edge\">\n<title>14&#45;&gt;21</title>\n<path fill=\"none\" stroke=\"#707070\" stroke-width=\".5\" d=\"M643.144,-721.2119C560.5313,-671.3422 215.9023,-463.3048 132.9954,-413.2575\"/>\n</g>\n<!-- 14&#45;&gt;22 -->\n<g id=\"edge116\" class=\"edge\">\n<title>14&#45;&gt;22</title>\n<path fill=\"none\" stroke=\"#707070\" stroke-width=\".5\" d=\"M642.3249,-722.1266C550.4633,-673.6054 147.2992,-460.6544 55.6022,-412.2202\"/>\n</g>\n<!-- 14&#45;&gt;23 -->\n<g id=\"edge127\" class=\"edge\">\n<title>14&#45;&gt;23</title>\n<path fill=\"none\" stroke=\"#707070\" stroke-width=\".5\" d=\"M670.0615,-712.8456C697.6333,-654.5921 780.3084,-479.9164 807.9135,-421.5924\"/>\n</g>\n<!-- 14&#45;&gt;24 -->\n<g id=\"edge138\" class=\"edge\">\n<title>14&#45;&gt;24</title>\n<path fill=\"none\" stroke=\"#707070\" stroke-width=\".5\" d=\"M665.8792,-711.373C679.887,-652.182 720.1172,-482.1857 734.1226,-423.0044\"/>\n</g>\n<!-- 14&#45;&gt;25 -->\n<g id=\"edge149\" class=\"edge\">\n<title>14&#45;&gt;25</title>\n<path fill=\"none\" stroke=\"#707070\" stroke-width=\".5\" d=\"M661,-711.123C661,-651.8312 661,-482.8242 661,-423.3833\"/>\n</g>\n<!-- 14&#45;&gt;26 -->\n<g id=\"edge160\" class=\"edge\">\n<title>14&#45;&gt;26</title>\n<path fill=\"none\" stroke=\"#707070\" stroke-width=\".5\" d=\"M656.1208,-711.373C642.113,-652.182 601.8828,-482.1857 587.8774,-423.0044\"/>\n</g>\n<!-- 14&#45;&gt;27 -->\n<g id=\"edge171\" class=\"edge\">\n<title>14&#45;&gt;27</title>\n<path fill=\"none\" stroke=\"#707070\" stroke-width=\".5\" d=\"M651.9385,-712.8456C624.3667,-654.5921 541.6916,-479.9164 514.0865,-421.5924\"/>\n</g>\n<!-- 14&#45;&gt;28 -->\n<g id=\"edge182\" class=\"edge\">\n<title>14&#45;&gt;28</title>\n<path fill=\"none\" stroke=\"#707070\" stroke-width=\".5\" d=\"M648.7486,-714.7343C608.3124,-657.7787 479.3888,-476.1857 439.1301,-419.4801\"/>\n</g>\n<!-- 14&#45;&gt;29 -->\n<g id=\"edge193\" class=\"edge\">\n<title>14&#45;&gt;29</title>\n<path fill=\"none\" stroke=\"#707070\" stroke-width=\".5\" d=\"M646.3701,-716.5357C593.9631,-661.1731 415.9546,-473.1252 363.5983,-417.8161\"/>\n</g>\n<!-- 14&#45;&gt;30 -->\n<g id=\"edge204\" class=\"edge\">\n<title>14&#45;&gt;30</title>\n<path fill=\"none\" stroke=\"#707070\" stroke-width=\".5\" d=\"M644.7387,-718.2481C581.1637,-664.5196 349.835,-469.0194 286.9,-415.8318\"/>\n</g>\n<!-- 15&#45;&gt;20 -->\n<g id=\"edge95\" class=\"edge\">\n<title>15&#45;&gt;20</title>\n<path fill=\"none\" stroke=\"#707070\" stroke-width=\".5\" d=\"M566.7387,-718.2481C503.1637,-664.5196 271.835,-469.0194 208.9,-415.8318\"/>\n</g>\n<!-- 15&#45;&gt;21 -->\n<g id=\"edge106\" class=\"edge\">\n<title>15&#45;&gt;21</title>\n<path fill=\"none\" stroke=\"#707070\" stroke-width=\".5\" d=\"M565.7886,-719.8694C492.4041,-668.1872 206.0543,-466.5209 132.3679,-414.6261\"/>\n</g>\n<!-- 15&#45;&gt;22 -->\n<g id=\"edge117\" class=\"edge\">\n<title>15&#45;&gt;22</title>\n<path fill=\"none\" stroke=\"#707070\" stroke-width=\".5\" d=\"M565.144,-721.2119C482.5313,-671.3422 137.9023,-463.3048 54.9954,-413.2575\"/>\n</g>\n<!-- 15&#45;&gt;23 -->\n<g id=\"edge128\" class=\"edge\">\n<title>15&#45;&gt;23</title>\n<path fill=\"none\" stroke=\"#707070\" stroke-width=\".5\" d=\"M595.2514,-714.7343C635.6876,-657.7787 764.6112,-476.1857 804.8699,-419.4801\"/>\n</g>\n<!-- 15&#45;&gt;24 -->\n<g id=\"edge139\" class=\"edge\">\n<title>15&#45;&gt;24</title>\n<path fill=\"none\" stroke=\"#707070\" stroke-width=\".5\" d=\"M592.0615,-712.8456C619.6333,-654.5921 702.3084,-479.9164 729.9135,-421.5924\"/>\n</g>\n<!-- 15&#45;&gt;25 -->\n<g id=\"edge150\" class=\"edge\">\n<title>15&#45;&gt;25</title>\n<path fill=\"none\" stroke=\"#707070\" stroke-width=\".5\" d=\"M587.8792,-711.373C601.887,-652.182 642.1172,-482.1857 656.1226,-423.0044\"/>\n</g>\n<!-- 15&#45;&gt;26 -->\n<g id=\"edge161\" class=\"edge\">\n<title>15&#45;&gt;26</title>\n<path fill=\"none\" stroke=\"#707070\" stroke-width=\".5\" d=\"M583,-711.123C583,-651.8312 583,-482.8242 583,-423.3833\"/>\n</g>\n<!-- 15&#45;&gt;27 -->\n<g id=\"edge172\" class=\"edge\">\n<title>15&#45;&gt;27</title>\n<path fill=\"none\" stroke=\"#707070\" stroke-width=\".5\" d=\"M578.1208,-711.373C564.113,-652.182 523.8828,-482.1857 509.8774,-423.0044\"/>\n</g>\n<!-- 15&#45;&gt;28 -->\n<g id=\"edge183\" class=\"edge\">\n<title>15&#45;&gt;28</title>\n<path fill=\"none\" stroke=\"#707070\" stroke-width=\".5\" d=\"M573.9385,-712.8456C546.3667,-654.5921 463.6916,-479.9164 436.0865,-421.5924\"/>\n</g>\n<!-- 15&#45;&gt;29 -->\n<g id=\"edge194\" class=\"edge\">\n<title>15&#45;&gt;29</title>\n<path fill=\"none\" stroke=\"#707070\" stroke-width=\".5\" d=\"M570.7486,-714.7343C530.3124,-657.7787 401.3888,-476.1857 361.1301,-419.4801\"/>\n</g>\n<!-- 15&#45;&gt;30 -->\n<g id=\"edge205\" class=\"edge\">\n<title>15&#45;&gt;30</title>\n<path fill=\"none\" stroke=\"#707070\" stroke-width=\".5\" d=\"M568.3701,-716.5357C515.9631,-661.1731 337.9546,-473.1252 285.5983,-417.8161\"/>\n</g>\n<!-- 16&#45;&gt;20 -->\n<g id=\"edge96\" class=\"edge\">\n<title>16&#45;&gt;20</title>\n<path fill=\"none\" stroke=\"#707070\" stroke-width=\".5\" d=\"M490.3701,-716.5357C437.9631,-661.1731 259.9546,-473.1252 207.5983,-417.8161\"/>\n</g>\n<!-- 16&#45;&gt;21 -->\n<g id=\"edge107\" class=\"edge\">\n<title>16&#45;&gt;21</title>\n<path fill=\"none\" stroke=\"#707070\" stroke-width=\".5\" d=\"M488.7387,-718.2481C425.1637,-664.5196 193.835,-469.0194 130.9,-415.8318\"/>\n</g>\n<!-- 16&#45;&gt;22 -->\n<g id=\"edge118\" class=\"edge\">\n<title>16&#45;&gt;22</title>\n<path fill=\"none\" stroke=\"#707070\" stroke-width=\".5\" d=\"M487.7886,-719.8694C414.4041,-668.1872 128.0543,-466.5209 54.3679,-414.6261\"/>\n</g>\n<!-- 16&#45;&gt;23 -->\n<g id=\"edge129\" class=\"edge\">\n<title>16&#45;&gt;23</title>\n<path fill=\"none\" stroke=\"#707070\" stroke-width=\".5\" d=\"M519.6299,-716.5357C572.0369,-661.1731 750.0454,-473.1252 802.4017,-417.8161\"/>\n</g>\n<!-- 16&#45;&gt;24 -->\n<g id=\"edge140\" class=\"edge\">\n<title>16&#45;&gt;24</title>\n<path fill=\"none\" stroke=\"#707070\" stroke-width=\".5\" d=\"M517.2514,-714.7343C557.6876,-657.7787 686.6112,-476.1857 726.8699,-419.4801\"/>\n</g>\n<!-- 16&#45;&gt;25 -->\n<g id=\"edge151\" class=\"edge\">\n<title>16&#45;&gt;25</title>\n<path fill=\"none\" stroke=\"#707070\" stroke-width=\".5\" d=\"M514.0615,-712.8456C541.6333,-654.5921 624.3084,-479.9164 651.9135,-421.5924\"/>\n</g>\n<!-- 16&#45;&gt;26 -->\n<g id=\"edge162\" class=\"edge\">\n<title>16&#45;&gt;26</title>\n<path fill=\"none\" stroke=\"#707070\" stroke-width=\".5\" d=\"M509.8792,-711.373C523.887,-652.182 564.1172,-482.1857 578.1226,-423.0044\"/>\n</g>\n<!-- 16&#45;&gt;27 -->\n<g id=\"edge173\" class=\"edge\">\n<title>16&#45;&gt;27</title>\n<path fill=\"none\" stroke=\"#707070\" stroke-width=\".5\" d=\"M505,-711.123C505,-651.8312 505,-482.8242 505,-423.3833\"/>\n</g>\n<!-- 16&#45;&gt;28 -->\n<g id=\"edge184\" class=\"edge\">\n<title>16&#45;&gt;28</title>\n<path fill=\"none\" stroke=\"#707070\" stroke-width=\".5\" d=\"M500.1208,-711.373C486.113,-652.182 445.8828,-482.1857 431.8774,-423.0044\"/>\n</g>\n<!-- 16&#45;&gt;29 -->\n<g id=\"edge195\" class=\"edge\">\n<title>16&#45;&gt;29</title>\n<path fill=\"none\" stroke=\"#707070\" stroke-width=\".5\" d=\"M495.9385,-712.8456C468.3667,-654.5921 385.6916,-479.9164 358.0865,-421.5924\"/>\n</g>\n<!-- 16&#45;&gt;30 -->\n<g id=\"edge206\" class=\"edge\">\n<title>16&#45;&gt;30</title>\n<path fill=\"none\" stroke=\"#707070\" stroke-width=\".5\" d=\"M492.7486,-714.7343C452.3124,-657.7787 323.3888,-476.1857 283.1301,-419.4801\"/>\n</g>\n<!-- 17&#45;&gt;20 -->\n<g id=\"edge97\" class=\"edge\">\n<title>17&#45;&gt;20</title>\n<path fill=\"none\" stroke=\"#707070\" stroke-width=\".5\" d=\"M414.7486,-714.7343C374.3124,-657.7787 245.3888,-476.1857 205.1301,-419.4801\"/>\n</g>\n<!-- 17&#45;&gt;21 -->\n<g id=\"edge108\" class=\"edge\">\n<title>17&#45;&gt;21</title>\n<path fill=\"none\" stroke=\"#707070\" stroke-width=\".5\" d=\"M412.3701,-716.5357C359.9631,-661.1731 181.9546,-473.1252 129.5983,-417.8161\"/>\n</g>\n<!-- 17&#45;&gt;22 -->\n<g id=\"edge119\" class=\"edge\">\n<title>17&#45;&gt;22</title>\n<path fill=\"none\" stroke=\"#707070\" stroke-width=\".5\" d=\"M410.7387,-718.2481C347.1637,-664.5196 115.835,-469.0194 52.9,-415.8318\"/>\n</g>\n<!-- 17&#45;&gt;23 -->\n<g id=\"edge130\" class=\"edge\">\n<title>17&#45;&gt;23</title>\n<path fill=\"none\" stroke=\"#707070\" stroke-width=\".5\" d=\"M443.2613,-718.2481C506.8363,-664.5196 738.165,-469.0194 801.1,-415.8318\"/>\n</g>\n<!-- 17&#45;&gt;24 -->\n<g id=\"edge141\" class=\"edge\">\n<title>17&#45;&gt;24</title>\n<path fill=\"none\" stroke=\"#707070\" stroke-width=\".5\" d=\"M441.6299,-716.5357C494.0369,-661.1731 672.0454,-473.1252 724.4017,-417.8161\"/>\n</g>\n<!-- 17&#45;&gt;25 -->\n<g id=\"edge152\" class=\"edge\">\n<title>17&#45;&gt;25</title>\n<path fill=\"none\" stroke=\"#707070\" stroke-width=\".5\" d=\"M439.2514,-714.7343C479.6876,-657.7787 608.6112,-476.1857 648.8699,-419.4801\"/>\n</g>\n<!-- 17&#45;&gt;26 -->\n<g id=\"edge163\" class=\"edge\">\n<title>17&#45;&gt;26</title>\n<path fill=\"none\" stroke=\"#707070\" stroke-width=\".5\" d=\"M436.0615,-712.8456C463.6333,-654.5921 546.3084,-479.9164 573.9135,-421.5924\"/>\n</g>\n<!-- 17&#45;&gt;27 -->\n<g id=\"edge174\" class=\"edge\">\n<title>17&#45;&gt;27</title>\n<path fill=\"none\" stroke=\"#707070\" stroke-width=\".5\" d=\"M431.8792,-711.373C445.887,-652.182 486.1172,-482.1857 500.1226,-423.0044\"/>\n</g>\n<!-- 17&#45;&gt;28 -->\n<g id=\"edge185\" class=\"edge\">\n<title>17&#45;&gt;28</title>\n<path fill=\"none\" stroke=\"#707070\" stroke-width=\".5\" d=\"M427,-711.123C427,-651.8312 427,-482.8242 427,-423.3833\"/>\n</g>\n<!-- 17&#45;&gt;29 -->\n<g id=\"edge196\" class=\"edge\">\n<title>17&#45;&gt;29</title>\n<path fill=\"none\" stroke=\"#707070\" stroke-width=\".5\" d=\"M422.1208,-711.373C408.113,-652.182 367.8828,-482.1857 353.8774,-423.0044\"/>\n</g>\n<!-- 17&#45;&gt;30 -->\n<g id=\"edge207\" class=\"edge\">\n<title>17&#45;&gt;30</title>\n<path fill=\"none\" stroke=\"#707070\" stroke-width=\".5\" d=\"M417.9385,-712.8456C390.3667,-654.5921 307.6916,-479.9164 280.0865,-421.5924\"/>\n</g>\n<!-- 18&#45;&gt;20 -->\n<g id=\"edge98\" class=\"edge\">\n<title>18&#45;&gt;20</title>\n<path fill=\"none\" stroke=\"#707070\" stroke-width=\".5\" d=\"M339.9385,-712.8456C312.3667,-654.5921 229.6916,-479.9164 202.0865,-421.5924\"/>\n</g>\n<!-- 18&#45;&gt;21 -->\n<g id=\"edge109\" class=\"edge\">\n<title>18&#45;&gt;21</title>\n<path fill=\"none\" stroke=\"#707070\" stroke-width=\".5\" d=\"M336.7486,-714.7343C296.3124,-657.7787 167.3888,-476.1857 127.1301,-419.4801\"/>\n</g>\n<!-- 18&#45;&gt;22 -->\n<g id=\"edge120\" class=\"edge\">\n<title>18&#45;&gt;22</title>\n<path fill=\"none\" stroke=\"#707070\" stroke-width=\".5\" d=\"M334.3701,-716.5357C281.9631,-661.1731 103.9546,-473.1252 51.5983,-417.8161\"/>\n</g>\n<!-- 18&#45;&gt;23 -->\n<g id=\"edge131\" class=\"edge\">\n<title>18&#45;&gt;23</title>\n<path fill=\"none\" stroke=\"#707070\" stroke-width=\".5\" d=\"M366.2114,-719.8694C439.5959,-668.1872 725.9457,-466.5209 799.6321,-414.6261\"/>\n</g>\n<!-- 18&#45;&gt;24 -->\n<g id=\"edge142\" class=\"edge\">\n<title>18&#45;&gt;24</title>\n<path fill=\"none\" stroke=\"#707070\" stroke-width=\".5\" d=\"M365.2613,-718.2481C428.8363,-664.5196 660.165,-469.0194 723.1,-415.8318\"/>\n</g>\n<!-- 18&#45;&gt;25 -->\n<g id=\"edge153\" class=\"edge\">\n<title>18&#45;&gt;25</title>\n<path fill=\"none\" stroke=\"#707070\" stroke-width=\".5\" d=\"M363.6299,-716.5357C416.0369,-661.1731 594.0454,-473.1252 646.4017,-417.8161\"/>\n</g>\n<!-- 18&#45;&gt;26 -->\n<g id=\"edge164\" class=\"edge\">\n<title>18&#45;&gt;26</title>\n<path fill=\"none\" stroke=\"#707070\" stroke-width=\".5\" d=\"M361.2514,-714.7343C401.6876,-657.7787 530.6112,-476.1857 570.8699,-419.4801\"/>\n</g>\n<!-- 18&#45;&gt;27 -->\n<g id=\"edge175\" class=\"edge\">\n<title>18&#45;&gt;27</title>\n<path fill=\"none\" stroke=\"#707070\" stroke-width=\".5\" d=\"M358.0615,-712.8456C385.6333,-654.5921 468.3084,-479.9164 495.9135,-421.5924\"/>\n</g>\n<!-- 18&#45;&gt;28 -->\n<g id=\"edge186\" class=\"edge\">\n<title>18&#45;&gt;28</title>\n<path fill=\"none\" stroke=\"#707070\" stroke-width=\".5\" d=\"M353.8792,-711.373C367.887,-652.182 408.1172,-482.1857 422.1226,-423.0044\"/>\n</g>\n<!-- 18&#45;&gt;29 -->\n<g id=\"edge197\" class=\"edge\">\n<title>18&#45;&gt;29</title>\n<path fill=\"none\" stroke=\"#707070\" stroke-width=\".5\" d=\"M349,-711.123C349,-651.8312 349,-482.8242 349,-423.3833\"/>\n</g>\n<!-- 18&#45;&gt;30 -->\n<g id=\"edge208\" class=\"edge\">\n<title>18&#45;&gt;30</title>\n<path fill=\"none\" stroke=\"#707070\" stroke-width=\".5\" d=\"M344.1208,-711.373C330.113,-652.182 289.8828,-482.1857 275.8774,-423.0044\"/>\n</g>\n<!-- 19&#45;&gt;20 -->\n<g id=\"edge99\" class=\"edge\">\n<title>19&#45;&gt;20</title>\n<path fill=\"none\" stroke=\"#707070\" stroke-width=\".5\" d=\"M266.1208,-711.373C252.113,-652.182 211.8828,-482.1857 197.8774,-423.0044\"/>\n</g>\n<!-- 19&#45;&gt;21 -->\n<g id=\"edge110\" class=\"edge\">\n<title>19&#45;&gt;21</title>\n<path fill=\"none\" stroke=\"#707070\" stroke-width=\".5\" d=\"M261.9385,-712.8456C234.3667,-654.5921 151.6916,-479.9164 124.0865,-421.5924\"/>\n</g>\n<!-- 19&#45;&gt;22 -->\n<g id=\"edge121\" class=\"edge\">\n<title>19&#45;&gt;22</title>\n<path fill=\"none\" stroke=\"#707070\" stroke-width=\".5\" d=\"M258.7486,-714.7343C218.3124,-657.7787 89.3888,-476.1857 49.1301,-419.4801\"/>\n</g>\n<!-- 19&#45;&gt;23 -->\n<g id=\"edge132\" class=\"edge\">\n<title>19&#45;&gt;23</title>\n<path fill=\"none\" stroke=\"#707070\" stroke-width=\".5\" d=\"M288.856,-721.2119C371.4687,-671.3422 716.0977,-463.3048 799.0046,-413.2575\"/>\n</g>\n<!-- 19&#45;&gt;24 -->\n<g id=\"edge143\" class=\"edge\">\n<title>19&#45;&gt;24</title>\n<path fill=\"none\" stroke=\"#707070\" stroke-width=\".5\" d=\"M288.2114,-719.8694C361.5959,-668.1872 647.9457,-466.5209 721.6321,-414.6261\"/>\n</g>\n<!-- 19&#45;&gt;25 -->\n<g id=\"edge154\" class=\"edge\">\n<title>19&#45;&gt;25</title>\n<path fill=\"none\" stroke=\"#707070\" stroke-width=\".5\" d=\"M287.2613,-718.2481C350.8363,-664.5196 582.165,-469.0194 645.1,-415.8318\"/>\n</g>\n<!-- 19&#45;&gt;26 -->\n<g id=\"edge165\" class=\"edge\">\n<title>19&#45;&gt;26</title>\n<path fill=\"none\" stroke=\"#707070\" stroke-width=\".5\" d=\"M285.6299,-716.5357C338.0369,-661.1731 516.0454,-473.1252 568.4017,-417.8161\"/>\n</g>\n<!-- 19&#45;&gt;27 -->\n<g id=\"edge176\" class=\"edge\">\n<title>19&#45;&gt;27</title>\n<path fill=\"none\" stroke=\"#707070\" stroke-width=\".5\" d=\"M283.2514,-714.7343C323.6876,-657.7787 452.6112,-476.1857 492.8699,-419.4801\"/>\n</g>\n<!-- 19&#45;&gt;28 -->\n<g id=\"edge187\" class=\"edge\">\n<title>19&#45;&gt;28</title>\n<path fill=\"none\" stroke=\"#707070\" stroke-width=\".5\" d=\"M280.0615,-712.8456C307.6333,-654.5921 390.3084,-479.9164 417.9135,-421.5924\"/>\n</g>\n<!-- 19&#45;&gt;29 -->\n<g id=\"edge198\" class=\"edge\">\n<title>19&#45;&gt;29</title>\n<path fill=\"none\" stroke=\"#707070\" stroke-width=\".5\" d=\"M275.8792,-711.373C289.887,-652.182 330.1172,-482.1857 344.1226,-423.0044\"/>\n</g>\n<!-- 19&#45;&gt;30 -->\n<g id=\"edge209\" class=\"edge\">\n<title>19&#45;&gt;30</title>\n<path fill=\"none\" stroke=\"#707070\" stroke-width=\".5\" d=\"M271,-711.123C271,-651.8312 271,-482.8242 271,-423.3833\"/>\n</g>\n<!-- 31 -->\n<g id=\"node31\" class=\"node\">\n<title>31</title>\n<ellipse fill=\"#e74c3c\" stroke=\"#e74c3c\" cx=\"466\" cy=\"-72.7982\" rx=\"20.5982\" ry=\"20.5982\"/>\n<text text-anchor=\"middle\" x=\"466\" y=\"-69.0982\" font-family=\"Times,serif\" font-size=\"14.00\" fill=\"#e74c3c\">31</text>\n</g>\n<!-- 20&#45;&gt;31 -->\n<g id=\"edge210\" class=\"edge\">\n<title>20&#45;&gt;31</title>\n<path fill=\"none\" stroke=\"#707070\" stroke-width=\".5\" d=\"M206.5381,-386.0497C253.1243,-329.8056 406.485,-144.6513 452.7021,-88.8529\"/>\n</g>\n<!-- 32 -->\n<g id=\"node32\" class=\"node\">\n<title>32</title>\n<ellipse fill=\"#e74c3c\" stroke=\"#e74c3c\" cx=\"388\" cy=\"-72.7982\" rx=\"20.5982\" ry=\"20.5982\"/>\n<text text-anchor=\"middle\" x=\"388\" y=\"-69.0982\" font-family=\"Times,serif\" font-size=\"14.00\" fill=\"#e74c3c\">32</text>\n</g>\n<!-- 20&#45;&gt;32 -->\n<g id=\"edge221\" class=\"edge\">\n<title>20&#45;&gt;32</title>\n<path fill=\"none\" stroke=\"#707070\" stroke-width=\".5\" d=\"M203.7618,-384.2045C237.8548,-326.5793 343.2249,-148.4787 377.2715,-90.9319\"/>\n</g>\n<!-- 21&#45;&gt;31 -->\n<g id=\"edge211\" class=\"edge\">\n<title>21&#45;&gt;31</title>\n<path fill=\"none\" stroke=\"#707070\" stroke-width=\".5\" d=\"M130.5349,-387.8068C188.6461,-333.2392 392.835,-141.5016 450.6445,-87.2173\"/>\n</g>\n<!-- 21&#45;&gt;32 -->\n<g id=\"edge222\" class=\"edge\">\n<title>21&#45;&gt;32</title>\n<path fill=\"none\" stroke=\"#707070\" stroke-width=\".5\" d=\"M128.5381,-386.0497C175.1243,-329.8056 328.485,-144.6513 374.7021,-88.8529\"/>\n</g>\n<!-- 22&#45;&gt;31 -->\n<g id=\"edge212\" class=\"edge\">\n<title>22&#45;&gt;31</title>\n<path fill=\"none\" stroke=\"#707070\" stroke-width=\".5\" d=\"M53.5544,-389.6759C121.7698,-337.2667 380.7099,-138.3256 449.2635,-85.6566\"/>\n</g>\n<!-- 22&#45;&gt;32 -->\n<g id=\"edge223\" class=\"edge\">\n<title>22&#45;&gt;32</title>\n<path fill=\"none\" stroke=\"#707070\" stroke-width=\".5\" d=\"M52.5349,-387.8068C110.6461,-333.2392 314.835,-141.5016 372.6445,-87.2173\"/>\n</g>\n<!-- 23&#45;&gt;31 -->\n<g id=\"edge213\" class=\"edge\">\n<title>23&#45;&gt;31</title>\n<path fill=\"none\" stroke=\"#707070\" stroke-width=\".5\" d=\"M801.4651,-387.8068C743.3539,-333.2392 539.165,-141.5016 481.3555,-87.2173\"/>\n</g>\n<!-- 23&#45;&gt;32 -->\n<g id=\"edge224\" class=\"edge\">\n<title>23&#45;&gt;32</title>\n<path fill=\"none\" stroke=\"#707070\" stroke-width=\".5\" d=\"M800.4456,-389.6759C732.2302,-337.2667 473.2901,-138.3256 404.7365,-85.6566\"/>\n</g>\n<!-- 24&#45;&gt;31 -->\n<g id=\"edge214\" class=\"edge\">\n<title>24&#45;&gt;31</title>\n<path fill=\"none\" stroke=\"#707070\" stroke-width=\".5\" d=\"M725.4619,-386.0497C678.8757,-329.8056 525.515,-144.6513 479.2979,-88.8529\"/>\n</g>\n<!-- 24&#45;&gt;32 -->\n<g id=\"edge225\" class=\"edge\">\n<title>24&#45;&gt;32</title>\n<path fill=\"none\" stroke=\"#707070\" stroke-width=\".5\" d=\"M723.4651,-387.8068C665.3539,-333.2392 461.165,-141.5016 403.3555,-87.2173\"/>\n</g>\n<!-- 25&#45;&gt;31 -->\n<g id=\"edge215\" class=\"edge\">\n<title>25&#45;&gt;31</title>\n<path fill=\"none\" stroke=\"#707070\" stroke-width=\".5\" d=\"M650.2382,-384.2045C616.1452,-326.5793 510.7751,-148.4787 476.7285,-90.9319\"/>\n</g>\n<!-- 25&#45;&gt;32 -->\n<g id=\"edge226\" class=\"edge\">\n<title>25&#45;&gt;32</title>\n<path fill=\"none\" stroke=\"#707070\" stroke-width=\".5\" d=\"M647.4619,-386.0497C600.8757,-329.8056 447.515,-144.6513 401.2979,-88.8529\"/>\n</g>\n<!-- 26&#45;&gt;31 -->\n<g id=\"edge216\" class=\"edge\">\n<title>26&#45;&gt;31</title>\n<path fill=\"none\" stroke=\"#707070\" stroke-width=\".5\" d=\"M576.0315,-382.7638C555.2711,-324.2805 493.9845,-151.6323 473.0799,-92.7427\"/>\n</g>\n<!-- 26&#45;&gt;32 -->\n<g id=\"edge227\" class=\"edge\">\n<title>26&#45;&gt;32</title>\n<path fill=\"none\" stroke=\"#707070\" stroke-width=\".5\" d=\"M572.2382,-384.2045C538.1452,-326.5793 432.7751,-148.4787 398.7285,-90.9319\"/>\n</g>\n<!-- 27&#45;&gt;31 -->\n<g id=\"edge217\" class=\"edge\">\n<title>27&#45;&gt;31</title>\n<path fill=\"none\" stroke=\"#707070\" stroke-width=\".5\" d=\"M502.5308,-381.5267C495.515,-322.2349 475.517,-153.2279 468.4835,-93.787\"/>\n</g>\n<!-- 27&#45;&gt;32 -->\n<g id=\"edge228\" class=\"edge\">\n<title>27&#45;&gt;32</title>\n<path fill=\"none\" stroke=\"#707070\" stroke-width=\".5\" d=\"M498.0315,-382.7638C477.2711,-324.2805 415.9845,-151.6323 395.0799,-92.7427\"/>\n</g>\n<!-- 28&#45;&gt;31 -->\n<g id=\"edge218\" class=\"edge\">\n<title>28&#45;&gt;31</title>\n<path fill=\"none\" stroke=\"#707070\" stroke-width=\".5\" d=\"M429.4692,-381.5267C436.485,-322.2349 456.483,-153.2279 463.5165,-93.787\"/>\n</g>\n<!-- 28&#45;&gt;32 -->\n<g id=\"edge229\" class=\"edge\">\n<title>28&#45;&gt;32</title>\n<path fill=\"none\" stroke=\"#707070\" stroke-width=\".5\" d=\"M424.5308,-381.5267C417.515,-322.2349 397.517,-153.2279 390.4835,-93.787\"/>\n</g>\n<!-- 29&#45;&gt;31 -->\n<g id=\"edge219\" class=\"edge\">\n<title>29&#45;&gt;31</title>\n<path fill=\"none\" stroke=\"#707070\" stroke-width=\".5\" d=\"M355.9685,-382.7638C376.7289,-324.2805 438.0155,-151.6323 458.9201,-92.7427\"/>\n</g>\n<!-- 29&#45;&gt;32 -->\n<g id=\"edge230\" class=\"edge\">\n<title>29&#45;&gt;32</title>\n<path fill=\"none\" stroke=\"#707070\" stroke-width=\".5\" d=\"M351.4692,-381.5267C358.485,-322.2349 378.483,-153.2279 385.5165,-93.787\"/>\n</g>\n<!-- 30&#45;&gt;31 -->\n<g id=\"edge220\" class=\"edge\">\n<title>30&#45;&gt;31</title>\n<path fill=\"none\" stroke=\"#707070\" stroke-width=\".5\" d=\"M281.7618,-384.2045C315.8548,-326.5793 421.2249,-148.4787 455.2715,-90.9319\"/>\n</g>\n<!-- 30&#45;&gt;32 -->\n<g id=\"edge231\" class=\"edge\">\n<title>30&#45;&gt;32</title>\n<path fill=\"none\" stroke=\"#707070\" stroke-width=\".5\" d=\"M277.9685,-382.7638C298.7289,-324.2805 360.0155,-151.6323 380.9201,-92.7427\"/>\n</g>\n</g>\n</svg>\n",
            "text/plain": [
              "<graphviz.dot.Digraph at 0x7f364c68a790>"
            ]
          },
          "execution_count": 294,
          "metadata": {},
          "output_type": "execute_result"
        }
      ],
      "source": [
        "plot_DQN(Q.model)"
      ]
    },
    {
      "cell_type": "markdown",
      "id": "-0ZlOZm6A-5-",
      "metadata": {
        "id": "-0ZlOZm6A-5-"
      },
      "source": [
        "### Environment simulation"
      ]
    },
    {
      "cell_type": "code",
      "execution_count": null,
      "id": "1LF5AJiGekSS",
      "metadata": {
        "id": "1LF5AJiGekSS"
      },
      "outputs": [],
      "source": [
        "def env_simulation(env):\n",
        "    fig, ax = plt.subplots()\n",
        "    fig.subplots_adjust(0,0,1,1)\n",
        "    ax.axis('off')\n",
        "    state = env.reset()\n",
        "    episode = []\n",
        "    max_steps = 10\n",
        "    done = False\n",
        "    steps = 0\n",
        "    while not done: \n",
        "        im = ax.imshow(env.custom_render(state), aspect='auto')\n",
        "        episode.append([im])\n",
        "        steps += 1\n",
        "        if (0.1 > np.random.rand()):\n",
        "            action = env.action_space.sample()\n",
        "        else:\n",
        "            action = np.argmax(Q(state))\n",
        "        next_state, reward, done = env.step(action)\n",
        "        state = next_state\n",
        "        if done: \n",
        "            print(\"steps: \", steps, done)\n",
        "            break\n",
        "    plt.close()\n",
        "    return fig, episode"
      ]
    },
    {
      "cell_type": "code",
      "execution_count": null,
      "id": "tpxxrNd7f3TQ",
      "metadata": {
        "colab": {
          "base_uri": "https://localhost:8080/",
          "height": 555
        },
        "id": "tpxxrNd7f3TQ",
        "outputId": "e6bbbc26-5298-4849-e95d-b6c1f28d8912"
      },
      "outputs": [],
      "source": [
        "fig, episode = env_simulation(env)\n",
        "experiment = animation.ArtistAnimation(fig, episode, interval=500, repeat=30, blit=True)\n",
        "HTML(experiment.to_html5_video())"
      ]
    },
    {
      "cell_type": "code",
      "execution_count": null,
      "id": "EGGfvVQA2lds",
      "metadata": {
        "id": "EGGfvVQA2lds"
      },
      "outputs": [],
      "source": [
        "TargetQ = DQN(env,hidden_size=11)\n",
        "TargetQ.model.set_weights(Q.model.get_weights())"
      ]
    },
    {
      "cell_type": "code",
      "execution_count": null,
      "id": "T4TkugT_A3oG",
      "metadata": {
        "id": "T4TkugT_A3oG"
      },
      "outputs": [],
      "source": [
        "train_episodes = 800\n",
        "gamma = 0.99       \n",
        "explore_start = 0.9\n",
        "explore_stop = 0.01\n",
        "annealing_stop = train_episodes/2     \n",
        "\n",
        "FixedBufferPercentage = 10\n",
        "ReplayBufferSize = 1000\n",
        "batch_size = 11\n",
        "Theta=np.logspace(-1,1,train_episodes)\n",
        "\n",
        "replaybuffer = Memory(int(ReplayBufferSize * (1-FixedBufferPercentage/100)))\n",
        "create_experience(Q,replaybuffer,eps=1.0,max_episodes=900)\n",
        "fixedbuffer = Memory(int(ReplayBufferSize * (FixedBufferPercentage/100)))\n",
        "create_experience(Q,fixedbuffer,eps=1.0,max_episodes=100)\n",
        "\n",
        "print(\"size replay buffer = \", len(replaybuffer.buffer))\n",
        "print(\"size fixed buffer =\", len(fixedbuffer.buffer))\n",
        "\n",
        "totalbuffer = Memory(ReplayBufferSize) \n",
        "TargetQ = DQN(env,hidden_size=11)\n",
        "TargetQ.model.set_weights(Q.model.get_weights())\n",
        "\n",
        "learning_curve=[] \n",
        "acum_reward = []\n",
        "acum_rw = 0"
      ]
    },
    {
      "cell_type": "code",
      "execution_count": null,
      "id": "JeLOJ3pABeWa",
      "metadata": {
        "colab": {
          "base_uri": "https://localhost:8080/"
        },
        "id": "JeLOJ3pABeWa",
        "outputId": "7fc73bde-a8b9-4940-d1d6-f9979b74703b"
      },
      "outputs": [],
      "source": [
        "for ep in range(1,train_episodes+1):\n",
        "    state = env.reset()\n",
        "    flat_state = list(sum(state, ()))\n",
        "    eps = eps_decay(ep,explore_start,explore_stop,annealing_stop)\n",
        "    total_return = 0\n",
        "    done = False \n",
        "    #max_steps = 10\n",
        "    while not done: \n",
        "    #for n_step in range(max_steps):\n",
        "        actionarray = Q(flat_state)\n",
        "        theta=Theta[ep-1]\n",
        "        p=softmax(actionarray*theta)\n",
        "        action = np.random.choice(2,p=p)\n",
        "        \n",
        "        next_state, reward, done = env.step(action)\n",
        "        if done: \n",
        "            break\n",
        "        flat_next_state = list(sum(next_state, ()))\n",
        "        total_return += reward\n",
        "        replaybuffer.add((state,action,reward,flat_next_state,done))\n",
        "        flat_state = flat_next_state \n",
        "        \n",
        "        inputs = np.zeros((batch_size, 8))\n",
        "        targets = np.zeros((batch_size, env.action_space.n))\n",
        "        \n",
        "        totalbuffer.buffer += replaybuffer.buffer\n",
        "        totalbuffer.buffer += fixedbuffer.buffer\n",
        "        minibatch = totalbuffer.sample(batch_size)\n",
        "        for i, (state_b, action_b, reward_b, next_state_b, done_b) in enumerate(minibatch):\n",
        "\n",
        "            flat_state_b = np.array(list(sum(state_b, ())))\n",
        "            if (all(isinstance(item, tuple) for item in next_state_b)) == True:\n",
        "              flat_next_state_b = np.array(list(sum(next_state_b, ())))\n",
        "            else: \n",
        "              flat_next_state_b = next_state_b\n",
        "\n",
        "            inputs[i:i+1] = flat_state_b\n",
        "            if done_b:\n",
        "                target = reward_b\n",
        "            else:\n",
        "                a_q = np.argmax(Q(flat_next_state_b)) \n",
        "                target = reward_b + gamma * TargetQ(flat_next_state_b)[a_q] \n",
        "            targets[i] = Q(flat_state_b)\n",
        "            targets[i][action_b] = target \n",
        "        Q.model.fit(inputs, targets, epochs=1, verbose=0)\n",
        "    acum_rw += total_return \n",
        "    if ep%10==0:\n",
        "        #print(\"Episode \",ep, \"average return = \", total_return, \"eps =\",eps)\n",
        "        TargetQ.model.set_weights(Q.model.get_weights())\n",
        "    learning_curve.append(total_return)\n",
        "    acum_reward.append(acum_rw)"
      ]
    },
    {
      "cell_type": "code",
      "execution_count": null,
      "id": "edKd59bPC2Cy",
      "metadata": {
        "colab": {
          "base_uri": "https://localhost:8080/",
          "height": 282
        },
        "id": "edKd59bPC2Cy",
        "outputId": "272ad58b-1b75-40d9-f0ca-715d1a4d8c3f"
      },
      "outputs": [],
      "source": [
        "plt.plot(learning_curve)"
      ]
    },
    {
      "cell_type": "code",
      "execution_count": null,
      "id": "avW_k8F7TyAp",
      "metadata": {
        "id": "avW_k8F7TyAp"
      },
      "outputs": [],
      "source": []
    }
  ],
  "metadata": {
    "colab": {
      "provenance": []
    },
    "kernelspec": {
      "display_name": "Python 3 (ipykernel)",
      "language": "python",
      "name": "python3"
    },
    "language_info": {
      "codemirror_mode": {
        "name": "ipython",
        "version": 3
      },
      "file_extension": ".py",
      "mimetype": "text/x-python",
      "name": "python",
      "nbconvert_exporter": "python",
      "pygments_lexer": "ipython3",
      "version": "3.8.10"
    }
  },
  "nbformat": 4,
  "nbformat_minor": 5
}
