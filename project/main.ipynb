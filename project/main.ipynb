{
 "cells": [
  {
   "cell_type": "code",
   "execution_count": 1,
   "id": "f5fa5104-89ce-4af0-8cc2-03a92449e67e",
   "metadata": {},
   "outputs": [],
   "source": [
    "from matplotlib.offsetbox import OffsetImage, AnnotationBbox\n",
    "from gym.spaces import Box, Discrete, Dict\n",
    "import matplotlib.pyplot as plt\n",
    "from gym import Env\n",
    "import numpy as np\n",
    "import random"
   ]
  },
  {
   "cell_type": "code",
   "execution_count": 12,
   "id": "86e48ef8-0fd8-44a0-958d-dd6d7087ba01",
   "metadata": {},
   "outputs": [],
   "source": [
    "class AV_environment(Env):\n",
    "    def __init__(self):\n",
    "        self.posX_limits = (-10, 10)\n",
    "        self.posY_limits = (  0,100)\n",
    "        self.vel_limits =  (  1,  5)\n",
    "        self.max_tor = 100\n",
    "        self.car_init_pos = 3\n",
    "        self.init_pos = (0,0)\n",
    "        self.path = []\n",
    "        self.action_space = Box(low=np.array([0.0]), high=np.array([self.max_tor]), dtype=np.float64) # robot torque [tao]\n",
    "        self.observation_space = Dict({\"position\": Box(low=np.array([self.posX_limits[0], self.posY_limits[0]]), high=np.array([self.posX_limits[1], self.posY_limits[1]]), shape=(2,), dtype=np.float64), \"velocity\": Box(low=np.array([self.vel_limits[0]]), high=np.array([self.vel_limits[1]]), dtype=np.float64)}) # pedestrian position [y,theta, v]\n",
    "\n",
    "    def reset(self):\n",
    "        init_observation = self.observation_space.sample()\n",
    "        self.init_pos = tuple(init_observation[\"position\"])\n",
    "        return init_observation\n",
    "\n",
    "    def path_generator(self, ptype =\"random\", size = 4, step_size = 5):\n",
    "        self.path = []\n",
    "        self.path.append(self.init_pos)\n",
    "        increments = []\n",
    "        if (ptype == \"random\"):\n",
    "            for i in range(0,size):\n",
    "                theta = random.uniform(0, 2*np.pi)\n",
    "                increments.append((step_size*np.cos(theta), step_size*np.sin(theta)))\n",
    "\n",
    "        elif (ptype == \"forward\"):\n",
    "            theta = random.uniform(0, 2*np.pi)\n",
    "            for i in range(0,size):\n",
    "                increments.append((step_size*np.cos(theta), step_size*np.sin(theta)))\n",
    "\n",
    "        elif (ptype == \"curve\"):\n",
    "            theta = random.uniform(0, 2*np.pi)\n",
    "            for i in range(0,size):\n",
    "                increments.append((step_size*np.cos(theta-0.3*(i+1)), step_size*np.sin(theta-0.3*(i+1))))\n",
    "\n",
    "        for i in range(0,size-1):\n",
    "            listp = []\n",
    "            listp.append(self.path[i])\n",
    "            listp.append(increments[i])\n",
    "            self.path.append(tuple([sum(tup) for tup in zip(*listp)]))\n",
    "\n",
    "        self.init_pos = self.path[-1]\n",
    "\n",
    "    def getImage(self,path):\n",
    "        return OffsetImage(plt.imread(path, format=\"png\"), zoom=0.2)\n",
    "\n",
    "    def render(self):\n",
    "        fig = plt.figure()\n",
    "        ax = plt.axes()\n",
    "        y = [0, self.posY_limits[1]]\n",
    "        x = [0,0]\n",
    "        plt.plot(x, y, linestyle='--', linewidth=3, color='black')\n",
    "        plt.xlim([-20, 20])\n",
    "        plt.rcParams[\"figure.figsize\"] = (5,10)\n",
    "        car = AnnotationBbox( self.getImage('/home/jhermosilla/GitHub/reinforcement_learning/project/imgs/car.png'), (0, self.car_init_pos), frameon=False)\n",
    "        equis = []\n",
    "        yes = []\n",
    "        for i in self.path:\n",
    "            pedestrian = AnnotationBbox( self.getImage('/home/jhermosilla/GitHub/reinforcement_learning/project/imgs/pedestrian.png'), i , frameon=False)\n",
    "            equis.append(i[0])\n",
    "            yes.append(i[1])\n",
    "            ax.add_artist(pedestrian)\n",
    "        plt.plot(equis, yes, linestyle='--', linewidth=1, color='black')\n",
    "        ax.add_artist(car)\n",
    "        info_sim = 'Observations=%.2f\\nBuffer=%.2f\\n'%(4, 1)\n",
    "        info_ped = 'Pedestrian state\\n%.2f\\n'%(4)\n",
    "        plt.text(23, 90, info_sim, fontsize=14)\n",
    "        plt.text(23, 80, info_ped, fontsize=14)\n",
    "        plt.title('Torque control environment', fontsize=18)\n",
    "        plt.show()"
   ]
  },
  {
   "cell_type": "code",
   "execution_count": 13,
   "id": "df55d431-ad08-4f16-9d7f-c2b0e8257724",
   "metadata": {},
   "outputs": [],
   "source": [
    "env = AV_environment()"
   ]
  },
  {
   "cell_type": "code",
   "execution_count": 14,
   "id": "a9d50f8c-3926-445b-88e8-8b2ef7e4aa05",
   "metadata": {},
   "outputs": [
    {
     "data": {
      "text/plain": [
       "OrderedDict([('position', array([5.29546113, 0.98611153])),\n",
       "             ('velocity', array([3.76347902]))])"
      ]
     },
     "execution_count": 14,
     "metadata": {},
     "output_type": "execute_result"
    }
   ],
   "source": [
    "env.reset()"
   ]
  },
  {
   "cell_type": "code",
   "execution_count": 15,
   "id": "981f6252-1509-4146-b275-f3b66132fe8c",
   "metadata": {},
   "outputs": [],
   "source": [
    "env.path_generator(\"curve\",8)"
   ]
  },
  {
   "cell_type": "code",
   "execution_count": 16,
   "id": "41aecb23-b5fc-4996-a9b6-1a15aac05053",
   "metadata": {},
   "outputs": [
    {
     "data": {
      "image/png": "[encoded data removed]",
      "text/plain": [
       "<Figure size 360x720 with 1 Axes>"
      ]
     },
     "metadata": {
      "needs_background": "light"
     },
     "output_type": "display_data"
    }
   ],
   "source": [
    "env.render()"
   ]
  },
  {
   "cell_type": "code",
   "execution_count": null,
   "id": "687bf452-c247-4cb9-9286-687933e1aeb0",
   "metadata": {},
   "outputs": [],
   "source": []
  },
  {
   "cell_type": "code",
   "execution_count": null,
   "id": "f85a7111-23d3-402d-9a34-b9f191647a26",
   "metadata": {},
   "outputs": [],
   "source": []
  }
 ],
 "metadata": {
  "kernelspec": {
   "display_name": "Python 3 (ipykernel)",
   "language": "python",
   "name": "python3"
  },
  "language_info": {
   "codemirror_mode": {
    "name": "ipython",
    "version": 3
   },
   "file_extension": ".py",
   "mimetype": "text/x-python",
   "name": "python",
   "nbconvert_exporter": "python",
   "pygments_lexer": "ipython3",
   "version": "3.8.10"
  }
 },
 "nbformat": 4,
 "nbformat_minor": 5
}
