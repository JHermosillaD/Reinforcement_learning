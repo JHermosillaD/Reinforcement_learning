{
 "cells": [
  {
   "cell_type": "code",
   "execution_count": 1,
   "id": "f5fa5104-89ce-4af0-8cc2-03a92449e67e",
   "metadata": {},
   "outputs": [],
   "source": [
    "import matplotlib.pyplot as plt\n",
    "import numpy as np\n",
    "from gym import Env\n",
    "from gym.spaces import Box, Discrete, Dict\n",
    "from matplotlib.offsetbox import OffsetImage, AnnotationBbox\n"
   ]
  },
  {
   "cell_type": "code",
   "execution_count": 58,
   "id": "86e48ef8-0fd8-44a0-958d-dd6d7087ba01",
   "metadata": {},
   "outputs": [],
   "source": [
    "class CustomEnv(Env):\n",
    "    def __init__(self):\n",
    "        self.posX_min = -10\n",
    "        self.posX_max =  10\n",
    "        self.posY_min =   0\n",
    "        self.posY_max = 100\n",
    "        self.vel_min = 1.0\n",
    "        self.vel_max = 5\n",
    "        self.max_tor = 100\n",
    "        self.car_init_pos = 3\n",
    "        self.obs_pos = (0,0)\n",
    "        self.action_space = Box(low=np.array([0.0]), high=np.array([self.max_tor]), dtype=np.float64) # robot torque [tao]\n",
    "        self.observation_space = Dict({\"position\": Box(low=np.array([self.posX_min, self.posY_min]), high=np.array([self.posX_max, self.posY_max]), shape=(2,), dtype=np.float64), \"velocity\": Box(low=np.array([self.vel_min]), high=np.array([self.vel_max]), dtype=np.float64)}) # pedestrian position [y,theta, v]\n",
    "\n",
    "    def getImage(self,path):\n",
    "        return OffsetImage(plt.imread(path, format=\"png\"), zoom=0.2)\n",
    "\n",
    "    def reset(self):\n",
    "        init_observation = self.observation_space.sample()\n",
    "        self.obs_pos = tuple(init_observation[\"position\"])\n",
    "        return init_observation\n",
    "\n",
    "    def render(self):\n",
    "        fig = plt.figure()\n",
    "        ax = plt.axes()\n",
    "        y = [0, self.posY_max]\n",
    "        x = [0,0]\n",
    "        plt.plot(x, y, linestyle='--', linewidth=3, color='black')\n",
    "        plt.xlim([-10, 10])\n",
    "        plt.rcParams[\"figure.figsize\"] = (5,10)\n",
    "        car = AnnotationBbox( self.getImage('car.png'), (0, self.car_init_pos), frameon=False)\n",
    "        pedestrian = AnnotationBbox( self.getImage('pedestrian.png'), self.obs_pos, frameon=False)\n",
    "        ax.add_artist(car)\n",
    "        ax.add_artist(pedestrian)\n",
    "        plt.title('Torque control environment')\n",
    "        plt.show()\n",
    "        print(type(car))"
   ]
  },
  {
   "cell_type": "code",
   "execution_count": 64,
   "id": "df55d431-ad08-4f16-9d7f-c2b0e8257724",
   "metadata": {},
   "outputs": [],
   "source": [
    "myenv = CustomEnv()"
   ]
  },
  {
   "cell_type": "code",
   "execution_count": 67,
   "id": "41aecb23-b5fc-4996-a9b6-1a15aac05053",
   "metadata": {},
   "outputs": [
    {
     "data": {
      "image/png": "[encoded data removed]",
      "text/plain": [
       "<Figure size 360x720 with 1 Axes>"
      ]
     },
     "metadata": {
      "needs_background": "light"
     },
     "output_type": "display_data"
    },
    {
     "name": "stdout",
     "output_type": "stream",
     "text": [
      "<class 'matplotlib.offsetbox.AnnotationBbox'>\n"
     ]
    }
   ],
   "source": [
    "myenv.reset()\n",
    "myenv.render()"
   ]
  },
  {
   "cell_type": "code",
   "execution_count": null,
   "id": "d9133153-4c56-4983-9ba9-85f6c188618b",
   "metadata": {},
   "outputs": [],
   "source": []
  }
 ],
 "metadata": {
  "kernelspec": {
   "display_name": "Python 3 (ipykernel)",
   "language": "python",
   "name": "python3"
  },
  "language_info": {
   "codemirror_mode": {
    "name": "ipython",
    "version": 3
   },
   "file_extension": ".py",
   "mimetype": "text/x-python",
   "name": "python",
   "nbconvert_exporter": "python",
   "pygments_lexer": "ipython3",
   "version": "3.8.10"
  }
 },
 "nbformat": 4,
 "nbformat_minor": 5
}
