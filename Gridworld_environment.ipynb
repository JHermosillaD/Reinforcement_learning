{
 "cells": [
  {
   "cell_type": "markdown",
   "id": "f18a5923-bdff-4aea-8b7f-a239f9f67552",
   "metadata": {
    "tags": []
   },
   "source": [
    "# Gridworld Environment"
   ]
  },
  {
   "cell_type": "code",
   "execution_count": 1,
   "id": "55272f7a-396c-4a3c-8b71-752710d3b028",
   "metadata": {},
   "outputs": [],
   "source": [
    "import matplotlib.pyplot as plt\n",
    "import numpy as np\n",
    "from enum import Enum, auto\n",
    "from typing import Tuple\n",
    "import copy"
   ]
  },
  {
   "cell_type": "markdown",
   "id": "959536e4-d803-455b-a8c6-896c0d70cff1",
   "metadata": {
    "tags": []
   },
   "source": [
    "### Environment"
   ]
  },
  {
   "cell_type": "code",
   "execution_count": 2,
   "id": "b6bb814b-aa29-48d9-8b51-e92f559b9410",
   "metadata": {},
   "outputs": [],
   "source": [
    "class GridWorld:\n",
    "  def __init__(self, grid_width = 5, grid_height = 5):\n",
    "    self.goodState1 = (0,1)\n",
    "    self.goodState2 = (0,3)\n",
    "    self.toState1 = (4,1)\n",
    "    self.toState2 = (2,3)\n",
    "    self.badState1 = (1,1)\n",
    "    self.badState2 = (4,4)\n",
    "    self.grid_width = grid_width\n",
    "    self.grid_height = grid_height\n",
    "\n",
    "  def next_move(self, action):\n",
    "    if (action == Action.RIGHT):\n",
    "      return (0,1)\n",
    "    elif (action == Action.LEFT):\n",
    "      return (0,-1)\n",
    "    elif (action == Action.DOWN):\n",
    "      return (1,0)\n",
    "    elif (action == Action.UP):\n",
    "      return (-1,0)\n",
    "\t\n",
    "  def step(self, state, action):\n",
    "    next_state = tuple(map(lambda i, j: i + j, state, self.next_move(action)))\n",
    "    reward = 0\n",
    "    if (next_state[0] < 0 or next_state[1] < 0 or next_state[0] > 4 or next_state[1]> 4):\n",
    "      reward = -1\n",
    "      next_state = state\n",
    "    if (state == self.goodState1):\n",
    "      reward = 10\n",
    "      next_state = (4,1)\n",
    "    if (state == self.goodState2):\n",
    "      reward = 5\n",
    "      next_state = (2,3)\n",
    "    #if (state == self.badState1 or state == self.badState2):\n",
    "       #reward = -1\n",
    "\n",
    "    return (next_state, reward)\n",
    "\n",
    "  def Policy(self, state, action):\n",
    "    return 0.25"
   ]
  },
  {
   "cell_type": "code",
   "execution_count": 3,
   "id": "ae02ae57-97f4-482c-b178-7e9bc49ff954",
   "metadata": {},
   "outputs": [],
   "source": [
    "# Define the actions\n",
    "class Action(Enum):\n",
    " UP = auto()\n",
    " DOWN = auto()\n",
    " LEFT = auto()\n",
    " RIGHT = auto()\n",
    "\n",
    "# Agent Policy, random\n",
    "class Policy:\n",
    " def __init__(self, init_prob = 0.25):\n",
    "  self._possible_actions = [action for action in Action] # creates array with UP, DOWN, LEFT, RIGHT\n",
    "  self._action_probs = {\n",
    "   a: 1 / len(self._possible_actions) for a in self._possible_actions\n",
    "  } # create dictionary with actions and their probabilities. \n",
    "  policy = {}\n",
    "  for count, action in enumerate(Action):\n",
    "   policy[action] = np.array([init_prob] * GridWorld().grid_width * GridWorld().grid_height)\n",
    "  self._policy_table = policy\n",
    "\n",
    " def __call__(self, state: Tuple[int, int], action: Action) -> float:\n",
    "  \"\"\"\n",
    "  Returns the action probability\n",
    "  \"\"\"\n",
    "  assert action in self._possible_actions\n",
    "  # state is unused for this policy\n",
    "  return self._action_probs[action]"
   ]
  },
  {
   "cell_type": "markdown",
   "id": "541a5807-c07d-47d1-8e08-9ccb084d464c",
   "metadata": {
    "tags": []
   },
   "source": [
    "### Function Visualization"
   ]
  },
  {
   "cell_type": "code",
   "execution_count": 4,
   "id": "3ce52b0e-0321-4764-a8dd-9e92d2b19da4",
   "metadata": {
    "tags": []
   },
   "outputs": [],
   "source": [
    "def vis_matrix(grid, highlight = False):\n",
    "  fig, ax = plt.subplots()\n",
    "  ax.matshow(grid, cmap=plt.cm.Reds)\n",
    "  for (i, j), z in np.ndenumerate(grid):\n",
    "    ax.text(j, i, '{:0.3f}'.format(z), ha='center', va='center')\n",
    "  if (highlight == True):\n",
    "    plt.gca().add_patch(plt.Rectangle((1-.5,0-.5),1,1, edgecolor='black', fill=False, lw=4))\n",
    "    plt.gca().add_patch(plt.Rectangle((3-.5,0-.5),1,1, edgecolor='black', fill=False, lw=4))\n",
    "    plt.gca().add_patch(plt.Rectangle((1-.5,4-.5),1,1, edgecolor='lime', fill=False, lw=4))\n",
    "    plt.gca().add_patch(plt.Rectangle((3-.5,2-.5),1,1, edgecolor='lime', fill=False, lw=4))\n",
    "    plt.gca().add_patch(plt.Rectangle((1-.5,1-.5),1,1, edgecolor='red', fill=False, lw=4))\n",
    "    plt.gca().add_patch(plt.Rectangle((4-.5,4-.5),1,1, edgecolor='red', fill=False, lw=4))\n",
    "  plt.show()"
   ]
  },
  {
   "cell_type": "code",
   "execution_count": 5,
   "id": "316bd8e2-aa75-4438-91f4-5a9b5b2ba301",
   "metadata": {},
   "outputs": [],
   "source": [
    "def vis_policy_table(dictionary):\n",
    " action_symbols = { 0 : '↑',\n",
    "                    1 : '↓',\n",
    "                    2 : '←',\n",
    "                    3 : '→'}\n",
    " fig, ax = plt.subplots()\n",
    " grid = np.zeros((GridWorld().grid_width, GridWorld().grid_height))\n",
    " for count, action in enumerate(Action):\n",
    "  grid += count*dictionary[action].reshape((GridWorld().grid_width, GridWorld().grid_height))\n",
    " ax.matshow(grid, cmap=plt.cm.Reds) \n",
    " for (i, j), z in np.ndenumerate(grid):\n",
    "  ax.text(j, i, action_symbols[z])"
   ]
  },
  {
   "cell_type": "markdown",
   "id": "9b344911-0ed7-472d-afe9-fb7f73195c93",
   "metadata": {
    "tags": []
   },
   "source": [
    "### MDP functions"
   ]
  },
  {
   "cell_type": "code",
   "execution_count": 6,
   "id": "582f2f06-f9bf-4f92-8b06-f113771661a7",
   "metadata": {},
   "outputs": [],
   "source": [
    "def Bellman_expectation(gamma, P_pi, R_pi):\n",
    "  return np.dot(np.linalg.inv(np.identity(25)-gamma*P_pi), R_pi)"
   ]
  },
  {
   "cell_type": "code",
   "execution_count": 7,
   "id": "880b8546-18c3-40fc-8836-d303da92a477",
   "metadata": {
    "tags": []
   },
   "outputs": [],
   "source": [
    "def matrix_policy_evaluation(V_):\n",
    "  #evaluate the policy 20 times\n",
    "  for _ in range(30):\n",
    "    V_next = R_e + gamma*np.dot(P,V_)\n",
    "    V_ = V_next\n",
    "  return V_.reshape(env.grid_width, env.grid_height)"
   ]
  },
  {
   "cell_type": "code",
   "execution_count": 8,
   "id": "2b083d8f-9423-4d9e-bc0a-1d136e9bda79",
   "metadata": {},
   "outputs": [],
   "source": [
    "def Max_action_value(values):\n",
    " max_value = np.max(values)\n",
    " i, = np.where(values == max_value)\n",
    " max_action = list(enumerate(Action))[i[0]][1]\n",
    " return i[0], max_value, max_action"
   ]
  },
  {
   "cell_type": "markdown",
   "id": "a0c1d65f-e878-49b3-99b7-2ae350b77b15",
   "metadata": {},
   "source": [
    "### Overview"
   ]
  },
  {
   "cell_type": "code",
   "execution_count": 9,
   "id": "2cf5dd4e-1d55-4d2e-b512-aa92575f7a44",
   "metadata": {},
   "outputs": [],
   "source": [
    "env = GridWorld()\n",
    "pi = Policy()\n",
    "\n",
    "P = np.zeros((env.grid_width * env.grid_height, env.grid_width * env.grid_height))\n",
    "R = np.zeros_like(P)\n",
    "possible_actions = [action for action in Action]\n",
    "\n",
    "for i in range(env.grid_height):\n",
    "    for j in range(env.grid_width):\n",
    "        state = (i, j)\n",
    "        for action in possible_actions:\n",
    "            next_state, reward = env.step(state, action)\n",
    "            (i_next, j_next) = next_state\n",
    "            P[i * env.grid_width + j, i_next * env.grid_width + j_next] += env.Policy(state, action)\n",
    "            R[i * env.grid_width + j, i_next * env.grid_width + j_next] = reward"
   ]
  },
  {
   "cell_type": "code",
   "execution_count": 10,
   "id": "71140a81-7da0-4ef6-93f9-c15b294d4fc1",
   "metadata": {},
   "outputs": [],
   "source": [
    "R_e = np.sum(P*R, axis=1, keepdims=True)\n",
    "R_e_grid = np.reshape(R_e, (env.grid_height,env.grid_width))\n",
    "gamma = 0.9\n",
    "V = Bellman_expectation(gamma, P, R_e)\n",
    "V_grid = np.reshape(V, (env.grid_height,env.grid_width))"
   ]
  },
  {
   "cell_type": "code",
   "execution_count": 11,
   "id": "13f2077e-b945-4802-a1c9-2c866bde109f",
   "metadata": {},
   "outputs": [
    {
     "data": {
      "image/png": "[encoded data removed]",
      "text/plain": [
       "<Figure size 432x288 with 1 Axes>"
      ]
     },
     "metadata": {
      "needs_background": "light"
     },
     "output_type": "display_data"
    }
   ],
   "source": [
    "#vis_matrix(R_e_grid)\n",
    "vis_matrix(V_grid, True)"
   ]
  },
  {
   "cell_type": "code",
   "execution_count": 12,
   "id": "fcbe3138-6342-4434-994d-6d02629115cb",
   "metadata": {},
   "outputs": [],
   "source": [
    "def policy_evaluation(V_0):\n",
    " for _ in range(10):\n",
    "  old_V = V_0\n",
    "  V_k = np.zeros((25,1))\n",
    "  for state in range(env.grid_width * env.grid_height):\n",
    "   V_temp = 0 \n",
    "   for count, action in enumerate(Action):\n",
    "    x = int(state/env.grid_width)\n",
    "    y = state % env.grid_width\n",
    "    ((x_new,y_new),reward) = env.step((x,y),action)\n",
    "    next_state = x_new * env.grid_width + y_new \n",
    "    V_temp += pi._action_probs[action] * (reward + gamma * old_V[next_state]) \n",
    "   V_k[state] = V_temp\n",
    "  V_0 = V_k \n",
    "  #print(\"Error:\", np.sum(V_k - old_V))\n",
    " return V_k "
   ]
  },
  {
   "cell_type": "code",
   "execution_count": 13,
   "id": "5d443e5e-29ac-4fd2-bd81-93ff691f5740",
   "metadata": {},
   "outputs": [
    {
     "data": {
      "image/png": "[encoded data removed]",
      "text/plain": [
       "<Figure size 432x288 with 1 Axes>"
      ]
     },
     "metadata": {
      "needs_background": "light"
     },
     "output_type": "display_data"
    }
   ],
   "source": [
    "vis_matrix(policy_evaluation(V).reshape((5,5)))"
   ]
  },
  {
   "cell_type": "code",
   "execution_count": 14,
   "id": "85cf6fba-80aa-4b5b-8de0-a1e67c35e154",
   "metadata": {},
   "outputs": [],
   "source": [
    "def policy_improvement(V):\n",
    " change_flag = True\n",
    " new_policy = copy.deepcopy(pi._policy_table)\n",
    " for s in range(env.grid_width * env.grid_height):\n",
    "  Pi_values = np.zeros(4)\n",
    "  x = int(s/env.grid_width)\n",
    "  y = s % env.grid_width\n",
    "  for count, action in enumerate(Action):\n",
    "   ((x_new,y_new),reward) = env.step((x,y), action)\n",
    "   new_state = x_new * env.grid_width + y_new \n",
    "   Pi_values[count] = reward + gamma * V[new_state]\n",
    "   new_policy[action][s] = 0\n",
    "  Pi_index, Pi_value, Pi_action = Max_action_value(Pi_values)\n",
    "  new_policy[Pi_action][s] = 1\n",
    " if (pi._policy_table.values() != new_policy.values()):\n",
    "  change_flag = False\n",
    " pi._policy_table = new_policy\n",
    " return change_flag"
   ]
  },
  {
   "cell_type": "code",
   "execution_count": 15,
   "id": "bf607bd7-c127-4309-8298-6fc979e4b8b6",
   "metadata": {},
   "outputs": [
    {
     "data": {
      "image/png": "[encoded data removed]",
      "text/plain": [
       "<Figure size 432x288 with 1 Axes>"
      ]
     },
     "metadata": {
      "needs_background": "light"
     },
     "output_type": "display_data"
    }
   ],
   "source": [
    "flag = policy_improvement(V) \n",
    "vis_policy_table(pi._policy_table)"
   ]
  },
  {
   "cell_type": "code",
   "execution_count": null,
   "id": "cf36a4f9-5341-45d5-b999-d81a323aa9b8",
   "metadata": {},
   "outputs": [],
   "source": []
  }
 ],
 "metadata": {
  "kernelspec": {
   "display_name": "Python 3 (ipykernel)",
   "language": "python",
   "name": "python3"
  },
  "language_info": {
   "codemirror_mode": {
    "name": "ipython",
    "version": 3
   },
   "file_extension": ".py",
   "mimetype": "text/x-python",
   "name": "python",
   "nbconvert_exporter": "python",
   "pygments_lexer": "ipython3",
   "version": "3.8.10"
  }
 },
 "nbformat": 4,
 "nbformat_minor": 5
}
