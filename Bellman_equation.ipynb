{
 "cells": [
  {
   "cell_type": "markdown",
   "id": "f3e56cbf-5f13-4c46-922a-8228cb7b5f99",
   "metadata": {},
   "source": [
    "# Bellman equation"
   ]
  },
  {
   "cell_type": "code",
   "execution_count": 1,
   "id": "2f78612e-f1e3-484d-997a-963b85440569",
   "metadata": {},
   "outputs": [],
   "source": [
    "from IPython.display import Image\n",
    "import matplotlib.pyplot as plt\n",
    "from scipy import linalg\n",
    "import networkx as nx\n",
    "import numpy as np\n",
    "import latexify\n",
    "import pydot"
   ]
  },
  {
   "cell_type": "markdown",
   "id": "045efe05-c9cb-4eb3-8def-dfa0cf71d196",
   "metadata": {},
   "source": [
    "Given a set of states $S=\\{1,2,3\\}$, a state transition probability matrix $P$, a reward matrix $R$ and a discount $\\gamma$, where:"
   ]
  },
  {
   "cell_type": "code",
   "execution_count": 2,
   "id": "d5bfcebf-6910-4c24-ab9a-1a98bd96c2e7",
   "metadata": {},
   "outputs": [
    {
     "data": {
      "image/png": "[encoded data removed]",
      "text/plain": [
       "<IPython.core.display.Image object>"
      ]
     },
     "metadata": {},
     "output_type": "display_data"
    }
   ],
   "source": [
    "G=nx.DiGraph()\n",
    "G.add_edge('1', '2', weight=0.7)\n",
    "G.add_edge('1', '3', weight=0.3)\n",
    "G.add_edge('2', '1', weight=0.5)\n",
    "G.add_edge('2', '3', weight=0.5)\n",
    "G.add_edge('3', '2', weight=0.1)\n",
    "G.add_edge('3', '3', weight=0.9)\n",
    "\n",
    "for edge in G.edges(data=True): edge[2]['label'] = edge[2]['weight']\n",
    "G.add_nodes_from([1, 2, 3], shape=\"circle\")\n",
    "node_label = nx.get_node_attributes(G,'id')\n",
    "pos = nx.spring_layout(G)\n",
    "\n",
    "pydotGraph = nx.drawing.nx_pydot.to_pydot(G)\n",
    "display(Image(pydotGraph.create_png()))"
   ]
  },
  {
   "cell_type": "code",
   "execution_count": 3,
   "id": "8ec44acf-bca7-408d-8490-f78210ab419a",
   "metadata": {},
   "outputs": [],
   "source": [
    "P = np.array([[0, 0.7, 0.3], \n",
    "              [0.5, 0, 0.5], \n",
    "              [0, 0.1, 0.9]])\n",
    "\n",
    "R = np.array([[0, 1, 10],\n",
    "              [0, 0, 1],\n",
    "              [0, -1, 10]])\n",
    "\n",
    "gamma = 0.9"
   ]
  },
  {
   "cell_type": "markdown",
   "id": "b0f07ba7-a6e2-44d3-af6a-25767fd74359",
   "metadata": {},
   "source": [
    "The expected value of the reward is calculated by:\n",
    "\n",
    "$$R_e = \\mathbb{E}[R_t|S_{t-1}, A_{t-1}=a] = \\sum_{r\\in R}r \\sum_{s'\\in s} P(s',r|s,a)$$\n",
    "\n",
    "In its matrix representation\n",
    "$$\n",
    "\\mathbf{R_e} = \n",
    "\\begin{pmatrix}\n",
    "r_{00}\\\\\n",
    "r_{10}\\\\\n",
    "r_{20} \n",
    "\\end{pmatrix}\n",
    "$$\n",
    "\n",
    "where element $r_{ij}$ can be obtained by:\n",
    "$$r_{ij} = \\sum R_{i} \\sum P_{i}$$"
   ]
  },
  {
   "cell_type": "code",
   "execution_count": 4,
   "id": "39478212-356c-4259-840b-17e448efc3e6",
   "metadata": {},
   "outputs": [
    {
     "data": {
      "text/plain": [
       "array([[3.7],\n",
       "       [0.5],\n",
       "       [8.9]])"
      ]
     },
     "execution_count": 4,
     "metadata": {},
     "output_type": "execute_result"
    }
   ],
   "source": [
    "R_e = np.sum(R*P, axis=1, keepdims=True)\n",
    "R_e"
   ]
  },
  {
   "cell_type": "markdown",
   "id": "f23fd539-603b-4f97-8702-3b8696c49dea",
   "metadata": {},
   "source": [
    "---\n",
    "\n",
    "## Direct solution"
   ]
  },
  {
   "cell_type": "markdown",
   "id": "57fa8e8d-4e92-4315-91d3-45d99c56b87d",
   "metadata": {},
   "source": [
    "Using linear algebra to isolate the value function in the bellman equation:\n",
    "\n",
    "$$(\\mathbf{I} - \\gamma\\mathbf{P}) \\mathbf{V} = \\mathbf{R_e} $$"
   ]
  },
  {
   "cell_type": "markdown",
   "id": "b10d356e-8af8-4514-a60a-9e5f376e7f1e",
   "metadata": {},
   "source": [
    "The direct solution can be obtained by\n",
    "\n",
    "$$\\mathbf{V} = (\\mathbf{I} - \\gamma\\mathbf{P})^{-1} \\mathbf{R_e} $$\n",
    "\n",
    "$$\n",
    "\\begin{pmatrix}\n",
    "v_1\\\\\n",
    "v_2\\\\\n",
    "v_3 \n",
    "\\end{pmatrix}\n",
    "=\n",
    "\\left( \n",
    "\\begin{pmatrix}\n",
    "1 & 0 & 0\\\\\n",
    "0 & 1 & 0\\\\\n",
    "0 & 0 & 1\n",
    "\\end{pmatrix}\n",
    "-\\gamma\n",
    "\\begin{pmatrix}\n",
    "0 & 0.7 & 0.3\\\\\n",
    "0.5 & 0 & 0.5\\\\\n",
    "0 & 0.1 & 0.9\n",
    "\\end{pmatrix}\n",
    "\\right)^{-1}\n",
    "\\begin{pmatrix}\n",
    "3.7\\\\\n",
    "0.5\\\\\n",
    "8.9 \n",
    "\\end{pmatrix}\n",
    "$$\n",
    "\n",
    "$$\n",
    "\\mathbf{V} = \n",
    "\\begin{pmatrix}\n",
    "65.5\\\\\n",
    "64.9\\\\\n",
    "77.5 \n",
    "\\end{pmatrix}\n",
    "$$"
   ]
  },
  {
   "cell_type": "code",
   "execution_count": 5,
   "id": "937d1808-a69a-496c-8c68-9900cffe04bf",
   "metadata": {},
   "outputs": [
    {
     "data": {
      "text/plain": [
       "array([[65.540732  ],\n",
       "       [64.90791027],\n",
       "       [77.5879575 ]])"
      ]
     },
     "execution_count": 5,
     "metadata": {},
     "output_type": "execute_result"
    }
   ],
   "source": [
    "V1 = np.dot(np.linalg.inv(np.identity(3)-gamma*P), R_e)\n",
    "V1"
   ]
  },
  {
   "cell_type": "markdown",
   "id": "04903b62-b22f-420c-8853-dda8b995679f",
   "metadata": {
    "tags": []
   },
   "source": [
    "---\n",
    "\n",
    "## Library solution"
   ]
  },
  {
   "cell_type": "markdown",
   "id": "50231379-3ee0-4e44-9c6b-e963896cbf64",
   "metadata": {},
   "source": [
    "Or solving the equations system using the library presented in classes\n",
    "\n",
    "$$\\mathbf{R_e} = (\\mathbf{I} - \\gamma\\mathbf{P}) \\mathbf{V} $$\n",
    "\n",
    "$$\n",
    "\\begin{pmatrix}\n",
    "3.7\\\\\n",
    "0.5\\\\\n",
    "8.9 \n",
    "\\end{pmatrix}\n",
    "=\n",
    "\\left( \n",
    "\\begin{pmatrix}\n",
    "1 & 0 & 0\\\\\n",
    "0 & 1 & 0\\\\\n",
    "0 & 0 & 1\n",
    "\\end{pmatrix}\n",
    "-\\gamma\n",
    "\\begin{pmatrix}\n",
    "0 & 0.7 & 0.3\\\\\n",
    "0.5 & 0 & 0.5\\\\\n",
    "0 & 0.1 & 0.9\n",
    "\\end{pmatrix}\n",
    "\\right)\n",
    "\\begin{pmatrix}\n",
    "v_1\\\\\n",
    "v_2\\\\\n",
    "v_3 \n",
    "\\end{pmatrix}\n",
    "$$\n",
    "\n",
    "$$\n",
    "\\begin{pmatrix}\n",
    "3.7\\\\\n",
    "0.5\\\\\n",
    "8.9 \n",
    "\\end{pmatrix}\n",
    "=\n",
    "\\begin{pmatrix}\n",
    "1 & -0.63 & -0.27\\\\\n",
    "-0.45 & 1 & -0.45\\\\\n",
    "0 & -0.09 & 0.19\n",
    "\\end{pmatrix}\n",
    "\\begin{pmatrix}\n",
    "v_1\\\\\n",
    "v_2\\\\\n",
    "v_3 \n",
    "\\end{pmatrix}\n",
    "$$\n",
    "\n",
    "$$\n",
    "\\mathbf{V} = \n",
    "\\begin{pmatrix}\n",
    "65.5\\\\\n",
    "64.9\\\\\n",
    "77.5 \n",
    "\\end{pmatrix}\n",
    "$$"
   ]
  },
  {
   "cell_type": "code",
   "execution_count": 6,
   "id": "14104834-64a1-4bbf-8da3-3efe711b7235",
   "metadata": {},
   "outputs": [
    {
     "data": {
      "text/plain": [
       "array([[65.540732  ],\n",
       "       [64.90791027],\n",
       "       [77.5879575 ]])"
      ]
     },
     "execution_count": 6,
     "metadata": {},
     "output_type": "execute_result"
    }
   ],
   "source": [
    "A=np.eye(3) - gamma*P\n",
    "B=R_e\n",
    "V2=linalg.solve(A,B)\n",
    "V2"
   ]
  },
  {
   "cell_type": "code",
   "execution_count": null,
   "id": "bb6bf9bc-ca04-4c61-b6cd-59040a05df7c",
   "metadata": {},
   "outputs": [],
   "source": []
  }
 ],
 "metadata": {
  "kernelspec": {
   "display_name": "Python 3 (ipykernel)",
   "language": "python",
   "name": "python3"
  },
  "language_info": {
   "codemirror_mode": {
    "name": "ipython",
    "version": 3
   },
   "file_extension": ".py",
   "mimetype": "text/x-python",
   "name": "python",
   "nbconvert_exporter": "python",
   "pygments_lexer": "ipython3",
   "version": "3.8.10"
  }
 },
 "nbformat": 4,
 "nbformat_minor": 5
}
