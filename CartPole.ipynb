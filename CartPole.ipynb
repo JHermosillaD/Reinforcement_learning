{
 "cells": [
  {
   "cell_type": "markdown",
   "id": "256f5064-b169-4fd8-996a-a48a72b257bd",
   "metadata": {},
   "source": [
    "# CartPole environment"
   ]
  },
  {
   "cell_type": "code",
   "execution_count": 1,
   "id": "04de78ea-a768-4fea-b295-338c3cdcbe13",
   "metadata": {},
   "outputs": [],
   "source": [
    "from IPython.display import HTML\n",
    "from matplotlib import animation\n",
    "import matplotlib.pyplot as plt\n",
    "import numpy as np\n",
    "import latexify\n",
    "import math\n",
    "import gym"
   ]
  },
  {
   "cell_type": "code",
   "execution_count": 2,
   "id": "af7dcbb7-723a-4ce4-a249-c873f01acf6d",
   "metadata": {},
   "outputs": [
    {
     "name": "stdout",
     "output_type": "stream",
     "text": [
      "Observation space:  [-4.80e+00 -3.40e+38 -4.19e-01 -3.40e+38 4.80e+00 3.40e+38 4.19e-01\n",
      " 3.40e+38] \n",
      "Action space: 2\n"
     ]
    }
   ],
   "source": [
    "env = gym.make(\"CartPole-v1\", render_mode='rgb_array')\n",
    "np.set_printoptions(formatter={'float': '{:0.2e}'.format})\n",
    "print('Observation space: ', np.hstack([env.observation_space.low, env.observation_space.high]), '\\nAction space:', env.action_space.n)"
   ]
  },
  {
   "cell_type": "code",
   "execution_count": 3,
   "id": "f265396f-8c88-4a53-acdd-99eaa1f51dec",
   "metadata": {},
   "outputs": [],
   "source": [
    "episode_returns = [] \n",
    "time_steps = 30\n",
    "episodes = 30\n",
    "env.reset()\n",
    "episode_images = []"
   ]
  },
  {
   "cell_type": "code",
   "execution_count": 4,
   "id": "43ad03a8-cfb7-4504-8c1f-953057a48e06",
   "metadata": {},
   "outputs": [
    {
     "data": {
      "text/latex": [
       "$$ \\displaystyle \\mathrm{policy}(s2, s3) \\triangleq \\left\\{ \\begin{array}{ll} 0, & \\mathrm{if} \\ s2 + \\frac{s3}{3}<0 \\\\ 1, & \\mathrm{otherwise} \\end{array} \\right. $$"
      ],
      "text/plain": [
       "<latexify.core.with_latex.<locals>._LatexifiedFunction at 0x7fd956871d30>"
      ]
     },
     "execution_count": 4,
     "metadata": {},
     "output_type": "execute_result"
    }
   ],
   "source": [
    "@latexify.with_latex\n",
    "def policy(s2, s3):\n",
    "  if (s2 + s3/3) < 0:\n",
    "    return 0\n",
    "  else:\n",
    "    return 1  \n",
    "\n",
    "policy"
   ]
  },
  {
   "cell_type": "code",
   "execution_count": 5,
   "id": "490ebc11-a02d-4350-93f9-ddefa58f9bb3",
   "metadata": {},
   "outputs": [
    {
     "data": {
      "text/plain": [
       "<bound method Wrapper.close of <TimeLimit<OrderEnforcing<PassiveEnvChecker<CartPoleEnv<CartPole-v1>>>>>>"
      ]
     },
     "execution_count": 5,
     "metadata": {},
     "output_type": "execute_result"
    },
    {
     "data": {
      "image/png": "[encoded data removed]",
      "text/plain": [
       "<Figure size 432x288 with 1 Axes>"
      ]
     },
     "metadata": {
      "needs_background": "light"
     },
     "output_type": "display_data"
    }
   ],
   "source": [
    "fig, ax = plt.subplots()\n",
    "ax.axis('off')\n",
    "ax.set_title('CartPole model')\n",
    "\n",
    "for n_episode in range(episodes):\n",
    "  observation = env.reset()[0]\n",
    "  n_img = ax.imshow(env.render(), animated=True)\n",
    "  for n_time_step in range(time_steps):\n",
    "    pos = observation[0]\n",
    "    v = observation[1]\n",
    "    angle = observation[2]\n",
    "    angle_v = observation[3]\n",
    "    action = policy(angle, angle_v)\n",
    "    observation, reward, done, _, _, = env.step(action)\n",
    "    if done:\n",
    "      print(\"Episode Number\", n_episode, \"Timesteps\", n_time_step)\n",
    "      break\n",
    "  episode_returns.append(n_time_step)\n",
    "  episode_images.append([n_img])\n",
    "env.close"
   ]
  },
  {
   "cell_type": "code",
   "execution_count": 6,
   "id": "8eeb0018-6542-48f2-bd77-f4f940f514be",
   "metadata": {},
   "outputs": [
    {
     "data": {
      "text/html": [
       "<video width=\"432\" height=\"288\" controls autoplay loop>\n",
       "  <source type=\"video/mp4\" src=\"data:video/mp4;base64,AAAAHGZ0eXBNNFYgAAACAGlzb21pc28yYXZjMQAAAAhmcmVlAAAbN21kYXQAAAKtBgX//6ncRem9\n",
       "5tlIt5Ys2CDZI+7veDI2NCAtIGNvcmUgMTU1IHIyOTE3IDBhODRkOTggLSBILjI2NC9NUEVHLTQg\n",
       "QVZDIGNvZGVjIC0gQ29weWxlZnQgMjAwMy0yMDE4IC0gaHR0cDovL3d3dy52aWRlb2xhbi5vcmcv\n",
       "eDI2NC5odG1sIC0gb3B0aW9uczogY2FiYWM9MSByZWY9MyBkZWJsb2NrPTE6MDowIGFuYWx5c2U9\n",
       "MHgzOjB4MTEzIG1lPWhleCBzdWJtZT03IHBzeT0xIHBzeV9yZD0xLjAwOjAuMDAgbWl4ZWRfcmVm\n",
       "PTEgbWVfcmFuZ2U9MTYgY2hyb21hX21lPTEgdHJlbGxpcz0xIDh4OGRjdD0xIGNxbT0wIGRlYWR6\n",
       "b25lPTIxLDExIGZhc3RfcHNraXA9MSBjaHJvbWFfcXBfb2Zmc2V0PS0yIHRocmVhZHM9OSBsb29r\n",
       "YWhlYWRfdGhyZWFkcz0xIHNsaWNlZF90aHJlYWRzPTAgbnI9MCBkZWNpbWF0ZT0xIGludGVybGFj\n",
       "ZWQ9MCBibHVyYXlfY29tcGF0PTAgY29uc3RyYWluZWRfaW50cmE9MCBiZnJhbWVzPTMgYl9weXJh\n",
       "bWlkPTIgYl9hZGFwdD0xIGJfYmlhcz0wIGRpcmVjdD0xIHdlaWdodGI9MSBvcGVuX2dvcD0wIHdl\n",
       "aWdodHA9MiBrZXlpbnQ9MjUwIGtleWludF9taW49MSBzY2VuZWN1dD00MCBpbnRyYV9yZWZyZXNo\n",
       "PTAgcmNfbG9va2FoZWFkPTQwIHJjPWNyZiBtYnRyZWU9MSBjcmY9MjMuMCBxY29tcD0wLjYwIHFw\n",
       "bWluPTAgcXBtYXg9NjkgcXBzdGVwPTQgaXBfcmF0aW89MS40MCBhcT0xOjEuMDAAgAAABUpliIQA\n",
       "F//+99S3zLLtU2+2C6j3op4mX0N1JQGblsTtOoAAAAMABnddzdfZ7UGcN2ChIwBTDmAIrWkT1bYt\n",
       "8So5aHvMXU+95d3yynSTDYk5HYJBh+E4vsklCJuOQTPFi4ODXvuvkFnbznp3opG0aUaNWJjwQpci\n",
       "i2n1u02sdI/rhjiaMBbdVUARnGK9ate/tbUMtxIah5lG9YKTIGVSO370MV5sPBpVlxjwgcyRu6+h\n",
       "NO3lh10pO8zWnntjSi2myPI2OfgqNSCeZxAT1s5efkUm74zpVAlZnOcoXKoIO5ybr7FFpSI7Vuzi\n",
       "hzzdVKM5GYx7FZeVK3if976WqRC/niNnFSU0Jyoozaf5bTj5jJXtRdNRlvh7ihfihiMNs2f7GPcP\n",
       "upLImPZ5E0vX9AuAxF02EmQFEECudgOTrs7se83Dso3y51kIYe23A+G+dr3TwmTOrXq+T49o1P4M\n",
       "KC0LfLyUZuVnaIr2T2uQ5ltyoL6ZDnFoZHKil/5yZAm8UKDiiOAKKXtPVoDAsww1vz1pQ82OwIo4\n",
       "SOcBEMMlCWYB4LTHholIJq5eFcp07NZB1GVlt3cHwnebxi0iR0zTCGFeC7VFxPxeJKGwKWzjZ8Ng\n",
       "Pim0Hb0mIgYUOn4vVSj2jhLg2kekoCBikeTInF7ergWay7O1VeIJeXm7F1S4E/IJHj3tqtaPquFv\n",
       "Aa1YmeTBZe6nlndn88tSFYMo/GjbrtaxXLDh20pBjXqxaG9VrR91JJc8tVV2hLQO2WO2Uy/okuE0\n",
       "ljban+u0giI7TPYh5zrtgP9SIenNLTxAuyOi7J7gD2H53+uvslaTvTYQzXkIlhZkTCWEaKOEqlRh\n",
       "uQff8Um1Xuh3COsb1IrdTWZ62Z2nr2Lgs86xeK8Dr0VOp42lilv+barE90cLLwblouv4Gjp4VwCp\n",
       "KRVdawugpvoW3FO40XihlZqqI3JL2QthjpRaj1Wl2WytJUZ1ZiJIQNEpsq19Mh6MpJjKPTZURDVn\n",
       "j+huCG3rEv6uXM1PRU35haORfgGCHivMhOnqvaJk37118aQdxvLMYJBT5DrZNF4oaISqiCErnqzX\n",
       "UuL3aBJa/qUgjMlqADwgArlUCZwUgBqF5brICBI1VU8F8jQbjm+2CNxjRHdXTgvuBcwRbAvUhbFe\n",
       "APmDTFkaM/mJimO33HjWigAd2G0ks9vC75VmwsVaBOZ3TkfkJY4Z1Wunx1MShvZWkjuu1kl73ZtP\n",
       "NlYk3GUxFYtPbOflwhcjNW8wu47b8eBE5CEaaOErCf7xhMsDrzI23CbeA32e/dkM+GTMDtP6oZ9c\n",
       "3m+MJll7OPoVf6zNm0UlHyPp8Jp0QFdZMbmQuV/mMQeis6FcGcfe6j2iHBLH8Q+wEu7hY+LC7DNH\n",
       "L39cTMdSN6mRnhGFzJ/VZZl7rTA+EpnWDVVrLfhzDoej8xif5kS96HJijxFUfyhzjhHP2n78Gjd7\n",
       "LlRpgASwyQedv8n8JenPFPPjV7uqB1bNsugkDdvFBZVZoXHb3yX9bjHRT9tE1lOdx7WF//Mj5sVK\n",
       "HQMioiS7mvi+LIkRjDZygt/IHjZrwRbb8UWgpefJzKQsV7hQH+EhrhAEv84i62A4NDp7ZbUrG+EX\n",
       "AHxGe/p5h7/6MVYuu10njZVPbmbDwNXf5NtVTxh4zTGntM/SbpBHpvIZC8PAZi/3X1f+TlChWtlM\n",
       "hFMkB9SK+lrek4ARXx/BXE0qkB1wcTxFLFkaP4TvL4C8G7MXevw/yHzd7rBwLPGdvZ9heasLHZJ3\n",
       "leR3AXZdEfJKX39KEvBJ8rPA8GAivmhmTJzJ+sN7A33IQAN8AAh5AAABM0GaJGxBf/7aplgAFuIh\n",
       "wfVnGI+F3T5meyoVqMkkydvX8Wii24EcsfAhOA5PSxWOW61H0I+SxY/DZD1cfxvPyMovmhsmr8NB\n",
       "cOyzt/wQFhCc18d75As8M/E5zJXq1buW8T5jlmYNka+GNvw/5L2bRimxvn0VI2D2BWslfJOMBlUi\n",
       "h9x/MHCH2mnnH3mWM7dXqahicXLPLkcF4IA7tP/MGv+pCCtCt+8s7CRYbz9iS6ljLv60XN7les6B\n",
       "5uR/Q065HxMAmfXtQ5hZIahrQCqmJRdR1dvggrTkkAEkvG3ZLBInB559FBMjDOlaK+mwR5s7rIV8\n",
       "MJyNu4scXlzzkEf9LexQW4Sii/n6DXw/9RVrwv7OQSMtkctx1QTcMfMgkC2b6ArZXH5saxjVpg8Z\n",
       "luk7ZFR3w4cAAACfQZ5CeIK/AAAPJYxUuGf51rAckUIAb9BQtf0nxVTUdpimBjdyR5eUbpu9dtfx\n",
       "vqgkTpkPWzp7UkxV4ncVSkM0BI63bBTn6m48b3hsrYCuM9pAcr9ZV9UDXFPKgKccwFQTIvLuP6Fn\n",
       "y8VdK8SOyfOKJkDEFS9oN9XI0I+23P68ISjZ+YqlXaSSAsiGcNymh+lDAJzMkVY2TAO7+TJPVGbx\n",
       "AAAAjgGeYXRBTwAAHvyDjKKzHdBoKlH9QAk4JTDhMkwz1nwxHGZzC0/Cc+G2DZlaiJvaaJiZ71ut\n",
       "vJR8x1ibKE4BFyxNFU+gkTrF/yAgZhnVSer3gF/2OcEr3HAbLPWfh0hmHth4Ci7lLIfCcSVseO+C\n",
       "v0XjKSMbbGHC8x+M/Czz3AxDSWMpnsfbK7lrwGe0u+AAAAC6AZ5jakFPAAAe++y46Qa3VfsgAbSb\n",
       "1u2Hzxdm/5dpMb1C8vLqTfNaA6wm9Yd0Bea7XdThKDfL2aXL3JkVWLymEpW4/FkP5c7Y3clREkuw\n",
       "6yFOnSmOmO/8O12dTiq1U7lMPwA+rIKT14HoySfxgD+QhmCKkhQnq8YovHe7y/I5+q9fEMXlYncp\n",
       "pV4Ps50mN8Ode2yH2E7HnAN4Onzx5MZMlmf+WAlFJ+hRPvv/JUklQU6/DEPAnH4ock/hAAAA/UGa\n",
       "aEmoQWiZTAgv//7aplgAFuGAio35jPgijG7ScoAi4Ju67/yjVPu1NSqH5ZvCGf46JJVo8vzgUFFm\n",
       "d9nhneBE+MTN5zRTF9GkFPrCdn//tC0T2Bxr+OAl+pskBVFqUyXSyPqD2ieL6sA/sM0oPNTPXnyn\n",
       "vyBnM0qwFQp7wF8H2/AtOLL+E2zWxoUD2Pnk0Z7k4b7IV4W4Er2WjergUKnT0nKxJYXyauitt1wB\n",
       "cr27AUv84rr/H075Hjgww7hwMlq4SJcxRW+PnL81Zb8szn6ovPbnqA8Txwrui8Rb41kT4/CwJz+E\n",
       "KBMHv+Rcept0GyGwNswiJqyxdD4dxQcAAADGQZ6GRREsFf8AAA8k59zvi5lFcBvEALkwy6XqJFr1\n",
       "ZAI49WMpVMxFRqMhTKlghFCY7rCfYtccuILPsLn6GUwVpSVS+aNgE8FE1WReAboZ9EyTwkzTf5jT\n",
       "O2FsLQr5w0HgCGUnh9JyU27AfW5Lh99rhOcHHsFQPMUwclNTWDthPODrOORSV5jd0o83vE7y2qN6\n",
       "lHOeF7vW72egzWXrcxEAoelEoo+VuqX9YN93s8gN0+/IEIplVSBP+3LKXbJaZmpM5XsnegghAAAA\n",
       "VwGepXRBTwAAHvx3HdQcMIz/5FoJajMdwAC3Ru6lFEIT60T3gkD/Z9jfTHgvlzx8qwUOJ70f4nTJ\n",
       "/Q7exTSNJ1zRomB8JM9g7S+pBrAas3oWko79SQLBYQAAAF8BnqdqQU8AAB66VMeSIQ2+AE0Ejnbi\n",
       "EogBb+PqWq1t9lRH1E5d0q32SMknrgD3DaKlEjPnvDGVp4a9FG4+4Vs+fVecKLbqxfSZ1tbFHyN4\n",
       "G0lT6YpTUqe3OGIndXxvwgAAAPxBmqxJqEFsmUwIL//+2qZYABbhEx2pBYFvohE13kNbxypL8T3e\n",
       "XjnXcLIwqtZkPO7DQ0TZkK9weegMIyeD9M87mowhMYmsm+uTZZHBRQaO7bpHHYcCC7sCm4mbdbFJ\n",
       "oIZnONnKCZuhryt8fWr2nDMSmKzj4OMgqOopYSs0a6mq2inMzybnyvgt24zsFyidixUe42+0vCmL\n",
       "DoeCKOqumnXA/+eY2lS5yspYULpvTQHi8lBmOn/3tEKWkX1KIzPeD00G/NByJ1nhaKWuLIiOZeT9\n",
       "85Dlj3RZ/3slZ8DAYu9bdllRvx90GqVl1WJ0XojGsraHkGyS1B0mHKKreigAAACRQZ7KRRUsFf8A\n",
       "AA8lpEo0bc0hQ7fiAEpZb7jm48tM8ZvuxdmHvbCsNdaHZ+Ebomic9yThIr5yxdKEw5jtggr2hqzJ\n",
       "r8wEvRSUJ+ciRx6c0mt6KHlGSkaumT9xwrBqi0K5Mk57j1JY3JNTDy3Q5Y7kJbDMR/b8DChhLaLJ\n",
       "WNBiJsFCincUoAme1rTEYNPi8O0tIQAAAIkBnul0QU8AAB72taiR/uyg1tAKDIc6ACWtvHkR1ESt\n",
       "zrMuv1IzUfisVRynA3l3T46braZ6UYJGVmuFR0rDxFpi3Cn5cEoXFq29RJXzRgqUebgWOjLJ1yK4\n",
       "vpFNy+MF6J621KxQW3EYgui8dJw2MB5ZZH6Q400ObAOiSE63aWo120QyzI//Ul/ggAAAAHUBnutq\n",
       "QU8AAB77/S4CyVJNAAkP3DjXxkDLmYw/OgwVg8xqk6sq4yZrE41uWHWTXTLMwNBrmx8oUndW1iip\n",
       "G7XIgfKyocrTcWOVRHVOWK1Z2dxp0+l/tew7eCuucKkgVIr/qef3yJ5+0vtA/aaj54hg6xcSu+AA\n",
       "AAD+QZruSahBbJlMFEwX//7aplgAFuLeBLp1zR/AH6sARndkRZ+pV/gKBHgxKmRKuhfSxOg5P48L\n",
       "fOpm9MsfSlc0ogW1P3U7m5NA6/OBP23PvXyKley8s8UUn0pbgiD8MWX3xY+MX/iB3k/5Ooz2gU5k\n",
       "QT9k95hymBOIafdh0pCe5lnuiMldWkT72qbR/cAVNy7mSLmurqmzrCJysE80cJ5ypxPJxUZteDyB\n",
       "+/QzJQG2JRbf7MkS0N6iatESxs6eGPxzoXk8ehP8d1IpnymO3C/JOGQ+uO3Z8HCL4STljQE0Ew0l\n",
       "BihTFHjqCd82a61LERdZELvspjhUZcrn7E6xZD8AAABaAZ8NakFPAAAe/bPToyFJ6ubcTJtgAWxf\n",
       "m7/TQe22ofxwRP3CLz5k/mUNmIbVUvBmU8K9MEfWUYfZinHPEKL/qQIFifNXaEGyJpPfDhAIVR6N\n",
       "WkDgCcJQFPgJAAABB0GbEknhClJlMCC///7aplgAFuEhiyB0jOwK6VWt4XTx5gvPIl3xU7dNvJsN\n",
       "oi7eJrA3x6X3ou8mFvsusfVlm9822pebv9xNaFGDK5mAOo7Y0fDXWbjfprrM5wFgaXtCcHNJIFTh\n",
       "b7rA0B8VwTot9gbaGNhXJim3hCWtSyhteV+cCOqQjuzMcH0y1YARW8n2MgFZFhqL6U/AwfSe9xhq\n",
       "aQMAvsfqyRcd1R+61tWHOKpWV6QG7vFoGQF/u5C/BKehtEOKSr9/ol4Qr+GB0guaUoPpgXmVE9c4\n",
       "qPUalKJdgmSYsxwdY3Bs3qtyKDNdClTT5QX5SfFK5AVc95oB4sjpswHCHyxAG2MRAAAAo0GfMEU0\n",
       "TBX/AAAPJOETk/o6l0C0maABOWYA12hD1Mdzk/tL8ISlR0zF+/h4ymxqjaRFVRQcYPPpT2XDVZqL\n",
       "tncPUZzW8qmNUR2PsJb1iVvmIezP3iTGFcZlOvI0obGqFGjS3ftq9sME/IS+wDAk+1UAdnN29uVq\n",
       "97j/Hfp0PrAVMwy4A6/eRdrd7f2zm3M5dUnJuL8IXgEIwWkPm9CKWX25SwkAAACGAZ9PdEFPAAAe\n",
       "/U8HBxCGUdas5fAALV+wx9FHZR1srvc+I2+BfvYTX9GWEBye8dgjVPUCkvQd7zY7iZ3uCXmpVy3e\n",
       "xVuFebrSk4b/MokpkZiqgeWKP5xc62DB9Y4xa42wxmoYjFlW+4igQb8lEbFwBs3iSj1/8N5VG+H5\n",
       "d8a/CrNK/TVclUYAAACMAZ9RakFPAAAe/WB8l1QpkoGIIKwAtpnffzXeOi697oyNE0GgJgUAqWf9\n",
       "2o+KuuC9E4aCbPlTQgLRbACufK7Dmxs6xNHqtzuv5Xe8pwS4vYlWc5oNrPmK1e8TzXRlJdYAhWyq\n",
       "P7lxDbVh+bwlmxvuWbk+Rmaq+c+CJZgfTzuHr2hqMpCXuIggIymgUEEAAAC9QZtWSahBaJlMCC//\n",
       "/tqmWAALeQC1gANRxXm3v9we0d1PqwEMDRq4gaog0aL33h4Hav/wjQN+yu9R0AesuJh//Hc5lMzB\n",
       "8Q8S5YyXX5/lrphWmvMNYLq5W41hzHyolKZH0JyOnr3nCNSLNuSJwp0M57hohuU9rvP4Kpm1MOTG\n",
       "RajELWP8rfVBSyTKHlHJB7bi49lbvm2OrCj6gePJNwI6mfAYOeDEWVc0WfEcnJab/YLm1MDjN0tq\n",
       "0XSGKo0UAAAAx0GfdEURLBX/AAAPJPni3R9kmVx6QiQAXREItJoa6cs/j3DyxdQRprDpp0pfufZa\n",
       "PoMQvcPwIahxSn2MTQzeOEdfVuJyAkdaMhjeAkUcB4QXu0paFk//m3yJMh8Nwj0RX+E0ey+ZNAia\n",
       "vsoFzWD5gZEgg5jVa/S++tfqT8BGkx7X6LBBofftBksVGPHpKZc94slRTlCnQD+orpXo2NDua35l\n",
       "n5Q4B9QRtfsZopYb9P9i8//+wUNqMtitTLywkmXo8BD9JTcBwEgAAABwAZ+TdEFPAAAe/XRGPTus\n",
       "FDyBAC2OHBfQ+nYvsIrNJiMAUvWc5zvKWtK8lncbHitPDbQXwB9CdufRn0tFqCiFTxLLcbGnxnVc\n",
       "3FqkFDqAV48MdwiCXZEpZkf3q4DTe+TaX0c3rrXeBX1xbq4REfgUwQAAAF0Bn5VqQU8AAB772w/p\n",
       "+y4rlpQeagBJwoMShbRznpWOoh9y0L8tmeD/obgzg4miv3U0GdH82B3IeMSKGwKzf7SpkhbcOR7A\n",
       "KYewMg8EIwV3Y8pAWupr0AMjczqLQ2AAAAC7QZuaSahBbJlMCC3//talUAAW4ttXUtxOyACwnP6F\n",
       "h+ofdQMrNE+YWeZWinEJlKa6i64C21G+A+gijZX+eO98XehPs9FddunKkclthu7fjLh/LrjyIBT6\n",
       "hZJK1mACHpFJiFDhicv0wkMqtVY+GtZZ6d9Y/q5lHeCWsBnwARohE1o8hFiYGupesxSXj7JgBuAA\n",
       "z7sUiicGdFBI7Annte7Anj/I23l5x2CjKeYS2ckSBsZOqD+HrSiBd/nMWQAAAJBBn7hFFSwV/wAA\n",
       "DyToTWV042U2hOnlZgAi/cRvUwtiSim7ZUUrMN9x11d9N6y7sH63ySDEZKZ+5WFNMB6kVwsZxnG9\n",
       "try12Gzjr0syPnCNRNp5sFuk5bSrjp6j4s9NiJ1B6iEn7Q1ycJDrw2vLWc9yCXMNtYLojJ0ECsA0\n",
       "9+TYvNueFF4fjep0MkhlkU/c4IEAAABTAZ/XdEFPAAAe/VdYwpivBoVgAC5L8OgalATJtvUVXyCI\n",
       "MvjGx4ts5p/1w1sHfmrLXntIdMU9jVD7ueD52xSUQa8qNq4S8t/o2jcYBp/zGMAQEcAAAACQAZ/Z\n",
       "akFPAAAe/WSeW1jTUlMQAq705WZxbEDyE7UOf3aQFAzPa4vfkhFn1JrH4NAfenS8q2oyhTyoQv6G\n",
       "FNii7+GdG1XuQHIikc6A7NiYbAZBK68VyV7ZytXC5CXSVV6J5HoYYCZM0pk7jPdHDg1EfrRy63gE\n",
       "2ro5SJXNuWC8bgcuDybmXyOmnrJe/8T+FYZtAAAAmEGb3UmoQWyZTAgp//7WjLAALf9PygZju5jG\n",
       "00/+oBaYEGGeAFmRsHbAg9g6f4BTwfFgc1+Qg7rnH6cGRI75L588OPJbsP7PURyrYikFzdTGwoUL\n",
       "S4L5e/FHdTlKQvpIf3H8WUPnhVEMvDtUHqhlUAS+oUWf//rYYchMhiFYI0SEZA5BHvG4tQNRUd6E\n",
       "DO4qbV0I/tR4Q0G0AAAArUGf+0UVLBX/AAAPJVA0Jw5vCGmLOAAnYcTA8YV6kTuL8TjV4LZ0+i3o\n",
       "LzYNQ6cfoYci8dA1rwYd7Uev0I5Pi39ZpFI9NgPZ7TnRO5pdxRbXZ01kYIYs9SXDMQlI2XosEVzP\n",
       "CZbMDdfq32jrwaiILZEkaIXN4A78jAc9RRKsVFh7j1+/pZZWt7ArrZvvXR7lEltMskz29+Dp2hy4\n",
       "wHVEl9kUIOY91vCi8bv9Yl2BAAAAxgGeHGpBTwAAHvvjNbNrwmq2QASW0EnBZceqf7Y4j89trN9y\n",
       "AfHZQeO+Kwc0OTm4nFGNqPbTjUI6IcEsFB7c5afmFIJP/qcazqWG2FdTF6V1qkAQeyGva8ddQ4wU\n",
       "dP7Uc3sTajhWOfslgowiira83GfNZbWsABSngAiJMdTxZa7rfiMF3MnahJleKnT+fDXk/wV8PjYB\n",
       "RgWsLRFL2py4rpuUZ5ByeA1QmXcK3I/4sef0B2JOShavShmpd4Nm/Rhs6zkRNhQOrQAABI5tb292\n",
       "AAAAbG12aGQAAAAAAAAAAAAAAAAAAAPoAABdwAABAAABAAAAAAAAAAAAAAAAAQAAAAAAAAAAAAAA\n",
       "AAAAAAEAAAAAAAAAAAAAAAAAAEAAAAAAAAAAAAAAAAAAAAAAAAAAAAAAAAAAAAAAAAACAAADuHRy\n",
       "YWsAAABcdGtoZAAAAAMAAAAAAAAAAAAAAAEAAAAAAABdwAAAAAAAAAAAAAAAAAAAAAAAAQAAAAAA\n",
       "AAAAAAAAAAAAAAEAAAAAAAAAAAAAAAAAAEAAAAABsAAAASAAAAAAACRlZHRzAAAAHGVsc3QAAAAA\n",
       "AAAAAQAAXcAAAEAAAAEAAAAAAzBtZGlhAAAAIG1kaGQAAAAAAAAAAAAAAAAAACgAAAPAAFXEAAAA\n",
       "AAAtaGRscgAAAAAAAAAAdmlkZQAAAAAAAAAAAAAAAFZpZGVvSGFuZGxlcgAAAALbbWluZgAAABR2\n",
       "bWhkAAAAAQAAAAAAAAAAAAAAJGRpbmYAAAAcZHJlZgAAAAAAAAABAAAADHVybCAAAAABAAACm3N0\n",
       "YmwAAACzc3RzZAAAAAAAAAABAAAAo2F2YzEAAAAAAAAAAQAAAAAAAAAAAAAAAAAAAAABsAEgAEgA\n",
       "AABIAAAAAAAAAAEAAAAAAAAAAAAAAAAAAAAAAAAAAAAAAAAAAAAAAAAAAAAY//8AAAAxYXZjQwFk\n",
       "ABX/4QAYZ2QAFazZQbCWhAAAAwAQAAADACg8WLZYAQAGaOvjyyLAAAAAHHV1aWRraEDyXyRPxbo5\n",
       "pRvPAyPzAAAAAAAAABhzdHRzAAAAAAAAAAEAAAAeAAAgAAAAABRzdHNzAAAAAAAAAAEAAAABAAAA\n",
       "+GN0dHMAAAAAAAAAHQAAAAEAAEAAAAAAAQAAoAAAAAABAABAAAAAAAEAAAAAAAAAAQAAIAAAAAAB\n",
       "AACgAAAAAAEAAEAAAAAAAQAAAAAAAAABAAAgAAAAAAEAAKAAAAAAAQAAQAAAAAABAAAAAAAAAAEA\n",
       "ACAAAAAAAQAAYAAAAAABAAAgAAAAAAEAAKAAAAAAAQAAQAAAAAABAAAAAAAAAAEAACAAAAAAAQAA\n",
       "oAAAAAABAABAAAAAAAEAAAAAAAAAAQAAIAAAAAABAACgAAAAAAEAAEAAAAAAAQAAAAAAAAABAAAg\n",
       "AAAAAAEAAIAAAAAAAgAAIAAAAAAcc3RzYwAAAAAAAAABAAAAAQAAAB4AAAABAAAAjHN0c3oAAAAA\n",
       "AAAAAAAAAB4AAAf/AAABNwAAAKMAAACSAAAAvgAAAQEAAADKAAAAWwAAAGMAAAEAAAAAlQAAAI0A\n",
       "AAB5AAABAgAAAF4AAAELAAAApwAAAIoAAACQAAAAwQAAAMsAAAB0AAAAYQAAAL8AAACUAAAAVwAA\n",
       "AJQAAACcAAAAsQAAAMoAAAAUc3RjbwAAAAAAAAABAAAALAAAAGJ1ZHRhAAAAWm1ldGEAAAAAAAAA\n",
       "IWhkbHIAAAAAAAAAAG1kaXJhcHBsAAAAAAAAAAAAAAAALWlsc3QAAAAlqXRvbwAAAB1kYXRhAAAA\n",
       "AQAAAABMYXZmNTguMjkuMTAw\n",
       "\">\n",
       "  Your browser does not support the video tag.\n",
       "</video>"
      ],
      "text/plain": [
       "<IPython.core.display.HTML object>"
      ]
     },
     "execution_count": 6,
     "metadata": {},
     "output_type": "execute_result"
    }
   ],
   "source": [
    "experiment = animation.ArtistAnimation(fig, episode_images, interval=800, repeat=3000, blit=True)\n",
    "HTML(experiment.to_html5_video())"
   ]
  }
 ],
 "metadata": {
  "kernelspec": {
   "display_name": "Python 3 (ipykernel)",
   "language": "python",
   "name": "python3"
  },
  "language_info": {
   "codemirror_mode": {
    "name": "ipython",
    "version": 3
   },
   "file_extension": ".py",
   "mimetype": "text/x-python",
   "name": "python",
   "nbconvert_exporter": "python",
   "pygments_lexer": "ipython3",
   "version": "3.8.10"
  }
 },
 "nbformat": 4,
 "nbformat_minor": 5
}
