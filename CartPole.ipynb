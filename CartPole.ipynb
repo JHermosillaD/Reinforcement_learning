{
 "cells": [
  {
   "cell_type": "markdown",
   "id": "256f5064-b169-4fd8-996a-a48a72b257bd",
   "metadata": {},
   "source": [
    "# CartPole environment"
   ]
  },
  {
   "cell_type": "code",
   "execution_count": 7,
   "id": "04de78ea-a768-4fea-b295-338c3cdcbe13",
   "metadata": {},
   "outputs": [],
   "source": [
    "from IPython.display import HTML\n",
    "from matplotlib import animation\n",
    "import matplotlib.pyplot as plt\n",
    "import numpy as np\n",
    "import latexify\n",
    "import math\n",
    "import gym"
   ]
  },
  {
   "cell_type": "code",
   "execution_count": 8,
   "id": "af7dcbb7-723a-4ce4-a249-c873f01acf6d",
   "metadata": {},
   "outputs": [
    {
     "name": "stdout",
     "output_type": "stream",
     "text": [
      "Observation space:  [-4.80e+00 -3.40e+38 -4.19e-01 -3.40e+38 4.80e+00 3.40e+38 4.19e-01\n",
      " 3.40e+38] \n",
      "Action space: 2\n"
     ]
    }
   ],
   "source": [
    "env = gym.make(\"CartPole-v1\", render_mode='rgb_array')\n",
    "np.set_printoptions(formatter={'float': '{:0.2e}'.format})\n",
    "print('Observation space: ', np.hstack([env.observation_space.low, env.observation_space.high]), '\\nAction space:', env.action_space.n)"
   ]
  },
  {
   "cell_type": "code",
   "execution_count": 9,
   "id": "f265396f-8c88-4a53-acdd-99eaa1f51dec",
   "metadata": {},
   "outputs": [],
   "source": [
    "episode_returns = [] \n",
    "time_steps = 30\n",
    "episodes = 30\n",
    "env.reset()\n",
    "episode_images = []"
   ]
  },
  {
   "cell_type": "code",
   "execution_count": 10,
   "id": "43ad03a8-cfb7-4504-8c1f-953057a48e06",
   "metadata": {},
   "outputs": [
    {
     "data": {
      "text/latex": [
       "$$ \\displaystyle \\mathrm{policy}(s2, s3) \\triangleq \\left\\{ \\begin{array}{ll} 0, & \\mathrm{if} \\ s2 + \\frac{s3}{3}<0 \\\\ 1, & \\mathrm{otherwise} \\end{array} \\right. $$"
      ],
      "text/plain": [
       "<latexify.core.with_latex.<locals>._LatexifiedFunction at 0x7f990374faf0>"
      ]
     },
     "execution_count": 10,
     "metadata": {},
     "output_type": "execute_result"
    }
   ],
   "source": [
    "@latexify.with_latex\n",
    "def policy(s2, s3):\n",
    "  if (s2 + s3/3) < 0:\n",
    "    return 0\n",
    "  else:\n",
    "    return 1  \n",
    "\n",
    "policy"
   ]
  },
  {
   "cell_type": "code",
   "execution_count": 11,
   "id": "490ebc11-a02d-4350-93f9-ddefa58f9bb3",
   "metadata": {},
   "outputs": [
    {
     "data": {
      "text/plain": [
       "<bound method Wrapper.close of <TimeLimit<OrderEnforcing<PassiveEnvChecker<CartPoleEnv<CartPole-v1>>>>>>"
      ]
     },
     "execution_count": 11,
     "metadata": {},
     "output_type": "execute_result"
    },
    {
     "data": {
      "image/png": "[encoded data removed]",
      "text/plain": [
       "<Figure size 432x288 with 1 Axes>"
      ]
     },
     "metadata": {
      "needs_background": "light"
     },
     "output_type": "display_data"
    }
   ],
   "source": [
    "fig, ax = plt.subplots()\n",
    "ax.axis('off')\n",
    "ax.set_title('CartPole model')\n",
    "\n",
    "for n_episode in range(episodes):\n",
    "  observation = env.reset()[0]\n",
    "  n_img = ax.imshow(env.render(), animated=True)\n",
    "  for n_time_step in range(time_steps):\n",
    "    pos = observation[0]\n",
    "    v = observation[1]\n",
    "    angle = observation[2]\n",
    "    angle_v = observation[3]\n",
    "    action = policy(angle, angle_v)\n",
    "    observation, reward, done, _, _, = env.step(action)\n",
    "    if done:\n",
    "      print(\"Episode Number\", n_episode, \"Timesteps\", n_time_step)\n",
    "      break\n",
    "  episode_returns.append(n_time_step)\n",
    "  episode_images.append([n_img])\n",
    "env.close"
   ]
  },
  {
   "cell_type": "code",
   "execution_count": 12,
   "id": "8eeb0018-6542-48f2-bd77-f4f940f514be",
   "metadata": {},
   "outputs": [
    {
     "data": {
      "text/html": [
       "<video width=\"432\" height=\"288\" controls autoplay loop>\n",
       "  <source type=\"video/mp4\" src=\"data:video/mp4;base64,AAAAHGZ0eXBNNFYgAAACAGlzb21pc28yYXZjMQAAAAhmcmVlAAAad21kYXQAAAKtBgX//6ncRem9\n",
       "5tlIt5Ys2CDZI+7veDI2NCAtIGNvcmUgMTU1IHIyOTE3IDBhODRkOTggLSBILjI2NC9NUEVHLTQg\n",
       "QVZDIGNvZGVjIC0gQ29weWxlZnQgMjAwMy0yMDE4IC0gaHR0cDovL3d3dy52aWRlb2xhbi5vcmcv\n",
       "eDI2NC5odG1sIC0gb3B0aW9uczogY2FiYWM9MSByZWY9MyBkZWJsb2NrPTE6MDowIGFuYWx5c2U9\n",
       "MHgzOjB4MTEzIG1lPWhleCBzdWJtZT03IHBzeT0xIHBzeV9yZD0xLjAwOjAuMDAgbWl4ZWRfcmVm\n",
       "PTEgbWVfcmFuZ2U9MTYgY2hyb21hX21lPTEgdHJlbGxpcz0xIDh4OGRjdD0xIGNxbT0wIGRlYWR6\n",
       "b25lPTIxLDExIGZhc3RfcHNraXA9MSBjaHJvbWFfcXBfb2Zmc2V0PS0yIHRocmVhZHM9OSBsb29r\n",
       "YWhlYWRfdGhyZWFkcz0xIHNsaWNlZF90aHJlYWRzPTAgbnI9MCBkZWNpbWF0ZT0xIGludGVybGFj\n",
       "ZWQ9MCBibHVyYXlfY29tcGF0PTAgY29uc3RyYWluZWRfaW50cmE9MCBiZnJhbWVzPTMgYl9weXJh\n",
       "bWlkPTIgYl9hZGFwdD0xIGJfYmlhcz0wIGRpcmVjdD0xIHdlaWdodGI9MSBvcGVuX2dvcD0wIHdl\n",
       "aWdodHA9MiBrZXlpbnQ9MjUwIGtleWludF9taW49MSBzY2VuZWN1dD00MCBpbnRyYV9yZWZyZXNo\n",
       "PTAgcmNfbG9va2FoZWFkPTQwIHJjPWNyZiBtYnRyZWU9MSBjcmY9MjMuMCBxY29tcD0wLjYwIHFw\n",
       "bWluPTAgcXBtYXg9NjkgcXBzdGVwPTQgaXBfcmF0aW89MS40MCBhcT0xOjEuMDAAgAAABT9liIQA\n",
       "F//+99S3zLLtU2+2C6j3op4mX0N1JQGblsTtOoAAAAMABnddzdfZ7UGcN2ChIwBTDmAIrWkT1bYt\n",
       "8So5aHvMXU+95d3yynSTDYk5HYJBh+E4vsklCJuOQTPFi4ODXvuvkFnbznp3opG0aUaNWJjwQpci\n",
       "i2n1u02sdI/rhjiaMBbdVUARnGK9ate/tbUMtxIah5lG9YKTIGVSO370MV5sPBpVlxjwgcyRu6+h\n",
       "NO3lh10pO8zWnntjSi2myPI2OfgqNSCeZxAT1s5efkUm74zpVAlZnOcoXKoIO5ybr7FFpSI7Vuzi\n",
       "hzzdVKM5GYx7FZeVK3if976WqRC/niNnFSU0Jyoozaf5bTj5jJXtRdNRlvh7ihfihiMNs2f7GPcP\n",
       "upLImPZ5E0vX9AuAxF02EmQFEECudgOTrs7se83Dso3y51kIYe23A+G+dr3TwmTOrXq+T49o1P4M\n",
       "KC0LfLyUZuVnaIr2T2uQ5ltyoL6ZDnFoZHKil/5yZAm8UKDiiOAKKXtPVoDAsww1vz1pQ82OwIo4\n",
       "SOcBEMMlCWYB4LTHholIJq5eFcp07NZB1GVlt3cHwnebxi0iR0zTCGFeC7VFxPxeJKGwKWzjZ8Ng\n",
       "Pim0Hb0mIgYUOn4vVSj2jhLg2kekoCBikeTInF7ergWay7O1VeIJeXm7F1S4E/IJHj3tqtaPquFv\n",
       "Aa1YmeTBZe6nlndn88tSFYMo/GjbrtaxXLDh20pBjXqxaG9VrR91JJc8tVV2hLQO2WO2Uy/okuE0\n",
       "ljban+u0giI7TPYh5zrtgP9SIenNLTxAuyOi7J7gD2H53+uvslaTvTYQzXkIlhZkTCWEaKOEqlRh\n",
       "uQff8Um1Xuh3COsb1IrdTWZ62Z2nr2Lgs86xeK8Dr0VOp42lilv+barE90cLLwblouv4Gjp4VwCp\n",
       "KRVdawugpvoW3FO40XihlZqqI3JL2QthjpRaj1Wl2WytJUZ1ZiJIQNEpsq19Mh6MpJjKPTZURDVn\n",
       "j+huCG3rEv6uXM1PRU35haORfgGCHivMhOnqvaJk37118aQdxvLMYJBT5DrZNF4oaISqiCErnqzX\n",
       "UuL3aBJa/qUgjMlqADwgArlUCZwUgBqF5brICBfesYT+F7u03fe/oyx15GurH4YmdjSWfgSIm9rT\n",
       "7Jq7+zey0VmxtQ+M+JPXkLkLUa8TlNIh4at3bFieaiZ1Ff2NKb+92spTIS3a7vWzfkU49op10dMx\n",
       "+BM3bdig2v5mnTrRGLpiLhW8LlrATo63R+nGrPeqOOoVJPTXFqrIl1iGn8EXBSj5fNmkNyTx7/jA\n",
       "tCNJZCvR2/CjdGWM/VfLGgHVBNeEnj/gzuk3VlaXOdq+wpascuEcKI/DrJCjjPvGwwXrPsSOp6na\n",
       "9Eag7NdjG9RmdDiHQ728WpFs6ha80Ngr4Y6c3iKOn1VEzuKgLS/ZYxpmkumrxgUW/Hbys+DmAQo+\n",
       "lRuAPH2jMUXlASlDgahN6+8wUw/95D5IcCiaCcEqi4s+GBgJb/eqVa9ZXfZLdc9QmxgOHd99yGYC\n",
       "oqy0IBEtStOIq0AGeMkOH55NL7dZtfGbZ7MEg/NzhWre0oHOyC1OVvamtPmvAlc6pPR8dHJCQWWP\n",
       "ZWk3Namjeqx5IXBocsv18K5Zm1855/w/UiQft14MgGpfyQHjHhhwGibTyR1sOM+2eyR5xdZC/Ml1\n",
       "Wtu43JBgOH/4fGz58iIighBVyqAK8vO1dRZzNmOWrvhmFl2TvrqX0XHLBrIk31B3x8zFJu5rGBvW\n",
       "WKLW0nz1GVER+c8LNJt2wTGB4UBJAHqNYAArIQAAATZBmiRsQX/+2qZYABburJzvTSwqlVn2TuYA\n",
       "gOsh6vx4SYY5tk5z/+okHZg0ymry3xEjutNy2/7lnERGTFzJm57425PckfJUgrkGhWq4F5bE2ukP\n",
       "bt3bjukrPueL1krGTqqeWH0IqXMw8G/bAf55jhEUMv8LYbEzy6zsr3BEo7eABR2uRkwGZxE0j6XI\n",
       "f5hJKxjGXN7OVWBRgn9nJ3WRclq4dUOvGXdFkL4u7L+psMGvSdfHBOMI8SXkGesL1kF8hN6vAoYR\n",
       "IR5mHSNOFFx/79dRl4ZWwHQLsz8FBodI+0fKUYjnWwSbJZ/VlN0S8huU4ShX92SmXzI2bRzfhWN5\n",
       "8rguC91BxGOKjLw8Af9XdviEMhF+fi2GhJmFQucwSTsob+8gD7KzUubRhfP/N9HAxppEVWuObNcg\n",
       "AAAAvkGeQniCvwAADyPnvR7fQzhAW3GwpQoASNTpy3+tzwGQovDpmbQg9JD8A0Wp3heByN6ZNGMh\n",
       "s3xb4o0LtNjDUea43dszz/Jbm7HwlemzH6YJupQSxN7eIvfFU+/FnzjybH+29riGI5aKDOXIj1uO\n",
       "Qp4j88kdNiBBd1bJCfIW3/Z9oYVF2Ikubps3eZ9GsdD4/ISv9i8LuXaaOS7kGJRSFpKJ1YncTaIf\n",
       "EUhXlc2b+hFIsA2/2VsQqhtBC44R98EAAAB0AZ5hdEFPAAAe/WuSfv+Pn+RgYeLshP4ABZdHD0tN\n",
       "C9f6I6tEJ9WhoCSjQZbpDCih+5MhIOf0o+8mF6yczpZnm/CecdXVa8+brVuX0PUwdGOlNSMbpKiF\n",
       "/JJJk+JKZnWW6kdq5HaDKdBvMQRhDclu0vo3EIAAAAB3AZ5jakFPAAAetrHTb0uvdWZmIAV6vZ5/\n",
       "epR2nJahzI/+QhQSkUj8tPLCvincwmgx7IVJv1UUsi24CD9fPzcCV8Wueopid4nLWJRN7EvU7zhw\n",
       "rOPW6oH5yudvx72tsXtkf38oEmwmDq4Eo+CZVLxyWArYzdbj4gMAAAExQZpoSahBaJlMCC///tqm\n",
       "WAAW4wulSCveHiEXXZFQ8D6/3NAEtZeXEOSxYRdAsG9lXWheWIUzn0+Z3RAnxUdv4XsdsjERtUpc\n",
       "PfmLxjjjycOlKboi3dWkAvlhAsSqHtN83pHDd8FyKBTukqXY9SJLWz0IAY5hKM0opZHJPH851pYS\n",
       "Uc6rj6X/9I0YjpZT6F/pS6lTGzfeP0j8X5qazh2PbdANE50clSUEvPIfhbIG/inOi1OxTmv9xXFf\n",
       "g1Xwgko/4VADngYqSK0qHOslIHNHTVychF3rEt8/FYFti5TvCn342pQI4uAO+seEqdKqV2810SBh\n",
       "YsoJKsDtjTYaqLg+mJcTM3/WKaf9u0LFt/ZHBY9VJ/5ViMkHRWHPcqR0Vjr0UQolB9sXoCvUDZoc\n",
       "CSxwtqEAAAC7QZ6GRREsFf8AAA8k5PS14qxMwpmWS5eUIAcHm9BFQd3Tzzt6946plwqXlUr/7dX/\n",
       "Rj6Kuj5Sb98nN0WzHb0P2drgSwL4rSGncFFdPHp0RXpP4UC6PCv+pWBVdwAQ3Qsa5b+aA339fWK8\n",
       "YmFrG4liknGWryeivCjaGPoEHM/cRGBL87i70BWmG4g7SlQs9tE58KKIyFSv7DV0wLkVqd1jvuK+\n",
       "QTUofao5Wv3KeYYdvjotB4i4/FkKJUVd2QAAAHoBnqV0QU8AAB776eSTMKQAXSOgGgAFm+G9IrnD\n",
       "1Jbc8mTnMJcYWQXGyCD0rMiy3M9zMcz0V5NBtH+GCNt/LPW9Z+Fm9onvSZ94C1OUeKiwD2Od166U\n",
       "B0MiYfzkA/h7E/bw4+Ahj890zSBVTY+XIkJNJiKgQOro2SfW0wAAAIwBnqdqQU8AAB77/Swxt3W9\n",
       "D/vw3M/dXHAAFm+G5MUKKZ6+yPCwI9e0+333UjjQaH86TZlnF3hE8sqdmLjemoX8YYOejWJ3dtOm\n",
       "3ZKs4MKSRc5IVmUEYBIbCUaR9RNTVzQVkbb3XMRzsHBSQt1h+ixiEFyZPurPV5ro/ZBZlkfX7YL2\n",
       "OcrMsfc8pX5qsAAAAN5BmqxJqEFsmUwIL//+2qZYABbhd4e1Sf/Htx45QBDb40T0l/Zm7Bt/4dH+\n",
       "K9ZCMcHjvqlP1O2cMWv/YNxbG60AdzruxloVAx+lJsTlP2UFA1tJzO8+m8lLysP9pEEYMQEU3RDJ\n",
       "2j0E4sdkEAq0f03y7nYoIiXu82dkv5agFcuwDRqQoe1dsr589gFJqE2Q0E2Hr2izJsy2mH16z1O3\n",
       "9gaYN3BT/bPGqlEpAhmQUhKzUkE+OO9u+Erfaj5ZWZ/dpDO36ufh73shSk3hb9aQy9HJhOcHKxqd\n",
       "fubx5MFG1ggAAACYQZ7KRRUsFf8AAA8k7qjbvpmBixkt8AA1uZE0pXdp5959ntxol2X3FT9FOk0y\n",
       "IYhIPocEc0CAE7PFf8k5vB/he8NsF+m/tnISGhXvAtVlzqv8sP/c5pC2dcabtYdu89WeQi+dCN/z\n",
       "RHvQGZ4bkCp6TiQsXN1V3WevLFUDcrbFXBbhoP1y6PdLGi+V257b5whguQhzV1LcSC0AAACoAZ7p\n",
       "dEFPAAAe/VfxPbBdVcyviNrACxqPWLmjdxrF4v5SwD65XucNXe/hUy5eYMD5HucQ3XlD1NLf23xP\n",
       "zKuA0RYt7JD/z6EL1KgneNJI7sUGKV7EOPGnCiapk7g8omrTQogO0GcyIIu56Izj7aDKae+YbQ8H\n",
       "S4wkgwWG1bK4WtBNB2/uEOcdzmR2kZ1cp5ngGwGy2eXUdgjJAS6DKIGzJ3l4Po//5TqYAAAAowGe\n",
       "62pBTwAAHv2vRsEWHSQi20Q74xeMDAALqEFrRhv/r+sOMWJzFrowep+0grzTWT2/JDydsebW9AKW\n",
       "YmIbQhqA1vs3zJHSZ1wNHFWldZ8BtHM+V7LWD5mmPRM1pr57mp/ri0fRh62R2WjY587KC+RrYXc5\n",
       "qCpcTo7tQHb0QJBTk0R4HU1QHRcF4cfqza+Sai10AVVV6gA2RVMDTHW4twcNIKsAAAB+QZrwSahB\n",
       "bJlMCC///tqmWAAW4uUzdqaWLtL65EANOchQg9bjDDqPwfJQOjXqGU3KDCTXriMre6iro9Eb6qkb\n",
       "m43WtIh4nZsY2XKI1eGzQ2wwVrWAXk+EKrOPlJ4iSsoThVRxUqtHNb7xnKBP+oP3pycdXn7w+v2k\n",
       "PR1TgTVPAAAAu0GfDkUVLBX/AAAPJOsUX+jHHNZq+lMAAtr79qAyujVKGbyKGqsJ4oth4tiXoQIs\n",
       "QRg7X/1qnlIsxev/Fo5xM3/rPMyn2gFH5Tg73u+RSUU047rmmvsGptHDL91Q7phHCv7FixDdw+1k\n",
       "aHzBovRABkgGFK+QKd8un1eAngrbXKxZRLWNQRXgI8Y8+2aRoIhGNpZruzvlsq4LbK1JHBfqiopK\n",
       "FviiQprE6IGpGjzp8lz1xX3PXtL5McNIKsEAAAB/AZ8tdEFPAAAe/ZKHxWcr6C4AFvZOXNnukpJK\n",
       "2/xFhKdyBTJpOkNeDFctYPlHG1jfds9vIEvhgQd4Zx6Nd+ebDCGqaBRS5cCYPm+Q66TZoUEe2yvJ\n",
       "uQBwF6e8LfAiBvfT+X6CGV3fPwf/T3EesWWZpPdaWu9CkWFrPFJC5kKkgQAAAIkBny9qQU8AAB79\n",
       "YHyXVCoh+ERccAAW1YU4HQmp/d2csr7EsPPYo+nI1ybIt3PZhe6oI7fPz/4PWuxv5Ah7a0AJGj9h\n",
       "G+8jFPaThCbR0ZkKf6/4eeKb2w1EeCMV0BXiV/C3uaRABzuzszGjY8t87lDOsNWP2+NM46ZydM8z\n",
       "RqC6pvQj4zlraqxVgAAAANhBmzRJqEFsmUwIL//+2qZYABbhR/4ZKiBWGFFjggAN0adPR89Rxmnp\n",
       "Es3w1F+S8YcI0tuKnik56CZvVUNce2AmYINKr13DNV5XYXRBH8AxE1U80XdU1v86cucotE13cTKu\n",
       "a/dD+J+NdlMJRwBapsfh9ppkyq+2hkPskbXxz2PefwSCqvEArRHk5OsQskKJBRr70dCdVQRah3iM\n",
       "1oDZUxzd7hx/sIQkkEAFECppNi3X8L6TRmqBN9lZVlskwOVzjTY7RUTUuZyT3l+/Ovvg5KbeoAvS\n",
       "47ZKBZoAAAC3QZ9SRRUsFf8AAA8lUbyoIdyVbxKAgBaZ4mW8jifIYVhFWZI1On504sYAvYULvwAE\n",
       "17RYHJpk78HaBv1gGld7BFD0Al8ybiyXHE/HsTe0XEkxXQIlNC8IRvPGIDMMp8CiKcVtdqX17kEx\n",
       "NaTImb5ykXuoaGDsGpSY3tVpfSxHraibMyZFy7BdWEw9TerYeV3Vm63E0kAezxVq3lEIiSC29ZJF\n",
       "hUGLxAVz6Nm/sEu/zZ03zgft99QDAAAAfQGfcXRBTwAAHv1rkn7/qia8xznVpdABtegj74mrTQqa\n",
       "qKTo3q+9AasSdlQ/2ZbH9eVvSxn1nFgyno16TBwLUPiX9Na0c9ywfuwluBGlglTuzrloDXR9EqoE\n",
       "GdOt8H8wCPMkdrR0dUXjgsQr6u5KrROGv/FdLxWD0j3xXb2WAAAAPQGfc2pBTwAAHv1knltpT+tr\n",
       "qffER5DTl/P78c5AAId2LvWurjhcyGzofmrltiadasHlp9qIY8uIZj9v8BAAAAD1QZt2SahBbJlM\n",
       "FEwX//7aplgAFuF8+ZCfZH2FtMv+QAWt51wgg/iRBi8iKgluOSxtX+a53hQHj2rg1BreQL/61jrH\n",
       "8tZZEU4BbHu6wa0wv2VhcSa5/zl+aCPxUX/CRBmr0olLULt4i5MdouWxpyLT9uqP5i5csXqzZz4K\n",
       "xElAD6ucIzLrZjsUqm0xGV5AAK6v28k333qMzAYkxv6B+HPGXrQ9OUbMFvpkcT3Ai9Obq6ts/fJL\n",
       "2TOuM69e2xeOOfI4JKcgXMFNTIrCqHXK2nva2LLFWvvbFetmI0bOwcoSRQmYWkkUoaVWCkbNvk1R\n",
       "y2cICe8tv8EAAABmAZ+VakFPAAAe+/0rvR9ZrWzCACPXJoxE73g2mqFcfVjcIdoKT3FpiXQ11qfY\n",
       "0dEaUMi3zB1A2/fO0u0apj2onSSxGGQsQppzuzEwQON7Zjvedf11t0XfQDpFRCddRdxCZlL/u7jY\n",
       "AAAA2kGbmknhClJlMCC3//7WpVAAFv/euVc9iDRl9LZsF/AvzuayY7z2D7JDSgfdr6VTcJeYJLeT\n",
       "ajCQI7Du0yrW7MUn/PdFtwUR+aRJyojolH4v8lVngXAa5GK5VEf4TvvqZfXmALvREvqgf9iD9QLI\n",
       "Oi+OYDez+2Dr4OIdhSajAhcP2MiQiOdwy7A8m3Oarb0T7+Q3b5cmcIFFlKeD3AAJLau3aWyOxE5o\n",
       "/fbNVapJXsv2roVkuzIQQWlI/P+OHsxn6dJsQLOcBMx17/uoBqk8BgRxS49VQsACELf5AAAAWEGf\n",
       "uEU0TBX/AAAPJaRKNKyo53C3naksABbMjL5pD4bbT5g8MkQJenOaiKuGVmEdJkvHIx4TciuKgIhT\n",
       "bHG1vK2dfefK0Mz2mRk1wiiKBlJum8Ln+LdODNsAAABqAZ/XdEFPAAAe+/OhUAO6J0AcCc7AnQre\n",
       "Y++Uaq/nvJxZgsS66nYwQOmIS7IW3ArhH+JGY4bsESc55xuYIFnHvG4M4becLUrzRaIHzANACJDx\n",
       "nQ/e/qrdN581SOTaWBIiuXYRruKS/4C4IAAAAJoBn9lqQU8AAB774pq/LtwDin0PEALRPrBu0Pi1\n",
       "BU7xBLmh9OiG3XTi2HLHcKoInXv5VBC1Hp8r1cCAI1cJ3GQ/lIpkLYQDVuBa0jsIttha73e/xNKE\n",
       "FSoCF5IurN9BRGRqoKvuN99+5VARdquhK9M8vQCwCVXh7Yrx3XCkR7+nrCnx4GjaFVgUFx7fGB25\n",
       "Q6bdYyPBGSwlUzBBAAAAj0Gb3UmoQWiZTAgp//7WjLAALdjlXyRBRrFd9E/u34ABb9g450wCsvNw\n",
       "T00RTjHeh62nUXhGzkEIddrgn1Sp7A+wR+HUGw5E86Y/OiMXOX4oM6Yn9XleHnDZ363xDO9M7G0x\n",
       "AujZn6yb4IgIybzlSJoiqxJdSb2wYVLNiUoWUzrePEuWNTzxFq91yBY/Cy1AAAAAZ0Gf+0URLBX/\n",
       "AAAPJaDVCn5GlJvh+lXPu/lRRAAaplLZpX2gLyL3ms9wGuvQ0hl+vwWbKfQTdF9h45Ra2l5S8/96\n",
       "1qHvQ9wJoXijw2AbOPnbg+UfDQqRpHbOWH632JNpBcvYEcELqBEAAABkAZ4cakFPAAAe++Jz/xOm\n",
       "zkdDe2VwAAFq/Rw2hJA59Z7oj9QauSJm/BzqiagjwTtyi/dERg0WgAryyAnOt8v305Weprid+IHG\n",
       "nwtvRmk1Fqf+5q3xbSSOkUevs2kZwywsYIVRgQAABI5tb292AAAAbG12aGQAAAAAAAAAAAAAAAAA\n",
       "AAPoAABdwAABAAABAAAAAAAAAAAAAAAAAQAAAAAAAAAAAAAAAAAAAAEAAAAAAAAAAAAAAAAAAEAA\n",
       "AAAAAAAAAAAAAAAAAAAAAAAAAAAAAAAAAAAAAAACAAADuHRyYWsAAABcdGtoZAAAAAMAAAAAAAAA\n",
       "AAAAAAEAAAAAAABdwAAAAAAAAAAAAAAAAAAAAAAAAQAAAAAAAAAAAAAAAAAAAAEAAAAAAAAAAAAA\n",
       "AAAAAEAAAAABsAAAASAAAAAAACRlZHRzAAAAHGVsc3QAAAAAAAAAAQAAXcAAAEAAAAEAAAAAAzBt\n",
       "ZGlhAAAAIG1kaGQAAAAAAAAAAAAAAAAAACgAAAPAAFXEAAAAAAAtaGRscgAAAAAAAAAAdmlkZQAA\n",
       "AAAAAAAAAAAAAFZpZGVvSGFuZGxlcgAAAALbbWluZgAAABR2bWhkAAAAAQAAAAAAAAAAAAAAJGRp\n",
       "bmYAAAAcZHJlZgAAAAAAAAABAAAADHVybCAAAAABAAACm3N0YmwAAACzc3RzZAAAAAAAAAABAAAA\n",
       "o2F2YzEAAAAAAAAAAQAAAAAAAAAAAAAAAAAAAAABsAEgAEgAAABIAAAAAAAAAAEAAAAAAAAAAAAA\n",
       "AAAAAAAAAAAAAAAAAAAAAAAAAAAAAAAY//8AAAAxYXZjQwFkABX/4QAYZ2QAFazZQbCWhAAAAwAQ\n",
       "AAADACg8WLZYAQAGaOvjyyLAAAAAHHV1aWRraEDyXyRPxbo5pRvPAyPzAAAAAAAAABhzdHRzAAAA\n",
       "AAAAAAEAAAAeAAAgAAAAABRzdHNzAAAAAAAAAAEAAAABAAAA+GN0dHMAAAAAAAAAHQAAAAEAAEAA\n",
       "AAAAAQAAoAAAAAABAABAAAAAAAEAAAAAAAAAAQAAIAAAAAABAACgAAAAAAEAAEAAAAAAAQAAAAAA\n",
       "AAABAAAgAAAAAAEAAKAAAAAAAQAAQAAAAAABAAAAAAAAAAEAACAAAAAAAQAAoAAAAAABAABAAAAA\n",
       "AAEAAAAAAAAAAQAAIAAAAAABAACgAAAAAAEAAEAAAAAAAQAAAAAAAAABAAAgAAAAAAEAAGAAAAAA\n",
       "AQAAIAAAAAABAACgAAAAAAEAAEAAAAAAAQAAAAAAAAABAAAgAAAAAAEAAIAAAAAAAgAAIAAAAAAc\n",
       "c3RzYwAAAAAAAAABAAAAAQAAAB4AAAABAAAAjHN0c3oAAAAAAAAAAAAAAB4AAAf0AAABOgAAAMIA\n",
       "AAB4AAAAewAAATUAAAC/AAAAfgAAAJAAAADiAAAAnAAAAKwAAACnAAAAggAAAL8AAACDAAAAjQAA\n",
       "ANwAAAC7AAAAgQAAAEEAAAD5AAAAagAAAN4AAABcAAAAbgAAAJ4AAACTAAAAawAAAGgAAAAUc3Rj\n",
       "bwAAAAAAAAABAAAALAAAAGJ1ZHRhAAAAWm1ldGEAAAAAAAAAIWhkbHIAAAAAAAAAAG1kaXJhcHBs\n",
       "AAAAAAAAAAAAAAAALWlsc3QAAAAlqXRvbwAAAB1kYXRhAAAAAQAAAABMYXZmNTguMjkuMTAw\n",
       "\">\n",
       "  Your browser does not support the video tag.\n",
       "</video>"
      ],
      "text/plain": [
       "<IPython.core.display.HTML object>"
      ]
     },
     "execution_count": 12,
     "metadata": {},
     "output_type": "execute_result"
    }
   ],
   "source": [
    "experiment = animation.ArtistAnimation(fig, episode_images, interval=800, repeat=3000, blit=True)\n",
    "HTML(experiment.to_html5_video())"
   ]
  }
 ],
 "metadata": {
  "kernelspec": {
   "display_name": "Python 3 (ipykernel)",
   "language": "python",
   "name": "python3"
  },
  "language_info": {
   "codemirror_mode": {
    "name": "ipython",
    "version": 3
   },
   "file_extension": ".py",
   "mimetype": "text/x-python",
   "name": "python",
   "nbconvert_exporter": "python",
   "pygments_lexer": "ipython3",
   "version": "3.8.10"
  }
 },
 "nbformat": 4,
 "nbformat_minor": 5
}
