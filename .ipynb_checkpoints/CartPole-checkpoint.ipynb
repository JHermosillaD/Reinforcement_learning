{
 "cells": [
  {
   "cell_type": "markdown",
   "id": "256f5064-b169-4fd8-996a-a48a72b257bd",
   "metadata": {},
   "source": [
    "# CartPole environment"
   ]
  },
  {
   "cell_type": "code",
   "execution_count": 7,
   "id": "04de78ea-a768-4fea-b295-338c3cdcbe13",
   "metadata": {},
   "outputs": [],
   "source": [
    "from IPython.display import HTML\n",
    "from matplotlib import animation\n",
    "import matplotlib.pyplot as plt\n",
    "import numpy as np\n",
    "import latexify\n",
    "import math\n",
    "import gym"
   ]
  },
  {
   "cell_type": "code",
   "execution_count": 8,
   "id": "af7dcbb7-723a-4ce4-a249-c873f01acf6d",
   "metadata": {},
   "outputs": [
    {
     "name": "stdout",
     "output_type": "stream",
     "text": [
      "Observation space:  [-4.80e+00 -3.40e+38 -4.19e-01 -3.40e+38 4.80e+00 3.40e+38 4.19e-01\n",
      " 3.40e+38] \n",
      "Action space: 2\n"
     ]
    }
   ],
   "source": [
    "env = gym.make(\"CartPole-v1\", render_mode='rgb_array')\n",
    "np.set_printoptions(formatter={'float': '{:0.2e}'.format})\n",
    "print('Observation space: ', np.hstack([env.observation_space.low, env.observation_space.high]), '\\nAction space:', env.action_space.n)"
   ]
  },
  {
   "cell_type": "code",
   "execution_count": 9,
   "id": "f265396f-8c88-4a53-acdd-99eaa1f51dec",
   "metadata": {},
   "outputs": [],
   "source": [
    "episode_returns = [] \n",
    "time_steps = 30\n",
    "episodes = 30\n",
    "env.reset()\n",
    "episode_images = []"
   ]
  },
  {
   "cell_type": "code",
   "execution_count": 10,
   "id": "43ad03a8-cfb7-4504-8c1f-953057a48e06",
   "metadata": {},
   "outputs": [
    {
     "data": {
      "text/latex": [
       "$$ \\displaystyle \\mathrm{policy}(s2, s3) \\triangleq \\left\\{ \\begin{array}{ll} 0, & \\mathrm{if} \\ s2 + \\frac{s3}{3}<0 \\\\ 1, & \\mathrm{otherwise} \\end{array} \\right. $$"
      ],
      "text/plain": [
       "<latexify.core.with_latex.<locals>._LatexifiedFunction at 0x7f8649c51700>"
      ]
     },
     "execution_count": 10,
     "metadata": {},
     "output_type": "execute_result"
    }
   ],
   "source": [
    "@latexify.with_latex\n",
    "def policy(s2, s3):\n",
    "  if (s2 + s3/3) < 0:\n",
    "    return 0\n",
    "  else:\n",
    "    return 1  \n",
    "\n",
    "policy"
   ]
  },
  {
   "cell_type": "code",
   "execution_count": 11,
   "id": "490ebc11-a02d-4350-93f9-ddefa58f9bb3",
   "metadata": {},
   "outputs": [
    {
     "data": {
      "text/plain": [
       "<bound method Wrapper.close of <TimeLimit<OrderEnforcing<PassiveEnvChecker<CartPoleEnv<CartPole-v1>>>>>>"
      ]
     },
     "execution_count": 11,
     "metadata": {},
     "output_type": "execute_result"
    },
    {
     "data": {
      "image/png": "[encoded data removed]",
      "text/plain": [
       "<Figure size 432x288 with 1 Axes>"
      ]
     },
     "metadata": {
      "needs_background": "light"
     },
     "output_type": "display_data"
    }
   ],
   "source": [
    "fig, ax = plt.subplots()\n",
    "ax.axis('off')\n",
    "ax.set_title('CartPole model')\n",
    "\n",
    "for n_episode in range(episodes):\n",
    "  observation = env.reset()[0]\n",
    "  n_img = ax.imshow(env.render(), animated=True)\n",
    "  for n_time_step in range(time_steps):\n",
    "    pos = observation[0]\n",
    "    v = observation[1]\n",
    "    angle = observation[2]\n",
    "    angle_v = observation[3]\n",
    "    action = policy(angle, angle_v)\n",
    "    observation, reward, done, _, _, = env.step(action)\n",
    "    if done:\n",
    "      print(\"Episode Number\", n_episode, \"Timesteps\", n_time_step)\n",
    "      break\n",
    "  episode_returns.append(n_time_step)\n",
    "  episode_images.append([n_img])\n",
    "env.close"
   ]
  },
  {
   "cell_type": "code",
   "execution_count": 12,
   "id": "8eeb0018-6542-48f2-bd77-f4f940f514be",
   "metadata": {},
   "outputs": [
    {
     "data": {
      "text/html": [
       "<video width=\"432\" height=\"288\" controls autoplay loop>\n",
       "  <source type=\"video/mp4\" src=\"data:video/mp4;base64,AAAAHGZ0eXBNNFYgAAACAGlzb21pc28yYXZjMQAAAAhmcmVlAAAbOm1kYXQAAAKtBgX//6ncRem9\n",
       "5tlIt5Ys2CDZI+7veDI2NCAtIGNvcmUgMTU1IHIyOTE3IDBhODRkOTggLSBILjI2NC9NUEVHLTQg\n",
       "QVZDIGNvZGVjIC0gQ29weWxlZnQgMjAwMy0yMDE4IC0gaHR0cDovL3d3dy52aWRlb2xhbi5vcmcv\n",
       "eDI2NC5odG1sIC0gb3B0aW9uczogY2FiYWM9MSByZWY9MyBkZWJsb2NrPTE6MDowIGFuYWx5c2U9\n",
       "MHgzOjB4MTEzIG1lPWhleCBzdWJtZT03IHBzeT0xIHBzeV9yZD0xLjAwOjAuMDAgbWl4ZWRfcmVm\n",
       "PTEgbWVfcmFuZ2U9MTYgY2hyb21hX21lPTEgdHJlbGxpcz0xIDh4OGRjdD0xIGNxbT0wIGRlYWR6\n",
       "b25lPTIxLDExIGZhc3RfcHNraXA9MSBjaHJvbWFfcXBfb2Zmc2V0PS0yIHRocmVhZHM9OSBsb29r\n",
       "YWhlYWRfdGhyZWFkcz0xIHNsaWNlZF90aHJlYWRzPTAgbnI9MCBkZWNpbWF0ZT0xIGludGVybGFj\n",
       "ZWQ9MCBibHVyYXlfY29tcGF0PTAgY29uc3RyYWluZWRfaW50cmE9MCBiZnJhbWVzPTMgYl9weXJh\n",
       "bWlkPTIgYl9hZGFwdD0xIGJfYmlhcz0wIGRpcmVjdD0xIHdlaWdodGI9MSBvcGVuX2dvcD0wIHdl\n",
       "aWdodHA9MiBrZXlpbnQ9MjUwIGtleWludF9taW49MSBzY2VuZWN1dD00MCBpbnRyYV9yZWZyZXNo\n",
       "PTAgcmNfbG9va2FoZWFkPTQwIHJjPWNyZiBtYnRyZWU9MSBjcmY9MjMuMCBxY29tcD0wLjYwIHFw\n",
       "bWluPTAgcXBtYXg9NjkgcXBzdGVwPTQgaXBfcmF0aW89MS40MCBhcT0xOjEuMDAAgAAABSVliIQA\n",
       "F//+99S3zLLtU2+2C6j3op4mX0N1JQGblsTtOoAAAAMABnddzdfZ7UGcN2ChIwBTDmAIrWkT1bYt\n",
       "8So5aHvMXU+95d3yynSTDYk5HYJBh+E4vsklCJuOQTPFi4ODXvuvkFnbznp3opG0aUaNWJjwQpci\n",
       "i2n1u02sdI/rhjiaMBbdVUARnGK9ate/tbUMtxIah5lG9YKTIGVSO370MV5sPBpVlxjwgcyRu6+h\n",
       "NO3lh10pO8zWnntjSi2myPI2OfgqNSCeZxAT1s5efkUm74zpVAlZnOcoXKoIO5ybr7FFpSI7Vuzi\n",
       "hzzdVKM5GYx7FZeVK3if976WqRC/niNnFSU0Jyoozaf5bTj5jJXtRdNRlvh7ihfihiMNs2f7GPcP\n",
       "upLImPZ5E0vX9AuAxF02EmQFEECudgOTrs7se83Dso3y51kIYe23A+G+dr3TwmTOrXq+T49o1P4M\n",
       "KC0LfLyUZuVnaIr2T2uQ5ltyoL6ZDnFoZHKil/5yZAm8UKDiiOAKKXtPVoDAsww1vz1pQ82OwIo4\n",
       "SOcBEMMlCWYB4LTHholIJq5eFcp07NZB1GVlt3cHwnebxi0iR0zTCGFeC7VFxPxeJKGwKWzjZ8Ng\n",
       "Pim0Hb0mIgYUOn4vVSj2jhLg2kekoCBikeTInF7ergWay7O1VeIJeXm7F1S4E/IJHj3tqtaPquFv\n",
       "Aa1YmeTBZe6nlndn88tSFYMo/GjbrtaxXLDh20pBjXqxaG9VrR91JJc8tVV2hLQO2WO2Uy/okuE0\n",
       "ljban+u0giI7TPYh5zrtgP9SIenNLTxAuyOi7J7gD2H53+uvslaTvTYQzXkIlhZkTCWEaKOEqlRh\n",
       "uQff8Um1Xuh3COsb1IrdTWZ62Z2nr2Lgs86xeK8Dr0VOp42lilv+barE90cLLwblouv4Gjp4VwCp\n",
       "KRVdawugpvoW3FO40XihlZqqI3JL2QthjpRaj1Wl2WytJUZ1ZiJIQNEpsq19Mh6MpJjKPTZURDVn\n",
       "j+huCG3rEv6uXM1PRU35haORfgGCHivMhOnqvaJk37118aQdxvLMYJBT5DrZNF4oaISqiCErnqzX\n",
       "UuL3aBJa/qUgjMlqADwgArlUCZwUgBqF5brICB61LhYnXXz3RBn4/OepLr915yJWgyZO0lm9RQmu\n",
       "rQRStXeE2roXitccsFiVnlZ/NjLMadQEmLoFMxdQ1eT3fpQdkc6vOzCMzN8yGf/aLX5EFzdbZMHM\n",
       "ih4ovAS1UvnRMcYuU8L6kYOSxgd7j3T6xKI7QlyLQA0zzH+IvM9WGxd+uH8lvaWAlbFLorPWhAlQ\n",
       "K5hPjZ5MB/XECbfq5lQBNNXnqjHQXI2dG3b+tponLByK8TTxDGkPMgwgWtKbLkJGHzkgTxfX+uD/\n",
       "pZXckGM2lSKaw1/SJvpiyfHLu07zVMBb+Ohw8Dr1I3YfT8kzASjodADNxlP1sPVhI+ECKPdXGHLi\n",
       "utvqa5dwMAadS59yzkID5HnYk834+HGx69iHmQYek4bAHEYP59eW0yhTSHRQcFWH5H1jyv9px8tE\n",
       "U1ClRfAHsgsvn3uU73D5FC3jAWisncYzsvj4neOYzSuw3PDfne8Egvwgg4iqRnJPjpENmDFUN2st\n",
       "QTqYkpSfk/yY1kBpU0SDocRkNYh80nPVnadkQtMNwbwmYykh/Y7O85LpaSBZpQ/vZMS0q4jXZe3q\n",
       "xqBwP54wP3Ca/n4+02mzqJoItEptvMFCDcs3zsVnsAQBz2y3/hi2WMfGqdJtUWKRUEoeAXgAAAMA\n",
       "PaEAAADmQZojbEF//tqmWAAW4kevDHSlXIhwwbogALSxTyAI4sriHUFTw4Cmnq1OCS9gY4bXBujD\n",
       "PqvCu7ynd8nGlNs3TivqP+4aJCvleCaP9CnBFOq63FzlmHy/bx5aWTnijKSCT0jcymgMNLLxb/8E\n",
       "ZyBd+evUFsdXt4ODDD4UqR1S8nrk/grvih1ED/Ma1o0JveFB1xu8j9m6QkcsWTBGg5hfvSl8AoqP\n",
       "DnziYOFh79ZKdgUH8oNbN23cKTEa/+4AmbbmsOYaX/SWVpDttk52s0bhSSOTqOBZT4lLD+GRebdD\n",
       "DD7StyT4vcAAAACpQZ5BeIK/AAAPJXtl7Mbpmh9yyADgltOf0RlJ9g1Vj4cpJmP+V6R1qEmZLo73\n",
       "jfwBuwWRi+LPrjVgqFyWS0fz5wJ3H5h/TmGtS9M7uUOU8US0qDFaDVbxti9JiWYALc6S2Qj9JABw\n",
       "AjMDnY0XQ4HfT8QTi/6MjNnWRaEZTcmvc9Vfkc9W9qetnY1I1jCdRNCHnB2GR8Djz3Jg2QT23ZlA\n",
       "4GMCV8RtalmbwQAAAL4BnmJqQU8AAB79s9OhdLs6EFyMAC2L8oTXB8HKSmz16KVmc1yAAaPgpCaV\n",
       "L78jBIHWRxfuF8FJbBsazz+xT9FAV45nY1MCimi+nQlsYKwvMGJJvRLD/mXsYiTcxmdiYCFwMm+7\n",
       "jT2M998g+i0Nf6ERkWacJMHE3nQgmtU29s+ZS6KyK4bnJPCtf9ueIkRplwtgnIVlPv6l2g6yIZjk\n",
       "LEaKRHzSJLAtWazOHBtzABkYkNmRw9JDUv827s9q4FSAAAABCkGaZ0moQWiZTAgv//7aplgAFvFp\n",
       "dRLO1hz/coWceQAFjWUD20bH5FIatbAALzFA1M/7CEsVgBOpjjABNX4DLxwJquTNfWyC7zkFpUwK\n",
       "zymTnF+sBUsuxT87HEMV4YvzCN6FUp8Ix54n+zKKrtZ/zC1AOmr721xyIhIjLhqGq8x0e9S6a9Nx\n",
       "oRSo18ViutKrA6msY226pzr+Ro+iGJUjFXb0XHdRGYT9dCDj6Rd8Fy0QRuSWmZy+tRUZ0/g7P+jH\n",
       "YNAR4ToCJdE590o8ksXget5t7yNrr/6b34u3+75qFzIFyENooNvU1QxxKJd9QECk3ug32BTjVsCH\n",
       "3WitB9KYJfsnb8f8KHy6UzRRAAAAfEGehUURLBX/AAAPJOSxinBdV51vQAfmeJLiGHRx3oey/N4z\n",
       "U3LB1DIBSwnHvveay4bq7750W6CgaU+et+CXsedziWkRfM/inRCSLXYdxEbro/L04FyXG5KsijGA\n",
       "xPRClmtEzAo/KaoK0qW9X2lNqxkk8XL7m+9qCAmXv6sAAACkAZ6kdEFPAAAewcep7MduORcO+cKA\n",
       "NiwbOMEBfsSXxVjdgwcjTSjSsrHqIWa9HGiegQdVp3vF7LE9llT3gyT4TLzzEdST1kHMc0KC6a/0\n",
       "7JCY8gMpqxSsiuXYZwRrhIGsSyZXkmS7fOQ9WZQFgIVxCnv8xLTCHDkpX1lIZbSCd8oEkFM+0fpU\n",
       "ND8hS5dZePlvwmVg1R7Z5g5p9AapbbMP29kgVIEAAABnAZ6makFPAAAe+9nZ6fsq3N0I+eoASp3N\n",
       "k9Cy6pMwAg/Qy8lr4V/gmNSVw5OjDj0zq3ktOpWXZDrwyPlsimh40xC/hAPb1V6cououaQkbgTB1\n",
       "WD0z9cFBB8xZ4lQzoV1prxHflWf22QAAAONBmqtJqEFsmUwIL//+2qZYABb/3tR9zueYFjDE2QKW\n",
       "FNYfn0eqn7ZT2hxbyoBxsvTIavhEH5VWXypA0t4rktzxH5fSVLC8cl7sLPP14e7Cqjk9pqet/0YR\n",
       "fleVna4ohH8zslFf9GGDl8GHQVQOGSs2tHZ9JvKjeqQcOtx2olHAbpoQesP9AsfeFYoTYTV+qRwi\n",
       "F+OUrOID1BQZLouOB3eRKB79kCrt995VbQq5mzxVvf9UAQq9asARsCRschHjmwyejkpfss1AssG1\n",
       "aplhc/T1sItUNUOtZg9q3faVrzgbfx6UDQAAAF5BnslFFSwV/wAADyTh6pLD2slE3k4PxAC27bBf\n",
       "W1zAAi3HtegffLp2/Jpexdlyo07ohtT28SWsVoPrQfM5ySdeZT7WCj/EOOfX+rZdc93S/hkqGOm7\n",
       "Dd5BJY9wMlMpAAAAhAGe6HRBTwAAHv10Rj0394iNqw/ifgAF12ED7CoYYkISk9gG020oCMTwYLJf\n",
       "GEmbM+UFuzkXLXqeaNorn7RDHFMuICUlhbddj9OpUKUbrq1WXng6PT4VP10slNxYaGjUZ1WmcTAT\n",
       "/EGwIFUySokuhiGby6OfVqU/dhpUnHceewMgceLkHQAAAIQBnupqQU8AAB777gcbcHqLs8JQAtlZ\n",
       "Uksb5oLuetJoH8pYB9WOBwf1VZIlvL53egGLZ00+smc7YOrFKSHCg2VCpV5WJVwZu7Lh4F+EqDtC\n",
       "qcjGNj7ewnLL1C6Ps7WwSvDJnz94t5J/uBo7Yxv2QfiuDAGSGzYbosxFVG6FAGYSmhLxAEAAAAEb\n",
       "QZrvSahBbJlMCC///tqmWAAW4LPiF9WofSW9EV+TTKXVgBt81/IkdqJGRwBFJWQIuJyfPp2kda3C\n",
       "ZCQnj+tIWyhR2zGJSK9b3062hmD6ksIr7y75eVBYx0sdWSdFBBQ3utu2HABdi7whhQO4jaFEN7hJ\n",
       "LNj7rd3yurrhXKCP9fcijSwcXWiuB/iOgoMpQfx3z06ybU9n2VzYMn+aVJOc4g8wCvU++xpWWVax\n",
       "5LYj5004XzyN+JR4EfS7eA7lLB3Sjf978dqMf2NRSh7EUv4lVOR0IjHihqVjLRUtHZ4ye4dn6wxz\n",
       "VjPW76829Fv6+BdvKDcIi3zkcLUzETaG8g1twOIWfq3ti7W7ZX9nsRPhhTH7T18ddXJXGi8TSAAA\n",
       "ALNBnw1FFSwV/wAADyWgWCx1A67EUY8Y+xACvqUHmqvuUn9wVTdqb/BiLjcO9HjdYu7p7Wt2pqI4\n",
       "7986k4pVNffjQID44euirCnytEAiAUdFIdo5q0V9LTErQloOFV/NbhV5+WboshhRNmLUArpxLwPW\n",
       "WXFNpvp4WYvzlSzGIaHa0EfhC4oOOuqGHp4D3wSf5MlGv4DiqP3CIWo9jBuMk2DweR2fUQS7wnwF\n",
       "bnwWV/NXEg5JCQAAAH0Bnyx0QU8AAB78bAZLCgbb76Z3/qB/AALJ0NsXIBNU/BIUn/6Hmn8v3aBi\n",
       "7xdhFgqxzM/7K42wNK98buEoKllTCDiOrefkhuzKSNne96n3iZgQkMv+R8MVvYN2rVjXnF7ktEMg\n",
       "V9hev+PWbbbt8r+Er1hejnIPFxdnqd/FuwAAAIsBny5qQU8AAB79tEmhgftdGWoABsZo2BiLCHFT\n",
       "O+3VsebVamnUnM/wQUOxYPqa/0BAcPPcQJQhS+NHdbEIeAFxHnrHiwfZLOAEp/v9XADifSMiULX8\n",
       "JNlg1300SN6Nzg3Xo+BQoslN8s3Pu/R99AtgC4V/NsmosAmj0RriDxBvPUu3U7Y7rTYuic1ZAAAA\n",
       "wEGbM0moQWyZTAgv//7aplgAFuML/5N/tDKG0IAN/ObsVmZgbSBlwIyjMt1ucXephyC9QVGcXRp1\n",
       "nzUbHEPNetChTyky0XIuX76NJSmukjQQ05/7nod47JyoZizD+XbmX/HoYK0pvQkPQxfULtcI0pID\n",
       "ds+FcCYQiYHDjr6ntrSPluWlKWmF/7xyfvjaOkaqRzQIVT5pvfvVqZhN1yz5IPEF5St11GCuiF5S\n",
       "9zBqbLDXG3/s7FPZR/mp9ZHmrxjQYAAAAG9Bn1FFFSwV/wAADyV8tPP6VKQ4O83WgBLLStI5Tlla\n",
       "BS+1/Y7mKafcwrjT+v6EcflkmTaw3/N3L8/e4k17vf8UfO9kGiyfAXPapJVExxw73nHIb3xJ6wCj\n",
       "QQmU0+26TK+W/mh46TOFCBM5TztFAIAAAACRAZ9wdEFPAAAe/GcF6tHses7fgKqOV0gBIfvfqOIx\n",
       "E5pQXRp9z4rpZv208PgJcLmvhYflqD0NmGT5gt1zuJYerk27cDYkAspCjWLgrv6lPk3WI7tJP1i7\n",
       "iD7W3+mIJdg4oNaoYcBQHSRre6cgKTbs/AtNrvPskuU7hgiSnYpnZFLnGofRtighukD42+jLG1Kd\n",
       "FQAAAKcBn3JqQU8AAB79wPlJoqgs67LqcAIwc4k4pWjl7iF+Ajm3EUCmN43o5NS/2bMCXWaS/Qxe\n",
       "MfKfrRSuM8LGVteGiPaRR20WxeQjv/aspAVzhQ1sNdzb91aJbPBtIZQYT7viBli/yDWwaPqR7oP8\n",
       "OmKSRq4wGP3Z4hnAnAXwTdYJ5IzYhvkOxuFkRo4n8hnyvzwgX7dAJF+HlQmaW5ycKdetjR5ZZZHs\n",
       "3gAAAMJBm3dJqEFsmUwIL//+2qZYABbhGejuEvGzJyVOJxg7F8fPI4IX1fbEyNrARpgQI03ltA+U\n",
       "9bLI2/N7D3L6/VH63+UVkEf9qmijjNxJypbvem885dX1BAe+H0V4l2r7xVv7ogzQ9A06BYmg2olQ\n",
       "1Ki+noJfr5QJ+zXcfC2xX00qhPiNTUG7TaaWMLZyfhUu7jzD9WTVeoMmQM06bFE95NT4amfRbw+S\n",
       "5QUBzAU4hOAT0mu5bKCGngL1bFJ4bpaBez/FBgAAAI5Bn5VFFSwV/wAADyTksYX67PBlDRWmAAnE\n",
       "tZlrCIKQHomUTLsh32jeV5y6wXuSMZ7V338RVAw0QX/CVoVwU4QuZDk05Yc6jm8u9gsy5H2V6J1O\n",
       "xtlX+kfyCgt1iNjVC+SJm3+FRCIrhYZS8wVc+77aDn2uS4puX82MM/aiBqPcClotHAWQ7ffUvy34\n",
       "cFJBAAAAuQGftHRBTwAAHvvznpVs/3CFWPEAAtX4jQRcbw8y5fpHgLiETokC3l+D903gaEbhT3Zc\n",
       "Koh0H8MfA7BlJRWAV1KT18gUM7zpVvzqBoYSlKUNIuKLl+inEG3S51+ZKdhQmlr6GFvGdhVJI7Bm\n",
       "t8z1R/Hc15c9G9Ct5mdYv1K4IKW+VtsZ6H1AR42ekAK4EOLaBMt+Lr1uMsLL1D65/WWBd8cdTmeD\n",
       "5PZGIKzXiQqFwXi9qR8El07D3dNTAAAAcgGftmpBTwAAHvvYo+v4bkHoABcsvOS5iah+R0WZSa3F\n",
       "Stax2OoQCqC8QnX+fYHAKi6UGsv/RDf+eD8KAUL+dB2Ya7wfPKOUXTS33C2S/sCYLTAI/QO8PyFk\n",
       "RwfCIXE+uJFk0bVvVoOJmTgYBaYVseoG+QAAANhBm7tJqEFsmUwILf/+1qVQABbirTsHJMzL1Npd\n",
       "ABEwFp0TiqKTCOYnFt67e1Wrmqpy5XQCKPfFVbMDR82CfBuNINoyi1Ycka+as9fd+2/Ks3dtI/r/\n",
       "R2LOahRRxvAglbhWZXisk3mQFnhN+wk3CeEnVRVO/58yd2YPfeGvV0BhXQP3tLa9rZLmJbcQkA3H\n",
       "1oeLwXJXTFJC8hel2Db8LXg/cDUIenedQXjGIMmqfKwbtb1WvnUUBeIJQVPBF120q0B9KxDOlZ2/\n",
       "psYtIsMLtEnK5GyWxONyyb8AAACGQZ/ZRRUsFf8AAA8lpxKYLGd2IlS03RuMQAmCMA9VV44eZvfJ\n",
       "Pa0vS7PkxiLIx9gKxcTgMyB8rFnRmQxd0vhRQnRwHu37H3gX9A/vgmmLQG5sGdcmHOxfti2Z9uRO\n",
       "HFFOvsHCcq3COoyImQiar6iGId/R5dZMIhUzcj3rMOEOu4rzwV/07W0AAACwAZ/4dEFPAAAe+/Ey\n",
       "FDUw4ESQAFWY20ZNQjZNeDSWfE0bfq6kniivoyC3pw14HhjTGvVTvHQTgjYtjVXl7mbadbagK5l/\n",
       "y6743L6BsB9JJxCKLmzUdL4SbpuW7HfD+OomSzs3EJA9i6B1bnp+EpQr4zhVWyce5lMtyt+DvOyh\n",
       "3yezv+MPpu2yE82YWaoL2qxrgWs7zCqYzD/6XPcawtGIaCKsCE1Zp9cuBCeCUSx3UWkAAACyAZ/6\n",
       "akFPAAAe/WB8l1N9cI9U0OAAAtgnUCSXFLjLg0N/BFw+gmoO1WAZNMjN9nbDKWGrU6zIHWiHJWrR\n",
       "CbyGMohJ7Kkh3dBYACkKz9yxm8dcisOdsS7/lvfKNggSJJyYcSjBbnuSCVFVGroMl7m5ICGZyhI3\n",
       "YDQr9vKVoqOFfirF4CKtxtcsuTf6Qzgpb+dTMAPXQRM1PgDDxdkqfvZ2ZLfGP1z0PLkN3aGxnaJK\n",
       "xV+CwAAAAMZBm/xJqEFsmUwIK//+1qVQABbuHnTHxd94ULzzSxABsMxzsxwXjBvbC6TGK1Rxhj5f\n",
       "JPmC6/GNL9aH32p9shhE3gAcBDDrjg9GMxdejaZvti7H/TWV5LZc03X3wBI3RSO+G+Teo7Gc5Cyj\n",
       "ywY1Zuq69V5rsNFlET8kMBYAcuWZYUOWK6jAvMRJjv0ic1Av6OorouF5d/z8+/IIc3QOCs5iaa6J\n",
       "9NfZb7oUyS88IZB2VPZh4XbZZmXTFYYFb7BV2ZV9J7rDQ7kAAAB/QZodSeEKUmUwIKf//taMsAAt\n",
       "xPAHhbyZ2LAAFkr2er3M23lSAk5ncFdEtwvevOXS1V55fgOn+EESoRgYArMl3j4xh0Whc3QIrQG9\n",
       "kOtMbCIjGjT1+lLBuZZ9hfqYsTMNc6FslG2iA4wstudmrT6iEYHuKb0Jfkh8B35hPvFHWwAABIZt\n",
       "b292AAAAbG12aGQAAAAAAAAAAAAAAAAAAAPoAABdwAABAAABAAAAAAAAAAAAAAAAAQAAAAAAAAAA\n",
       "AAAAAAAAAAEAAAAAAAAAAAAAAAAAAEAAAAAAAAAAAAAAAAAAAAAAAAAAAAAAAAAAAAAAAAACAAAD\n",
       "sHRyYWsAAABcdGtoZAAAAAMAAAAAAAAAAAAAAAEAAAAAAABdwAAAAAAAAAAAAAAAAAAAAAAAAQAA\n",
       "AAAAAAAAAAAAAAAAAAEAAAAAAAAAAAAAAAAAAEAAAAABsAAAASAAAAAAACRlZHRzAAAAHGVsc3QA\n",
       "AAAAAAAAAQAAXcAAAEAAAAEAAAAAAyhtZGlhAAAAIG1kaGQAAAAAAAAAAAAAAAAAACgAAAPAAFXE\n",
       "AAAAAAAtaGRscgAAAAAAAAAAdmlkZQAAAAAAAAAAAAAAAFZpZGVvSGFuZGxlcgAAAALTbWluZgAA\n",
       "ABR2bWhkAAAAAQAAAAAAAAAAAAAAJGRpbmYAAAAcZHJlZgAAAAAAAAABAAAADHVybCAAAAABAAAC\n",
       "k3N0YmwAAACzc3RzZAAAAAAAAAABAAAAo2F2YzEAAAAAAAAAAQAAAAAAAAAAAAAAAAAAAAABsAEg\n",
       "AEgAAABIAAAAAAAAAAEAAAAAAAAAAAAAAAAAAAAAAAAAAAAAAAAAAAAAAAAAAAAY//8AAAAxYXZj\n",
       "QwFkABX/4QAYZ2QAFazZQbCWhAAAAwAQAAADACg8WLZYAQAGaOvjyyLAAAAAHHV1aWRraEDyXyRP\n",
       "xbo5pRvPAyPzAAAAAAAAABhzdHRzAAAAAAAAAAEAAAAeAAAgAAAAABRzdHNzAAAAAAAAAAEAAAAB\n",
       "AAAA8GN0dHMAAAAAAAAAHAAAAAEAAEAAAAAAAQAAgAAAAAACAAAgAAAAAAEAAKAAAAAAAQAAQAAA\n",
       "AAABAAAAAAAAAAEAACAAAAAAAQAAoAAAAAABAABAAAAAAAEAAAAAAAAAAQAAIAAAAAABAACgAAAA\n",
       "AAEAAEAAAAAAAQAAAAAAAAABAAAgAAAAAAEAAKAAAAAAAQAAQAAAAAABAAAAAAAAAAEAACAAAAAA\n",
       "AQAAoAAAAAABAABAAAAAAAEAAAAAAAAAAQAAIAAAAAABAACgAAAAAAEAAEAAAAAAAQAAAAAAAAAB\n",
       "AAAgAAAAAAIAAEAAAAAAHHN0c2MAAAAAAAAAAQAAAAEAAAAeAAAAAQAAAIxzdHN6AAAAAAAAAAAA\n",
       "AAAeAAAH2gAAAOoAAACtAAAAwgAAAQ4AAACAAAAAqAAAAGsAAADnAAAAYgAAAIgAAACIAAABHwAA\n",
       "ALcAAACBAAAAjwAAAMQAAABzAAAAlQAAAKsAAADGAAAAkgAAAL0AAAB2AAAA3AAAAIoAAAC0AAAA\n",
       "tgAAAMoAAACDAAAAFHN0Y28AAAAAAAAAAQAAACwAAABidWR0YQAAAFptZXRhAAAAAAAAACFoZGxy\n",
       "AAAAAAAAAABtZGlyYXBwbAAAAAAAAAAAAAAAAC1pbHN0AAAAJal0b28AAAAdZGF0YQAAAAEAAAAA\n",
       "TGF2ZjU4LjI5LjEwMA==\n",
       "\">\n",
       "  Your browser does not support the video tag.\n",
       "</video>"
      ],
      "text/plain": [
       "<IPython.core.display.HTML object>"
      ]
     },
     "execution_count": 12,
     "metadata": {},
     "output_type": "execute_result"
    }
   ],
   "source": [
    "experiment = animation.ArtistAnimation(fig, episode_images, interval=800, repeat=30000, blit=True)\n",
    "HTML(experiment.to_html5_video())"
   ]
  }
 ],
 "metadata": {
  "kernelspec": {
   "display_name": "Python 3 (ipykernel)",
   "language": "python",
   "name": "python3"
  },
  "language_info": {
   "codemirror_mode": {
    "name": "ipython",
    "version": 3
   },
   "file_extension": ".py",
   "mimetype": "text/x-python",
   "name": "python",
   "nbconvert_exporter": "python",
   "pygments_lexer": "ipython3",
   "version": "3.8.10"
  }
 },
 "nbformat": 4,
 "nbformat_minor": 5
}
