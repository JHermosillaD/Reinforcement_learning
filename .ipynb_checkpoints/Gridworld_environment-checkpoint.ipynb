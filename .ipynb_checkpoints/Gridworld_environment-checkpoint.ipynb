{
 "cells": [
  {
   "cell_type": "code",
   "execution_count": 1,
   "id": "55272f7a-396c-4a3c-8b71-752710d3b028",
   "metadata": {},
   "outputs": [],
   "source": [
    "import matplotlib.pyplot as plt\n",
    "import numpy as np"
   ]
  },
  {
   "cell_type": "code",
   "execution_count": 2,
   "id": "b6bb814b-aa29-48d9-8b51-e92f559b9410",
   "metadata": {},
   "outputs": [],
   "source": [
    "class GridWorld:\n",
    "  def __init__(self, grid_width = 5, grid_height = 5):\n",
    "    self.goodState1 = (0,1)\n",
    "    self.goodState2 = (0,3)\n",
    "    self.toState1 = (4,1)\n",
    "    self.toState2 = (2,3)\n",
    "    self.badState1 = (1,1)\n",
    "    self.badState2 = (4,4)\n",
    "    self.grid_width = grid_width\n",
    "    self.grid_height = grid_height\n",
    "\n",
    "  def next_move(self, action):\n",
    "    if (action == \"right\"):\n",
    "      return (0,1)\n",
    "    elif (action == \"left\"):\n",
    "      return (0,-1)\n",
    "    elif (action == \"down\"):\n",
    "      return (1,0)\n",
    "    elif (action == \"up\"):\n",
    "      return (-1,0)\n",
    "\t\n",
    "  def step(self, state, action):\n",
    "    next_state = tuple(map(lambda i, j: i + j, state, self.next_move(action)))\n",
    "    reward = 0\n",
    "    if (next_state[0] < 0 or next_state[1] < 0 or next_state[0] > 4 or next_state[1]> 4):\n",
    "      reward = -1\n",
    "      next_state = state\n",
    "    if (state == self.goodState1):\n",
    "      reward = 10\n",
    "      next_state = (4,1)\n",
    "    if (state == self.goodState2):\n",
    "      reward = 5\n",
    "      next_state = (2,3)\n",
    "    if (state == self.badState1 or state == self.badState2):\n",
    "       reward = -1\n",
    "\n",
    "    return next_state, reward\n",
    "\n",
    "  def Policy(self, state, action):\n",
    "    return 0.25"
   ]
  },
  {
   "cell_type": "code",
   "execution_count": 3,
   "id": "2cf5dd4e-1d55-4d2e-b512-aa92575f7a44",
   "metadata": {},
   "outputs": [],
   "source": [
    "env = GridWorld()\n",
    "\n",
    "P = np.zeros((env.grid_width * env.grid_height, env.grid_width * env.grid_height))\n",
    "R = np.zeros_like(P)\n",
    "possible_actions = [\"right\", \"left\", \"down\", \"up\"]\n",
    "\n",
    "for i in range(env.grid_height):\n",
    "    for j in range(env.grid_width):\n",
    "        state = (i, j)\n",
    "        for action in possible_actions:\n",
    "            next_state, reward = env.step(state, action)\n",
    "            (i_next, j_next) = next_state\n",
    "            P[i * env.grid_width + j, i_next * env.grid_width + j_next] += env.Policy(state, action)\n",
    "            R[i * env.grid_width + j, i_next * env.grid_width + j_next] = reward"
   ]
  },
  {
   "cell_type": "code",
   "execution_count": 4,
   "id": "582f2f06-f9bf-4f92-8b06-f113771661a7",
   "metadata": {},
   "outputs": [],
   "source": [
    "def Bellman_expectation(gamma, P_pi, R_pi):\n",
    "  return np.dot(np.linalg.inv(np.identity(25)-gamma*P_pi), R_pi)"
   ]
  },
  {
   "cell_type": "code",
   "execution_count": 5,
   "id": "3ce52b0e-0321-4764-a8dd-9e92d2b19da4",
   "metadata": {},
   "outputs": [],
   "source": [
    "def vis_matrix(grid):\n",
    "  fig, ax = plt.subplots()\n",
    "  ax.matshow(grid, cmap='seismic')\n",
    "  for (i, j), z in np.ndenumerate(grid):\n",
    "    ax.text(j, i, '{:0.2f}'.format(z), ha='center', va='center')\n",
    "  plt.show()"
   ]
  },
  {
   "cell_type": "code",
   "execution_count": 6,
   "id": "71140a81-7da0-4ef6-93f9-c15b294d4fc1",
   "metadata": {},
   "outputs": [],
   "source": [
    "R_e = np.sum(R*P, axis=1, keepdims=True)\n",
    "bellman_eqn = Bellman_expectation(0.9, P, R_e)\n",
    "grid_world = np.reshape(bellman_eqn, (5,5))"
   ]
  },
  {
   "cell_type": "code",
   "execution_count": 7,
   "id": "b660c401-fe7e-4538-8603-77100dcb27ff",
   "metadata": {},
   "outputs": [
    {
     "data": {
      "image/png": "[encoded data removed]",
      "text/plain": [
       "<Figure size 432x288 with 1 Axes>"
      ]
     },
     "metadata": {
      "needs_background": "light"
     },
     "output_type": "display_data"
    }
   ],
   "source": [
    "vis_matrix(grid_world)"
   ]
  },
  {
   "cell_type": "code",
   "execution_count": null,
   "id": "880b8546-18c3-40fc-8836-d303da92a477",
   "metadata": {},
   "outputs": [],
   "source": []
  }
 ],
 "metadata": {
  "kernelspec": {
   "display_name": "Python 3 (ipykernel)",
   "language": "python",
   "name": "python3"
  },
  "language_info": {
   "codemirror_mode": {
    "name": "ipython",
    "version": 3
   },
   "file_extension": ".py",
   "mimetype": "text/x-python",
   "name": "python",
   "nbconvert_exporter": "python",
   "pygments_lexer": "ipython3",
   "version": "3.8.10"
  }
 },
 "nbformat": 4,
 "nbformat_minor": 5
}
